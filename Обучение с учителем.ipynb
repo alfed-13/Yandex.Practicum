{
 "cells": [
  {
   "cell_type": "markdown",
   "id": "4e0d1a03",
   "metadata": {},
   "source": [
    "# Описание Проекта: Обучение с учителем: качество модели"
   ]
  },
  {
   "cell_type": "markdown",
   "id": "61fe5c67",
   "metadata": {},
   "source": [
    "## Описание проекта\n",
    "Интернет-магазин «В один клик» продаёт разные товары: для детей, для дома, мелкую бытовую технику, косметику и даже продукты. Отчёт магазина за прошлый период показал, что активность покупателей начала снижаться. Привлекать новых клиентов уже не так эффективно: о магазине и так знает большая часть целевой аудитории. Возможный выход — удерживать активность постоянных клиентов. Сделать это можно с помощью персонализированных предложений.\n",
    "\n",
    "«В один клик» — современная компания, поэтому её руководство не хочет принимать решения просто так — только на основе анализа данных и бизнес-моделирования. У компании есть небольшой отдел цифровых технологий, и вам предстоит побыть в роли стажёра в этом отделе. \n",
    "\n",
    "Итак, вашему отделу поручили разработать решение, которое позволит персонализировать предложения постоянным клиентам, чтобы увеличить их покупательскую активность."
   ]
  },
  {
   "cell_type": "markdown",
   "id": "c19c5609",
   "metadata": {},
   "source": [
    "## Как решать задачу\n",
    "\n",
    "Продумывать подход к решению этой задачи вам не придётся — руководитель отдела его уже сформировал:\n",
    "Нужно промаркировать уровень финансовой активности постоянных покупателей. В компании принято выделять два уровня активности: «снизилась», если клиент стал покупать меньше товаров, и «прежний уровень».\n",
    "\n",
    "Нужно собрать данные по клиентам по следующим группам:\n",
    "Признаки, которые описывают коммуникацию сотрудников компании с клиентом.\n",
    "Признаки, которые описывают продуктовое поведение покупателя. Например, какие товары покупает и как часто.\n",
    "Признаки, которые описывают покупательское поведение клиента. Например, сколько тратил в магазине.\n",
    "Признаки, которые описывают поведение покупателя на сайте. Например, как много страниц просматривает и сколько времени проводит на сайте.\n",
    "\n",
    "1. Нужно построить модель, которая предскажет вероятность снижения покупательской активности клиента в следующие три месяца.\n",
    "2. В исследование нужно включить дополнительные данные финансового департамента о прибыльности клиента: какой доход каждый покупатель приносил компании за последние три месяца.\n",
    "3. Используя данные модели и данные о прибыльности клиентов, нужно выделить сегменты покупателей и разработать для них персонализированные предложения.\n",
    "\n",
    "Руководство одобрило описание решения, и вам, как специалисту по DS, нужно его реализовать."
   ]
  },
  {
   "cell_type": "markdown",
   "id": "c2e96087",
   "metadata": {},
   "source": [
    "# Загрузка данных"
   ]
  },
  {
   "cell_type": "markdown",
   "id": "df9659aa",
   "metadata": {},
   "source": [
    "Загрузите данные и проверьте, что данные в таблицах соответствуют описанию.\n",
    "\n",
    "Файлы market_file.csv, market_money.csv, market_time.csv, money.csv доступны по ссылкам в описании данных или через пути к ним"
   ]
  },
  {
   "cell_type": "code",
   "execution_count": 1,
   "id": "b5679c64",
   "metadata": {},
   "outputs": [
    {
     "name": "stdout",
     "output_type": "stream",
     "text": [
      "Collecting shap\n",
      "  Downloading shap-0.46.0-cp39-cp39-manylinux_2_12_x86_64.manylinux2010_x86_64.manylinux_2_17_x86_64.manylinux2014_x86_64.whl (539 kB)\n",
      "\u001b[K     |████████████████████████████████| 539 kB 1.4 MB/s eta 0:00:01\n",
      "\u001b[?25hCollecting cloudpickle\n",
      "  Downloading cloudpickle-3.0.0-py3-none-any.whl (20 kB)\n",
      "Collecting slicer==0.0.8\n",
      "  Downloading slicer-0.0.8-py3-none-any.whl (15 kB)\n",
      "Requirement already satisfied: pandas in /opt/conda/lib/python3.9/site-packages (from shap) (1.2.4)\n",
      "Requirement already satisfied: numba in /opt/conda/lib/python3.9/site-packages (from shap) (0.56.0)\n",
      "Requirement already satisfied: numpy in /opt/conda/lib/python3.9/site-packages (from shap) (1.21.1)\n",
      "Requirement already satisfied: tqdm>=4.27.0 in /opt/conda/lib/python3.9/site-packages (from shap) (4.61.2)\n",
      "Requirement already satisfied: scipy in /opt/conda/lib/python3.9/site-packages (from shap) (1.9.1)\n",
      "Requirement already satisfied: packaging>20.9 in /opt/conda/lib/python3.9/site-packages (from shap) (21.3)\n",
      "Requirement already satisfied: scikit-learn in /opt/conda/lib/python3.9/site-packages (from shap) (0.24.1)\n",
      "Requirement already satisfied: pyparsing!=3.0.5,>=2.0.2 in /opt/conda/lib/python3.9/site-packages (from packaging>20.9->shap) (2.4.7)\n",
      "Requirement already satisfied: llvmlite<0.40,>=0.39.0dev0 in /opt/conda/lib/python3.9/site-packages (from numba->shap) (0.39.0)\n",
      "Requirement already satisfied: setuptools in /opt/conda/lib/python3.9/site-packages (from numba->shap) (49.6.0.post20210108)\n",
      "Requirement already satisfied: python-dateutil>=2.7.3 in /opt/conda/lib/python3.9/site-packages (from pandas->shap) (2.8.1)\n",
      "Requirement already satisfied: pytz>=2017.3 in /opt/conda/lib/python3.9/site-packages (from pandas->shap) (2021.1)\n",
      "Requirement already satisfied: six>=1.5 in /opt/conda/lib/python3.9/site-packages (from python-dateutil>=2.7.3->pandas->shap) (1.16.0)\n",
      "Requirement already satisfied: joblib>=0.11 in /opt/conda/lib/python3.9/site-packages (from scikit-learn->shap) (1.1.0)\n",
      "Requirement already satisfied: threadpoolctl>=2.0.0 in /opt/conda/lib/python3.9/site-packages (from scikit-learn->shap) (3.1.0)\n",
      "Installing collected packages: slicer, cloudpickle, shap\n",
      "Successfully installed cloudpickle-3.0.0 shap-0.46.0 slicer-0.0.8\n",
      "Requirement already satisfied: scikit-learn in /opt/conda/lib/python3.9/site-packages (0.24.1)\n",
      "Collecting scikit-learn\n",
      "  Downloading scikit_learn-1.5.1-cp39-cp39-manylinux_2_17_x86_64.manylinux2014_x86_64.whl (13.4 MB)\n",
      "\u001b[K     |████████████████████████████████| 13.4 MB 1.3 MB/s eta 0:00:01\n",
      "\u001b[?25hRequirement already satisfied: scipy>=1.6.0 in /opt/conda/lib/python3.9/site-packages (from scikit-learn) (1.9.1)\n",
      "Requirement already satisfied: threadpoolctl>=3.1.0 in /opt/conda/lib/python3.9/site-packages (from scikit-learn) (3.1.0)\n",
      "Collecting joblib>=1.2.0\n",
      "  Downloading joblib-1.4.2-py3-none-any.whl (301 kB)\n",
      "\u001b[K     |████████████████████████████████| 301 kB 63.1 MB/s eta 0:00:01\n",
      "\u001b[?25hRequirement already satisfied: numpy>=1.19.5 in /opt/conda/lib/python3.9/site-packages (from scikit-learn) (1.21.1)\n",
      "Installing collected packages: joblib, scikit-learn\n",
      "  Attempting uninstall: joblib\n",
      "    Found existing installation: joblib 1.1.0\n",
      "    Uninstalling joblib-1.1.0:\n",
      "      Successfully uninstalled joblib-1.1.0\n",
      "  Attempting uninstall: scikit-learn\n",
      "    Found existing installation: scikit-learn 0.24.1\n",
      "    Uninstalling scikit-learn-0.24.1:\n",
      "      Successfully uninstalled scikit-learn-0.24.1\n",
      "Successfully installed joblib-1.4.2 scikit-learn-1.5.1\n"
     ]
    }
   ],
   "source": [
    "!pip install shap\n",
    "!pip install --upgrade scikit-learn\n",
    "!pip install matplotlib==3.5.0 -q"
   ]
  },
  {
   "cell_type": "code",
   "execution_count": 2,
   "id": "0ace000a",
   "metadata": {},
   "outputs": [],
   "source": [
    "# Импортируем необходимые библиотеки\n",
    "import pandas as pd\n",
    "import seaborn as sns\n",
    "import matplotlib.pyplot as plt\n",
    "import shap\n",
    "import numpy as np\n",
    "from sklearn.preprocessing import LabelEncoder\n",
    "from statsmodels.stats.outliers_influence import variance_inflation_factor\n",
    "import statsmodels.api as sm\n",
    "from sklearn.compose import ColumnTransformer, make_column_selector\n",
    "from sklearn.pipeline import Pipeline\n",
    "from sklearn.preprocessing import StandardScaler, MinMaxScaler, OneHotEncoder, OrdinalEncoder\n",
    "from sklearn.neighbors import KNeighborsClassifier\n",
    "from sklearn.tree import DecisionTreeClassifier\n",
    "from sklearn.linear_model import LogisticRegression\n",
    "from sklearn.svm import SVC\n",
    "from sklearn.model_selection import train_test_split, GridSearchCV, RandomizedSearchCV\n",
    "from sklearn.metrics import accuracy_score, roc_auc_score"
   ]
  },
  {
   "cell_type": "code",
   "execution_count": 3,
   "id": "7bda8887",
   "metadata": {},
   "outputs": [
    {
     "data": {
      "text/html": [
       "<div>\n",
       "<style scoped>\n",
       "    .dataframe tbody tr th:only-of-type {\n",
       "        vertical-align: middle;\n",
       "    }\n",
       "\n",
       "    .dataframe tbody tr th {\n",
       "        vertical-align: top;\n",
       "    }\n",
       "\n",
       "    .dataframe thead th {\n",
       "        text-align: right;\n",
       "    }\n",
       "</style>\n",
       "<table border=\"1\" class=\"dataframe\">\n",
       "  <thead>\n",
       "    <tr style=\"text-align: right;\">\n",
       "      <th></th>\n",
       "      <th>id</th>\n",
       "      <th>Покупательская активность</th>\n",
       "      <th>Тип сервиса</th>\n",
       "      <th>Разрешить сообщать</th>\n",
       "      <th>Маркет_актив_6_мес</th>\n",
       "      <th>Маркет_актив_тек_мес</th>\n",
       "      <th>Длительность</th>\n",
       "      <th>Акционные_покупки</th>\n",
       "      <th>Популярная_категория</th>\n",
       "      <th>Средний_просмотр_категорий_за_визит</th>\n",
       "      <th>Неоплаченные_продукты_штук_квартал</th>\n",
       "      <th>Ошибка_сервиса</th>\n",
       "      <th>Страниц_за_визит</th>\n",
       "    </tr>\n",
       "  </thead>\n",
       "  <tbody>\n",
       "    <tr>\n",
       "      <th>0</th>\n",
       "      <td>215348</td>\n",
       "      <td>Снизилась</td>\n",
       "      <td>премиум</td>\n",
       "      <td>да</td>\n",
       "      <td>3.4</td>\n",
       "      <td>5</td>\n",
       "      <td>121</td>\n",
       "      <td>0.00</td>\n",
       "      <td>Товары для детей</td>\n",
       "      <td>6</td>\n",
       "      <td>2</td>\n",
       "      <td>1</td>\n",
       "      <td>5</td>\n",
       "    </tr>\n",
       "    <tr>\n",
       "      <th>1</th>\n",
       "      <td>215349</td>\n",
       "      <td>Снизилась</td>\n",
       "      <td>премиум</td>\n",
       "      <td>да</td>\n",
       "      <td>4.4</td>\n",
       "      <td>4</td>\n",
       "      <td>819</td>\n",
       "      <td>0.75</td>\n",
       "      <td>Товары для детей</td>\n",
       "      <td>4</td>\n",
       "      <td>4</td>\n",
       "      <td>2</td>\n",
       "      <td>5</td>\n",
       "    </tr>\n",
       "    <tr>\n",
       "      <th>2</th>\n",
       "      <td>215350</td>\n",
       "      <td>Снизилась</td>\n",
       "      <td>стандартт</td>\n",
       "      <td>нет</td>\n",
       "      <td>4.9</td>\n",
       "      <td>3</td>\n",
       "      <td>539</td>\n",
       "      <td>0.14</td>\n",
       "      <td>Домашний текстиль</td>\n",
       "      <td>5</td>\n",
       "      <td>2</td>\n",
       "      <td>1</td>\n",
       "      <td>5</td>\n",
       "    </tr>\n",
       "    <tr>\n",
       "      <th>3</th>\n",
       "      <td>215351</td>\n",
       "      <td>Снизилась</td>\n",
       "      <td>стандартт</td>\n",
       "      <td>да</td>\n",
       "      <td>3.2</td>\n",
       "      <td>5</td>\n",
       "      <td>896</td>\n",
       "      <td>0.99</td>\n",
       "      <td>Товары для детей</td>\n",
       "      <td>5</td>\n",
       "      <td>0</td>\n",
       "      <td>6</td>\n",
       "      <td>4</td>\n",
       "    </tr>\n",
       "    <tr>\n",
       "      <th>4</th>\n",
       "      <td>215352</td>\n",
       "      <td>Снизилась</td>\n",
       "      <td>стандартт</td>\n",
       "      <td>нет</td>\n",
       "      <td>5.1</td>\n",
       "      <td>3</td>\n",
       "      <td>1064</td>\n",
       "      <td>0.94</td>\n",
       "      <td>Товары для детей</td>\n",
       "      <td>3</td>\n",
       "      <td>2</td>\n",
       "      <td>3</td>\n",
       "      <td>2</td>\n",
       "    </tr>\n",
       "  </tbody>\n",
       "</table>\n",
       "</div>"
      ],
      "text/plain": [
       "       id Покупательская активность Тип сервиса Разрешить сообщать  \\\n",
       "0  215348                 Снизилась     премиум                 да   \n",
       "1  215349                 Снизилась     премиум                 да   \n",
       "2  215350                 Снизилась   стандартт                нет   \n",
       "3  215351                 Снизилась   стандартт                 да   \n",
       "4  215352                 Снизилась   стандартт                нет   \n",
       "\n",
       "   Маркет_актив_6_мес  Маркет_актив_тек_мес  Длительность  Акционные_покупки  \\\n",
       "0                 3.4                     5           121               0.00   \n",
       "1                 4.4                     4           819               0.75   \n",
       "2                 4.9                     3           539               0.14   \n",
       "3                 3.2                     5           896               0.99   \n",
       "4                 5.1                     3          1064               0.94   \n",
       "\n",
       "  Популярная_категория  Средний_просмотр_категорий_за_визит  \\\n",
       "0     Товары для детей                                    6   \n",
       "1     Товары для детей                                    4   \n",
       "2    Домашний текстиль                                    5   \n",
       "3     Товары для детей                                    5   \n",
       "4     Товары для детей                                    3   \n",
       "\n",
       "   Неоплаченные_продукты_штук_квартал  Ошибка_сервиса  Страниц_за_визит  \n",
       "0                                   2               1                 5  \n",
       "1                                   4               2                 5  \n",
       "2                                   2               1                 5  \n",
       "3                                   0               6                 4  \n",
       "4                                   2               3                 2  "
      ]
     },
     "metadata": {},
     "output_type": "display_data"
    },
    {
     "data": {
      "text/html": [
       "<div>\n",
       "<style scoped>\n",
       "    .dataframe tbody tr th:only-of-type {\n",
       "        vertical-align: middle;\n",
       "    }\n",
       "\n",
       "    .dataframe tbody tr th {\n",
       "        vertical-align: top;\n",
       "    }\n",
       "\n",
       "    .dataframe thead th {\n",
       "        text-align: right;\n",
       "    }\n",
       "</style>\n",
       "<table border=\"1\" class=\"dataframe\">\n",
       "  <thead>\n",
       "    <tr style=\"text-align: right;\">\n",
       "      <th></th>\n",
       "      <th>id</th>\n",
       "      <th>Период</th>\n",
       "      <th>Выручка</th>\n",
       "    </tr>\n",
       "  </thead>\n",
       "  <tbody>\n",
       "    <tr>\n",
       "      <th>0</th>\n",
       "      <td>215348</td>\n",
       "      <td>препредыдущий_месяц</td>\n",
       "      <td>0.0</td>\n",
       "    </tr>\n",
       "    <tr>\n",
       "      <th>1</th>\n",
       "      <td>215348</td>\n",
       "      <td>текущий_месяц</td>\n",
       "      <td>3293.1</td>\n",
       "    </tr>\n",
       "    <tr>\n",
       "      <th>2</th>\n",
       "      <td>215348</td>\n",
       "      <td>предыдущий_месяц</td>\n",
       "      <td>0.0</td>\n",
       "    </tr>\n",
       "    <tr>\n",
       "      <th>3</th>\n",
       "      <td>215349</td>\n",
       "      <td>препредыдущий_месяц</td>\n",
       "      <td>4472.0</td>\n",
       "    </tr>\n",
       "    <tr>\n",
       "      <th>4</th>\n",
       "      <td>215349</td>\n",
       "      <td>текущий_месяц</td>\n",
       "      <td>4971.6</td>\n",
       "    </tr>\n",
       "  </tbody>\n",
       "</table>\n",
       "</div>"
      ],
      "text/plain": [
       "       id               Период  Выручка\n",
       "0  215348  препредыдущий_месяц      0.0\n",
       "1  215348        текущий_месяц   3293.1\n",
       "2  215348     предыдущий_месяц      0.0\n",
       "3  215349  препредыдущий_месяц   4472.0\n",
       "4  215349        текущий_месяц   4971.6"
      ]
     },
     "metadata": {},
     "output_type": "display_data"
    },
    {
     "data": {
      "text/html": [
       "<div>\n",
       "<style scoped>\n",
       "    .dataframe tbody tr th:only-of-type {\n",
       "        vertical-align: middle;\n",
       "    }\n",
       "\n",
       "    .dataframe tbody tr th {\n",
       "        vertical-align: top;\n",
       "    }\n",
       "\n",
       "    .dataframe thead th {\n",
       "        text-align: right;\n",
       "    }\n",
       "</style>\n",
       "<table border=\"1\" class=\"dataframe\">\n",
       "  <thead>\n",
       "    <tr style=\"text-align: right;\">\n",
       "      <th></th>\n",
       "      <th>id</th>\n",
       "      <th>Период</th>\n",
       "      <th>минут</th>\n",
       "    </tr>\n",
       "  </thead>\n",
       "  <tbody>\n",
       "    <tr>\n",
       "      <th>0</th>\n",
       "      <td>215348</td>\n",
       "      <td>текущий_месяц</td>\n",
       "      <td>14</td>\n",
       "    </tr>\n",
       "    <tr>\n",
       "      <th>1</th>\n",
       "      <td>215348</td>\n",
       "      <td>предыдцщий_месяц</td>\n",
       "      <td>13</td>\n",
       "    </tr>\n",
       "    <tr>\n",
       "      <th>2</th>\n",
       "      <td>215349</td>\n",
       "      <td>текущий_месяц</td>\n",
       "      <td>10</td>\n",
       "    </tr>\n",
       "    <tr>\n",
       "      <th>3</th>\n",
       "      <td>215349</td>\n",
       "      <td>предыдцщий_месяц</td>\n",
       "      <td>12</td>\n",
       "    </tr>\n",
       "    <tr>\n",
       "      <th>4</th>\n",
       "      <td>215350</td>\n",
       "      <td>текущий_месяц</td>\n",
       "      <td>13</td>\n",
       "    </tr>\n",
       "  </tbody>\n",
       "</table>\n",
       "</div>"
      ],
      "text/plain": [
       "       id            Период  минут\n",
       "0  215348     текущий_месяц     14\n",
       "1  215348  предыдцщий_месяц     13\n",
       "2  215349     текущий_месяц     10\n",
       "3  215349  предыдцщий_месяц     12\n",
       "4  215350     текущий_месяц     13"
      ]
     },
     "metadata": {},
     "output_type": "display_data"
    },
    {
     "data": {
      "text/html": [
       "<div>\n",
       "<style scoped>\n",
       "    .dataframe tbody tr th:only-of-type {\n",
       "        vertical-align: middle;\n",
       "    }\n",
       "\n",
       "    .dataframe tbody tr th {\n",
       "        vertical-align: top;\n",
       "    }\n",
       "\n",
       "    .dataframe thead th {\n",
       "        text-align: right;\n",
       "    }\n",
       "</style>\n",
       "<table border=\"1\" class=\"dataframe\">\n",
       "  <thead>\n",
       "    <tr style=\"text-align: right;\">\n",
       "      <th></th>\n",
       "      <th>id</th>\n",
       "      <th>Прибыль</th>\n",
       "    </tr>\n",
       "  </thead>\n",
       "  <tbody>\n",
       "    <tr>\n",
       "      <th>0</th>\n",
       "      <td>215348</td>\n",
       "      <td>0.98</td>\n",
       "    </tr>\n",
       "    <tr>\n",
       "      <th>1</th>\n",
       "      <td>215349</td>\n",
       "      <td>4.16</td>\n",
       "    </tr>\n",
       "    <tr>\n",
       "      <th>2</th>\n",
       "      <td>215350</td>\n",
       "      <td>3.13</td>\n",
       "    </tr>\n",
       "    <tr>\n",
       "      <th>3</th>\n",
       "      <td>215351</td>\n",
       "      <td>4.87</td>\n",
       "    </tr>\n",
       "    <tr>\n",
       "      <th>4</th>\n",
       "      <td>215352</td>\n",
       "      <td>4.21</td>\n",
       "    </tr>\n",
       "  </tbody>\n",
       "</table>\n",
       "</div>"
      ],
      "text/plain": [
       "       id Прибыль\n",
       "0  215348    0.98\n",
       "1  215349    4.16\n",
       "2  215350    3.13\n",
       "3  215351    4.87\n",
       "4  215352    4.21"
      ]
     },
     "metadata": {},
     "output_type": "display_data"
    }
   ],
   "source": [
    "# Загрузим исходные данные в датафреймы\n",
    "\n",
    "try:\n",
    "    market_file = pd.read_csv('market_file.csv')\n",
    "    market_money = pd.read_csv('market_money.csv')\n",
    "    market_time = pd.read_csv('market_time.csv')\n",
    "    money = pd.read_csv('money.csv', sep=';')\n",
    "except:\n",
    "    market_file = pd.read_csv('/datasets/market_file.csv')\n",
    "    market_money = pd.read_csv('/datasets/market_money.csv')\n",
    "    market_time = pd.read_csv('/datasets/market_time.csv')\n",
    "    money = pd.read_csv('/datasets/money.csv', sep=';')\n",
    "\n",
    "# Заменим запятые на точки в столбце 'Прибыль'\n",
    "money['Прибыль'] = money['Прибыль'].astype(str).str.replace(',', '.')\n",
    "\n",
    "# Посмотрим на данные\n",
    "display(market_file.head())\n",
    "display(market_money.head())\n",
    "display(market_time.head())\n",
    "display(money.head())"
   ]
  },
  {
   "cell_type": "markdown",
   "id": "9df9934e",
   "metadata": {},
   "source": [
    "# Предобработка данных\n",
    "\n",
    "Проведите необходимую предобработку данных. Названия столбцов можно оставить кириллическими."
   ]
  },
  {
   "cell_type": "code",
   "execution_count": 4,
   "id": "df962394",
   "metadata": {},
   "outputs": [
    {
     "name": "stdout",
     "output_type": "stream",
     "text": [
      "id                                       int64\n",
      "Покупательская активность               object\n",
      "Тип сервиса                             object\n",
      "Разрешить сообщать                      object\n",
      "Маркет_актив_6_мес                     float64\n",
      "Маркет_актив_тек_мес                     int64\n",
      "Длительность                             int64\n",
      "Акционные_покупки                      float64\n",
      "Популярная_категория                    object\n",
      "Средний_просмотр_категорий_за_визит      int64\n",
      "Неоплаченные_продукты_штук_квартал       int64\n",
      "Ошибка_сервиса                           int64\n",
      "Страниц_за_визит                         int64\n",
      "dtype: object\n",
      "\n",
      "id           int64\n",
      "Период      object\n",
      "Выручка    float64\n",
      "dtype: object\n",
      "\n",
      "id         int64\n",
      "Период    object\n",
      "минут      int64\n",
      "dtype: object\n",
      "\n",
      "id          int64\n",
      "Прибыль    object\n",
      "dtype: object\n"
     ]
    }
   ],
   "source": [
    "# Проверим правильность типов данных\n",
    "print(market_file.dtypes)\n",
    "print()\n",
    "print(market_money.dtypes)\n",
    "print() \n",
    "print(market_time.dtypes)\n",
    "print() \n",
    "print(money.dtypes)"
   ]
  },
  {
   "cell_type": "code",
   "execution_count": 5,
   "id": "a120ed3d",
   "metadata": {},
   "outputs": [
    {
     "name": "stdout",
     "output_type": "stream",
     "text": [
      "id           int64\n",
      "Прибыль    float64\n",
      "dtype: object\n"
     ]
    }
   ],
   "source": [
    "# В датафрейме money заменим тип данных на float64 в столбце Прибыль\n",
    "money['Прибыль'] = money['Прибыль'].astype('float64')\n",
    "\n",
    "# Проверим правильность типов данных\n",
    "print(money.dtypes)"
   ]
  },
  {
   "cell_type": "code",
   "execution_count": 6,
   "id": "a17367e4",
   "metadata": {},
   "outputs": [
    {
     "name": "stdout",
     "output_type": "stream",
     "text": [
      "id                                     0\n",
      "Покупательская активность              0\n",
      "Тип сервиса                            0\n",
      "Разрешить сообщать                     0\n",
      "Маркет_актив_6_мес                     0\n",
      "Маркет_актив_тек_мес                   0\n",
      "Длительность                           0\n",
      "Акционные_покупки                      0\n",
      "Популярная_категория                   0\n",
      "Средний_просмотр_категорий_за_визит    0\n",
      "Неоплаченные_продукты_штук_квартал     0\n",
      "Ошибка_сервиса                         0\n",
      "Страниц_за_визит                       0\n",
      "dtype: int64\n",
      "\n",
      "id         0\n",
      "Период     0\n",
      "Выручка    0\n",
      "dtype: int64\n",
      "\n",
      "id        0\n",
      "Период    0\n",
      "минут     0\n",
      "dtype: int64\n",
      "\n",
      "id         0\n",
      "Прибыль    0\n",
      "dtype: int64\n"
     ]
    }
   ],
   "source": [
    "# Проверим наличие пропусков\n",
    "print(market_file.isna().sum())\n",
    "print()\n",
    "print(market_money.isna().sum())\n",
    "print()\n",
    "print(market_time.isna().sum())\n",
    "print()\n",
    "print(money.isna().sum())\n"
   ]
  },
  {
   "cell_type": "code",
   "execution_count": 7,
   "id": "35e2e259",
   "metadata": {},
   "outputs": [
    {
     "name": "stdout",
     "output_type": "stream",
     "text": [
      "0\n",
      "\n",
      "0\n",
      "\n",
      "0\n",
      "\n",
      "0\n"
     ]
    }
   ],
   "source": [
    "# Проверим наличие явных дубликатов\n",
    "print(market_file.duplicated().sum())\n",
    "print()\n",
    "print(market_money.duplicated().sum())\n",
    "print()\n",
    "print(market_time.duplicated().sum())\n",
    "print()\n",
    "print(money.duplicated().sum())"
   ]
  },
  {
   "cell_type": "code",
   "execution_count": 8,
   "id": "0f879308",
   "metadata": {},
   "outputs": [
    {
     "name": "stdout",
     "output_type": "stream",
     "text": [
      "id                                     1300\n",
      "Покупательская активность                 2\n",
      "Тип сервиса                               3\n",
      "Разрешить сообщать                        2\n",
      "Маркет_актив_6_мес                       41\n",
      "Маркет_актив_тек_мес                      3\n",
      "Длительность                            658\n",
      "Акционные_покупки                        42\n",
      "Популярная_категория                      6\n",
      "Средний_просмотр_категорий_за_визит       6\n",
      "Неоплаченные_продукты_штук_квартал       11\n",
      "Ошибка_сервиса                           10\n",
      "Страниц_за_визит                         20\n",
      "dtype: int64\n",
      "\n",
      "id         1300\n",
      "Период        3\n",
      "Выручка    2776\n",
      "dtype: int64\n",
      "\n",
      "id        1300\n",
      "Период       2\n",
      "минут       20\n",
      "dtype: int64\n",
      "\n",
      "id         1300\n",
      "Прибыль     400\n",
      "dtype: int64\n"
     ]
    }
   ],
   "source": [
    "# Проверим наличие неявных дубликатов\n",
    "print(market_file.nunique())\n",
    "print()\n",
    "print(market_money.nunique())\n",
    "print()\n",
    "print(market_time.nunique())\n",
    "print()\n",
    "print(money.nunique())\n"
   ]
  },
  {
   "cell_type": "code",
   "execution_count": 9,
   "id": "391248da",
   "metadata": {},
   "outputs": [
    {
     "name": "stdout",
     "output_type": "stream",
     "text": [
      "['премиум' 'стандартт' 'стандарт']\n",
      "\n",
      "['Товары для детей' 'Домашний текстиль' 'Косметика и аксесуары'\n",
      " 'Техника для красоты и здоровья' 'Кухонная посуда'\n",
      " 'Мелкая бытовая техника и электроника']\n",
      "\n",
      "['препредыдущий_месяц' 'текущий_месяц' 'предыдущий_месяц']\n"
     ]
    }
   ],
   "source": [
    "# Выведем уникальные значения в столбцах: \"Тип сервиса\", \"Популярная категория\", \"Период\"\n",
    "print(market_file['Тип сервиса'].unique())\n",
    "print()\n",
    "print(market_file['Популярная_категория'].unique())\n",
    "print()\n",
    "print(market_money['Период'].unique())"
   ]
  },
  {
   "cell_type": "code",
   "execution_count": 10,
   "id": "81d7f830",
   "metadata": {},
   "outputs": [],
   "source": [
    "# Исправим опечатку - вместо \"стандартт\" в столбце \"Популярная категория\" заменим на \"стандарт\"\n",
    "market_file['Популярная_категория'] = market_file['Популярная_категория'].str.replace('стандартт', 'стандарт')\n",
    "\n",
    "# Исправим опечатку - вместо \"стандартт\" в столбце \"Тип сервиса\" заменим на \"стандарт\"\n",
    "market_file['Тип сервиса'] = market_file['Тип сервиса'].str.replace('стандартт', 'стандарт')\n",
    "\n",
    "# Переименуем столбцы: \"Покупательская активность\" в \"Покупательская_активность\", \"Разрешить сообщать\" в \"Разрешить_сообщать\", \"Тип сервиса\" в \"Тип_сервиса\"\n",
    "market_file.rename(columns={\n",
    "    'Покупательская активность': 'Покупательская_активность',\n",
    "    'Разрешить сообщать': 'Разрешить_сообщать',\n",
    "    'Тип сервиса': 'Тип_сервиса'\n",
    "}, inplace=True)"
   ]
  },
  {
   "cell_type": "code",
   "execution_count": 11,
   "id": "18244804",
   "metadata": {},
   "outputs": [
    {
     "name": "stdout",
     "output_type": "stream",
     "text": [
      "count    1300.000000\n",
      "mean        4.253769\n",
      "std         1.014814\n",
      "min         0.900000\n",
      "25%         3.700000\n",
      "50%         4.200000\n",
      "75%         4.900000\n",
      "max         6.600000\n",
      "Name: Маркет_актив_6_мес, dtype: float64\n",
      "\n",
      "count    1300.000000\n",
      "mean      601.898462\n",
      "std       249.856289\n",
      "min       110.000000\n",
      "25%       405.500000\n",
      "50%       606.000000\n",
      "75%       806.000000\n",
      "max      1079.000000\n",
      "Name: Длительность, dtype: float64\n",
      "\n",
      "count    1300.000000\n",
      "mean        0.319808\n",
      "std         0.249843\n",
      "min         0.000000\n",
      "25%         0.170000\n",
      "50%         0.240000\n",
      "75%         0.300000\n",
      "max         0.990000\n",
      "Name: Акционные_покупки, dtype: float64\n",
      "\n",
      "count    1300.000000\n",
      "mean        2.840000\n",
      "std         1.971451\n",
      "min         0.000000\n",
      "25%         1.000000\n",
      "50%         3.000000\n",
      "75%         4.000000\n",
      "max        10.000000\n",
      "Name: Неоплаченные_продукты_штук_квартал, dtype: float64\n",
      "\n",
      "count    1300.000000\n",
      "mean        4.185385\n",
      "std         1.955298\n",
      "min         0.000000\n",
      "25%         3.000000\n",
      "50%         4.000000\n",
      "75%         6.000000\n",
      "max         9.000000\n",
      "Name: Ошибка_сервиса, dtype: float64\n",
      "\n",
      "count    1300.000000\n",
      "mean        8.176923\n",
      "std         3.978126\n",
      "min         1.000000\n",
      "25%         5.000000\n",
      "50%         8.000000\n",
      "75%        11.000000\n",
      "max        20.000000\n",
      "Name: Страниц_за_визит, dtype: float64\n"
     ]
    }
   ],
   "source": [
    "# Проверим наличие выбросов в датафрейме market_file\n",
    "print(market_file['Маркет_актив_6_мес'].describe())\n",
    "print()\n",
    "print(market_file['Длительность'].describe())\n",
    "print()\n",
    "print(market_file['Акционные_покупки'].describe())\n",
    "print()\n",
    "print(market_file['Неоплаченные_продукты_штук_квартал'].describe())\n",
    "print()\n",
    "print(market_file['Ошибка_сервиса'].describe())\n",
    "print()\n",
    "print(market_file['Страниц_за_визит'].describe())"
   ]
  },
  {
   "cell_type": "code",
   "execution_count": 12,
   "id": "b24efffb",
   "metadata": {},
   "outputs": [
    {
     "name": "stdout",
     "output_type": "stream",
     "text": [
      "count      3900.000000\n",
      "mean       5025.696051\n",
      "std        1777.704104\n",
      "min           0.000000\n",
      "25%        4590.150000\n",
      "50%        4957.500000\n",
      "75%        5363.000000\n",
      "max      106862.200000\n",
      "Name: Выручка, dtype: float64\n"
     ]
    },
    {
     "data": {
      "image/png": "[encoded data removed]",
      "text/plain": [
       "<Figure size 432x288 with 1 Axes>"
      ]
     },
     "metadata": {
      "needs_background": "light"
     },
     "output_type": "display_data"
    }
   ],
   "source": [
    "# Проверим наличие выбросов в датафрейме market_money\n",
    "print(market_money['Выручка'].describe())\n",
    "\n",
    "# Построим диаграмму ящик с усами для столбца \"Выручка\" в датафрейме market_money\n",
    "sns.boxplot(data=market_money, x='Выручка')\n",
    "plt.title('Диаграмма ящик с усами для столбца \"Выручка\" в датафрейме market_money')\n",
    "plt.xlabel('Выручка')\n",
    "plt.ylabel('Количество')\n",
    "plt.show()"
   ]
  },
  {
   "cell_type": "code",
   "execution_count": 13,
   "id": "2c6d14e2",
   "metadata": {},
   "outputs": [
    {
     "name": "stdout",
     "output_type": "stream",
     "text": [
      "215380\n"
     ]
    }
   ],
   "source": [
    "# Найдем id покупателя с наибольшей выручкой\n",
    "print(market_money['id'].loc[market_money['Выручка'].idxmax()])\n"
   ]
  },
  {
   "cell_type": "code",
   "execution_count": 14,
   "id": "d7b7f4d1",
   "metadata": {},
   "outputs": [
    {
     "data": {
      "text/html": [
       "<div>\n",
       "<style scoped>\n",
       "    .dataframe tbody tr th:only-of-type {\n",
       "        vertical-align: middle;\n",
       "    }\n",
       "\n",
       "    .dataframe tbody tr th {\n",
       "        vertical-align: top;\n",
       "    }\n",
       "\n",
       "    .dataframe thead th {\n",
       "        text-align: right;\n",
       "    }\n",
       "</style>\n",
       "<table border=\"1\" class=\"dataframe\">\n",
       "  <thead>\n",
       "    <tr style=\"text-align: right;\">\n",
       "      <th></th>\n",
       "      <th>id</th>\n",
       "      <th>Покупательская_активность</th>\n",
       "      <th>Тип_сервиса</th>\n",
       "      <th>Разрешить_сообщать</th>\n",
       "      <th>Маркет_актив_6_мес</th>\n",
       "      <th>Маркет_актив_тек_мес</th>\n",
       "      <th>Длительность</th>\n",
       "      <th>Акционные_покупки</th>\n",
       "      <th>Популярная_категория</th>\n",
       "      <th>Средний_просмотр_категорий_за_визит</th>\n",
       "      <th>Неоплаченные_продукты_штук_квартал</th>\n",
       "      <th>Ошибка_сервиса</th>\n",
       "      <th>Страниц_за_визит</th>\n",
       "    </tr>\n",
       "  </thead>\n",
       "  <tbody>\n",
       "    <tr>\n",
       "      <th>32</th>\n",
       "      <td>215380</td>\n",
       "      <td>Снизилась</td>\n",
       "      <td>премиум</td>\n",
       "      <td>нет</td>\n",
       "      <td>1.7</td>\n",
       "      <td>4</td>\n",
       "      <td>637</td>\n",
       "      <td>0.94</td>\n",
       "      <td>Техника для красоты и здоровья</td>\n",
       "      <td>3</td>\n",
       "      <td>2</td>\n",
       "      <td>4</td>\n",
       "      <td>7</td>\n",
       "    </tr>\n",
       "  </tbody>\n",
       "</table>\n",
       "</div>"
      ],
      "text/plain": [
       "        id Покупательская_активность Тип_сервиса Разрешить_сообщать  \\\n",
       "32  215380                 Снизилась     премиум                нет   \n",
       "\n",
       "    Маркет_актив_6_мес  Маркет_актив_тек_мес  Длительность  Акционные_покупки  \\\n",
       "32                 1.7                     4           637               0.94   \n",
       "\n",
       "              Популярная_категория  Средний_просмотр_категорий_за_визит  \\\n",
       "32  Техника для красоты и здоровья                                    3   \n",
       "\n",
       "    Неоплаченные_продукты_штук_квартал  Ошибка_сервиса  Страниц_за_визит  \n",
       "32                                   2               4                 7  "
      ]
     },
     "metadata": {},
     "output_type": "display_data"
    },
    {
     "data": {
      "text/html": [
       "<div>\n",
       "<style scoped>\n",
       "    .dataframe tbody tr th:only-of-type {\n",
       "        vertical-align: middle;\n",
       "    }\n",
       "\n",
       "    .dataframe tbody tr th {\n",
       "        vertical-align: top;\n",
       "    }\n",
       "\n",
       "    .dataframe thead th {\n",
       "        text-align: right;\n",
       "    }\n",
       "</style>\n",
       "<table border=\"1\" class=\"dataframe\">\n",
       "  <thead>\n",
       "    <tr style=\"text-align: right;\">\n",
       "      <th></th>\n",
       "      <th>id</th>\n",
       "      <th>Период</th>\n",
       "      <th>минут</th>\n",
       "    </tr>\n",
       "  </thead>\n",
       "  <tbody>\n",
       "    <tr>\n",
       "      <th>64</th>\n",
       "      <td>215380</td>\n",
       "      <td>предыдцщий_месяц</td>\n",
       "      <td>12</td>\n",
       "    </tr>\n",
       "    <tr>\n",
       "      <th>65</th>\n",
       "      <td>215380</td>\n",
       "      <td>текущий_месяц</td>\n",
       "      <td>14</td>\n",
       "    </tr>\n",
       "  </tbody>\n",
       "</table>\n",
       "</div>"
      ],
      "text/plain": [
       "        id            Период  минут\n",
       "64  215380  предыдцщий_месяц     12\n",
       "65  215380     текущий_месяц     14"
      ]
     },
     "metadata": {},
     "output_type": "display_data"
    },
    {
     "data": {
      "text/html": [
       "<div>\n",
       "<style scoped>\n",
       "    .dataframe tbody tr th:only-of-type {\n",
       "        vertical-align: middle;\n",
       "    }\n",
       "\n",
       "    .dataframe tbody tr th {\n",
       "        vertical-align: top;\n",
       "    }\n",
       "\n",
       "    .dataframe thead th {\n",
       "        text-align: right;\n",
       "    }\n",
       "</style>\n",
       "<table border=\"1\" class=\"dataframe\">\n",
       "  <thead>\n",
       "    <tr style=\"text-align: right;\">\n",
       "      <th></th>\n",
       "      <th>id</th>\n",
       "      <th>Прибыль</th>\n",
       "    </tr>\n",
       "  </thead>\n",
       "  <tbody>\n",
       "    <tr>\n",
       "      <th>32</th>\n",
       "      <td>215380</td>\n",
       "      <td>3.88</td>\n",
       "    </tr>\n",
       "  </tbody>\n",
       "</table>\n",
       "</div>"
      ],
      "text/plain": [
       "        id  Прибыль\n",
       "32  215380     3.88"
      ]
     },
     "metadata": {},
     "output_type": "display_data"
    }
   ],
   "source": [
    "# Сделаем срез id 215380 из датафрейма market_file\n",
    "market_file_slice = market_file.loc[market_file['id'] == 215380]\n",
    "display(market_file_slice)\n",
    "\n",
    "# Сделаем срез id 215380 из датафрейма market_time\n",
    "market_time_slice = market_time.loc[market_time['id'] == 215380]\n",
    "display(market_time_slice)\n",
    "\n",
    "# Сделаем срез id 215380 из датафрейма money\n",
    "money_slice = money.loc[money['id'] == 215380]\n",
    "display(money_slice)"
   ]
  },
  {
   "cell_type": "code",
   "execution_count": 15,
   "id": "47c13fd4",
   "metadata": {},
   "outputs": [
    {
     "name": "stderr",
     "output_type": "stream",
     "text": [
      "/opt/conda/lib/python3.9/site-packages/pandas/core/indexing.py:1637: SettingWithCopyWarning: \n",
      "A value is trying to be set on a copy of a slice from a DataFrame\n",
      "\n",
      "See the caveats in the documentation: https://pandas.pydata.org/pandas-docs/stable/user_guide/indexing.html#returning-a-view-versus-a-copy\n",
      "  self._setitem_single_block(indexer, value, name)\n"
     ]
    },
    {
     "data": {
      "image/png": "[encoded data removed]",
      "text/plain": [
       "<Figure size 432x288 with 1 Axes>"
      ]
     },
     "metadata": {
      "needs_background": "light"
     },
     "output_type": "display_data"
    }
   ],
   "source": [
    "# Значение выручки для id 215380, вероятно, является выбросом. Заменим его на медианное значение\n",
    "market_money['Выручка'].loc[market_money['id'] == 215380] = market_money['Выручка'].median()\n",
    "\n",
    "# Построим диаграмму ящик с усами для столбца \"Выручка\" в датафрейме market_money\n",
    "sns.boxplot(data=market_money, x='Выручка')\n",
    "plt.title('Диаграмма ящик с усами для столбца \"Выручка\" в датафрейме market_money')\n",
    "plt.xlabel('Выручка')\n",
    "plt.ylabel('Количество')\n",
    "plt.show()\n"
   ]
  },
  {
   "cell_type": "code",
   "execution_count": 16,
   "id": "2957791e",
   "metadata": {},
   "outputs": [
    {
     "name": "stdout",
     "output_type": "stream",
     "text": [
      "['текущий_месяц' 'предыдцщий_месяц']\n"
     ]
    }
   ],
   "source": [
    "# Выведем уникальные значения столбца \"Период\" в датафрейме market_time\n",
    "print(market_time['Период'].unique())"
   ]
  },
  {
   "cell_type": "code",
   "execution_count": 17,
   "id": "8ff7da2c",
   "metadata": {},
   "outputs": [],
   "source": [
    "# Исправим опечатку в столбце \"Период\" в датафрейме market_time\n",
    "market_time['Период'] = market_time['Период'].str.replace('предыдцщий_месяц', 'предыдущий_месяц')"
   ]
  },
  {
   "cell_type": "code",
   "execution_count": 18,
   "id": "cbf4ccd4",
   "metadata": {},
   "outputs": [
    {
     "name": "stdout",
     "output_type": "stream",
     "text": [
      "count    1300.000000\n",
      "mean        3.996631\n",
      "std         1.013722\n",
      "min         0.860000\n",
      "25%         3.300000\n",
      "50%         4.045000\n",
      "75%         4.670000\n",
      "max         7.430000\n",
      "Name: Прибыль, dtype: float64\n"
     ]
    }
   ],
   "source": [
    "# Проверим наличие выбросов в датафрейме money\n",
    "print(money['Прибыль'].describe())"
   ]
  },
  {
   "cell_type": "markdown",
   "id": "7b2b4d83",
   "metadata": {},
   "source": [
    "В результате проделанной работы мы:\n",
    "\n",
    "1. Проверили и скорректировали правильность типов данных;\n",
    "2. Проверили наличие пропусков (отсутствуют);\n",
    "3. Проверили наличие явных дубликатов (отсутствуют);\n",
    "4. Проверили наличие неявных дубликатов (скорректировали);\n",
    "5. Переименовали столбцы;\n",
    "6. Заменили выброс на медианное значение;"
   ]
  },
  {
   "cell_type": "markdown",
   "id": "89f9f808",
   "metadata": {},
   "source": [
    "# Исследовательский анализ данных\n",
    "\n",
    "Проведите исследовательский анализ данных из каждой таблицы. Отберите клиентов с покупательской активностью не менее трёх месяцев, то есть таких, которые что-либо покупали в этот период. Оформите выводы по результатам шага."
   ]
  },
  {
   "cell_type": "markdown",
   "id": "929ac4f2",
   "metadata": {},
   "source": [
    "## Проведем исследовательский анализ данных для датафрейма market_file\n",
    "\n"
   ]
  },
  {
   "cell_type": "code",
   "execution_count": 19,
   "id": "7408d351",
   "metadata": {
    "scrolled": true
   },
   "outputs": [
    {
     "name": "stdout",
     "output_type": "stream",
     "text": [
      "стандарт    924\n",
      "премиум     376\n",
      "Name: Тип_сервиса, dtype: int64\n"
     ]
    },
    {
     "data": {
      "image/png": "[encoded data removed]",
      "text/plain": [
       "<Figure size 432x288 with 1 Axes>"
      ]
     },
     "metadata": {},
     "output_type": "display_data"
    }
   ],
   "source": [
    "# Оценим распределение клиентов по типу сервиса, нарисуем круговую диаграмму\n",
    "print(market_file['Тип_сервиса'].value_counts())\n",
    "plt.pie(market_file['Тип_сервиса'].value_counts(), labels=market_file['Тип_сервиса'].value_counts().index, autopct='%1.1f%%')\n",
    "plt.title('Распределение клиентов по типу сервиса')\n",
    "plt.show()"
   ]
  },
  {
   "cell_type": "markdown",
   "id": "3ca96657",
   "metadata": {},
   "source": [
    "Большинство пользователей имеют стандартную подписку."
   ]
  },
  {
   "cell_type": "code",
   "execution_count": 20,
   "id": "5ec4f094",
   "metadata": {
    "scrolled": true
   },
   "outputs": [
    {
     "name": "stdout",
     "output_type": "stream",
     "text": [
      "Тип_сервиса  Разрешить_сообщать\n",
      "премиум      да                    327\n",
      "             нет                    49\n",
      "стандарт     да                    635\n",
      "             нет                   289\n",
      "Name: Разрешить_сообщать, dtype: int64\n"
     ]
    },
    {
     "data": {
      "image/png": "[encoded data removed]",
      "text/plain": [
       "<Figure size 432x288 with 1 Axes>"
      ]
     },
     "metadata": {
      "needs_background": "light"
     },
     "output_type": "display_data"
    }
   ],
   "source": [
    "# Посмотрим как для разных типов сервисов распределено согласие на получение доп. предложений\n",
    "print(market_file.groupby('Тип_сервиса')['Разрешить_сообщать'].value_counts())\n",
    "sns.countplot(data=market_file, x='Тип_сервиса', hue='Разрешить_сообщать')\n",
    "plt.title('Распределение согласия на получение доп. предложений по типу сервиса')\n",
    "plt.xlabel('Тип сервиса')\n",
    "plt.ylabel('Количество')\n",
    "plt.show()"
   ]
  },
  {
   "cell_type": "markdown",
   "id": "30a1b77e",
   "metadata": {},
   "source": [
    "При этом, только 15% от премиум пользователей согласны получать рекламные сообщения, тогда как для стандартных пользователей этот показатель - около 50%."
   ]
  },
  {
   "cell_type": "code",
   "execution_count": 21,
   "id": "fe4ccdc3",
   "metadata": {
    "scrolled": true
   },
   "outputs": [
    {
     "name": "stdout",
     "output_type": "stream",
     "text": [
      "             count        mean         std    min    25%    50%     75%  \\\n",
      "Тип_сервиса                                                               \n",
      "премиум      376.0  722.452128  233.380097  121.0  565.5  763.0  907.25   \n",
      "стандарт     924.0  552.841991  239.585270  110.0  356.0  544.0  746.25   \n",
      "\n",
      "                max  \n",
      "Тип_сервиса          \n",
      "премиум      1079.0  \n",
      "стандарт     1064.0  \n"
     ]
    },
    {
     "data": {
      "image/png": "[encoded data removed]",
      "text/plain": [
       "<Figure size 432x288 with 1 Axes>"
      ]
     },
     "metadata": {
      "needs_background": "light"
     },
     "output_type": "display_data"
    }
   ],
   "source": [
    "# Посмотрим как для разных типов сервисов распределена длительность с момента регистрации\n",
    "print(market_file.groupby('Тип_сервиса')['Длительность'].describe())\n",
    "sns.boxplot(data=market_file, x='Тип_сервиса', y='Длительность')\n",
    "plt.title('Распределение длительности с момента регистрации по типу сервиса')\n",
    "plt.xlabel('Тип сервиса')\n",
    "plt.ylabel('Длительность')\n",
    "plt.show()\n"
   ]
  },
  {
   "cell_type": "markdown",
   "id": "3dc1e0bc",
   "metadata": {},
   "source": [
    "Пользователи премиум подписки статистически дольше клиенты сервиса, чем клиенты-стандарт."
   ]
  },
  {
   "cell_type": "code",
   "execution_count": 22,
   "id": "e822c5fa",
   "metadata": {
    "scrolled": true
   },
   "outputs": [
    {
     "name": "stdout",
     "output_type": "stream",
     "text": [
      "             count      mean       std  min   25%   50%   75%   max\n",
      "Тип_сервиса                                                        \n",
      "премиум      376.0  0.335851  0.260106  0.0  0.17  0.24  0.32  0.99\n",
      "стандарт     924.0  0.313279  0.245388  0.0  0.17  0.24  0.30  0.99\n"
     ]
    },
    {
     "data": {
      "image/png": "[encoded data removed]",
      "text/plain": [
       "<Figure size 432x288 with 1 Axes>"
      ]
     },
     "metadata": {
      "needs_background": "light"
     },
     "output_type": "display_data"
    }
   ],
   "source": [
    "# Посмотрим как для разных типов сервисов распределена среднемесячная доля покупок по акции от общего числа покупок за последние 6 месяцев\n",
    "print(market_file.groupby('Тип_сервиса')['Акционные_покупки'].describe())\n",
    "sns.boxplot(data=market_file, x='Тип_сервиса', y='Акционные_покупки')\n",
    "plt.title('Распределение среднемесячной доли покупок по акции от общего числа покупок по типу сервиса')\n",
    "plt.xlabel('Тип сервиса')\n",
    "plt.ylabel('Среднемесячная доля покупок')\n",
    "plt.show()\n"
   ]
  },
  {
   "cell_type": "markdown",
   "id": "b2e47d79",
   "metadata": {},
   "source": [
    "В обоих категория есть пользователи, совершающие покупки исключительно акционных товаров."
   ]
  },
  {
   "cell_type": "code",
   "execution_count": 23,
   "id": "f50c089c",
   "metadata": {
    "scrolled": true
   },
   "outputs": [
    {
     "data": {
      "image/png": "[encoded data removed]",
      "text/plain": [
       "<Figure size 864x576 with 1 Axes>"
      ]
     },
     "metadata": {
      "needs_background": "light"
     },
     "output_type": "display_data"
    }
   ],
   "source": [
    "# Сгруппируем данные и посчитаем количество популярных категорий товаров по типам сервиса\n",
    "category_counts = market_file['Популярная_категория'].value_counts()\n",
    "\n",
    "# Отсортируем категории по убыванию\n",
    "sorted_categories = category_counts.index\n",
    "\n",
    "# Построим график\n",
    "plt.figure(figsize=(12, 8))\n",
    "sns.countplot(data=market_file, x='Тип_сервиса', hue='Популярная_категория', hue_order=sorted_categories)\n",
    "plt.title('Распределение популярных категорий товаров по типу сервиса')\n",
    "plt.xlabel('Тип сервиса')\n",
    "plt.ylabel('Количество')\n",
    "plt.legend(title='Популярная категория', bbox_to_anchor=(1.05, 1), loc='upper left')\n",
    "plt.show()"
   ]
  },
  {
   "cell_type": "markdown",
   "id": "a4e31d0d",
   "metadata": {},
   "source": [
    "В зависимости от категорий подписок, топ популярных категорий практически идентичен."
   ]
  },
  {
   "cell_type": "markdown",
   "id": "67fb6773",
   "metadata": {},
   "source": [
    "## Проведем исследовательский анализ данных для датафрейма market_money"
   ]
  },
  {
   "cell_type": "code",
   "execution_count": 24,
   "id": "761fa8b8",
   "metadata": {},
   "outputs": [
    {
     "name": "stdout",
     "output_type": "stream",
     "text": [
      "                      count         mean         std     min      25%  \\\n",
      "Период                                                                  \n",
      "предыдущий_месяц     1300.0  4936.059231  738.920956     0.0  4496.75   \n",
      "препредыдущий_месяц  1300.0  4825.135000  405.947912     0.0  4583.00   \n",
      "текущий_месяц        1300.0  5236.572615  835.188961  2758.7  4706.05   \n",
      "\n",
      "                         50%       75%     max  \n",
      "Период                                          \n",
      "предыдущий_месяц     5004.50  5404.125  6869.5  \n",
      "препредыдущий_месяц  4809.00  5053.500  5663.0  \n",
      "текущий_месяц        5179.55  5759.275  7799.4  \n"
     ]
    },
    {
     "data": {
      "image/png": "[encoded data removed]",
      "text/plain": [
       "<Figure size 576x360 with 1 Axes>"
      ]
     },
     "metadata": {
      "needs_background": "light"
     },
     "output_type": "display_data"
    }
   ],
   "source": [
    "# Посмотрим на распределение выручки по месяцам\n",
    "# Вывести статистическое описание выручки по месяцам\n",
    "print(market_money.groupby('Период')['Выручка'].describe())\n",
    "\n",
    "# Сгруппируем данные по месяцам и посчитаем сумму выручки\n",
    "monthly_revenue = market_money.groupby('Период')['Выручка'].sum()\n",
    "\n",
    "# Отсортируем значение выручки по убыванию\n",
    "sorted_revenue = monthly_revenue.sort_values(ascending=False)\n",
    "\n",
    "# Построим столбчатую диаграмму для распределения выручки по месяцам, отсортировав значения по убыванию\n",
    "plt.figure(figsize=(8, 5))\n",
    "sns.barplot(x=sorted_revenue.index, y=sorted_revenue.values)\n",
    "plt.title('Распределение выручки по месяцам')\n",
    "plt.xlabel('Месяц')\n",
    "plt.ylabel('Выручка')\n",
    "plt.xticks(rotation=45)\n",
    "plt.show()\n",
    "\n",
    "\n"
   ]
  },
  {
   "cell_type": "markdown",
   "id": "6454a7f2",
   "metadata": {},
   "source": [
    "Выручка растет на протяжении 3-х месяцев. "
   ]
  },
  {
   "cell_type": "markdown",
   "id": "f64e421a",
   "metadata": {},
   "source": [
    "## Проведем исследовательский анализ данных для датафрейма market_time"
   ]
  },
  {
   "cell_type": "code",
   "execution_count": 25,
   "id": "389d7a51",
   "metadata": {},
   "outputs": [
    {
     "data": {
      "image/png": "[encoded data removed]",
      "text/plain": [
       "<Figure size 576x360 with 1 Axes>"
      ]
     },
     "metadata": {
      "needs_background": "light"
     },
     "output_type": "display_data"
    }
   ],
   "source": [
    "# Посмотрим на распределение проведенного на сайте среднего времени по месяцам\n",
    "\n",
    "# Сгруппируем данные по месяцам и посчитаем среднее время на сайте\n",
    "monthly_avg_time = market_time.groupby('Период')['минут'].mean()\n",
    "\n",
    "# Отсортируем значение среднего времени на сайте по убыванию\n",
    "sorted_avg_time = monthly_avg_time.sort_values(ascending=False)\n",
    "\n",
    "# Построим столбчатую диаграмму для распределения среднего времени на сайте по месяцам, отсортировав значения по убыванию\n",
    "plt.figure(figsize=(8, 5))\n",
    "sns.barplot(x=sorted_avg_time.index, y=sorted_avg_time.values)\n",
    "plt.title('Распределение среднего времени на сайте по месяцам')\n",
    "plt.xlabel('Месяц')\n",
    "plt.ylabel('Среднее время на сайте')\n",
    "plt.xticks(rotation=45)\n",
    "plt.show()\n"
   ]
  },
  {
   "cell_type": "markdown",
   "id": "9975b839",
   "metadata": {},
   "source": [
    "Среднее время, проведенное на сайте клиентами практически не изменилось."
   ]
  },
  {
   "cell_type": "markdown",
   "id": "1c8fc784",
   "metadata": {},
   "source": [
    "## Отберем клиентов с покупательской активностью не менее трёх месяцев, то есть таких, которые что-либо покупали в этот период"
   ]
  },
  {
   "cell_type": "code",
   "execution_count": 26,
   "id": "16fd1a7c",
   "metadata": {},
   "outputs": [
    {
     "name": "stdout",
     "output_type": "stream",
     "text": [
      "Количество строк с выручкой равной 0: 9\n"
     ]
    }
   ],
   "source": [
    "# В таблице market_money отфильтруем id клиентов с выручкой равной 0\n",
    "zero_revenue = market_money[market_money['id'].isin(market_money[market_money['Выручка'] == 0]['id'])]\n",
    "# Выведем количество клиентов с выручкой равной 0\n",
    "print('Количество строк с выручкой равной 0:', len(zero_revenue))"
   ]
  },
  {
   "cell_type": "code",
   "execution_count": 27,
   "id": "126ccae6",
   "metadata": {},
   "outputs": [
    {
     "name": "stdout",
     "output_type": "stream",
     "text": [
      "        id               Период  Выручка\n",
      "0   215348  препредыдущий_месяц      0.0\n",
      "1   215348        текущий_месяц   3293.1\n",
      "2   215348     предыдущий_месяц      0.0\n",
      "27  215357        текущий_месяц   5986.3\n",
      "28  215357  препредыдущий_месяц      0.0\n",
      "29  215357     предыдущий_месяц      0.0\n",
      "33  215359        текущий_месяц   4735.0\n",
      "34  215359     предыдущий_месяц      0.0\n",
      "35  215359  препредыдущий_месяц      0.0\n"
     ]
    }
   ],
   "source": [
    "# Выведем список строк с выручкой равной 0\n",
    "print(zero_revenue)"
   ]
  },
  {
   "cell_type": "code",
   "execution_count": 28,
   "id": "c119c3d3",
   "metadata": {},
   "outputs": [],
   "source": [
    "# Удалим строки с id = 215348, 215357 и 215359 из market_money\n",
    "ids_to_remove = [215348, 215357, 215359]\n",
    "market_money = market_money[~market_money['id'].isin(ids_to_remove)]"
   ]
  },
  {
   "cell_type": "code",
   "execution_count": 29,
   "id": "18e347c9",
   "metadata": {},
   "outputs": [
    {
     "name": "stdout",
     "output_type": "stream",
     "text": [
      "Количество строк с выручкой больше 0: 3891\n"
     ]
    }
   ],
   "source": [
    "# Сделаем срез с клиентами, у которых выручка > 0\n",
    "positive_revenue = market_money[market_money['id'].isin(market_money[market_money['Выручка'] > 0]['id'])]\n",
    "# Выведем количество клиентов с выручкой больше 0\n",
    "print('Количество строк с выручкой больше 0:', len(positive_revenue))"
   ]
  },
  {
   "cell_type": "markdown",
   "id": "0d09810b",
   "metadata": {},
   "source": [
    "## Выводы"
   ]
  },
  {
   "cell_type": "markdown",
   "id": "6e0872ee",
   "metadata": {},
   "source": [
    "1. Большинство пользователей имеют стандартную подписку.\n",
    "2. При этом, только 15% от премиум пользователей согласны получать рекламные сообщения, тогда как для стандартных пользователей этот показатель - около 50%.\n",
    "3. Пользователи премиум подписки статистически дольше клиенты сервиса, чем клиенты-стандарт.\n",
    "4. В обоих категория есть пользователи, совершающие покупки исключительно акционных товаров.\n",
    "5. В зависимости от категорий подписок, топ популярных категорий практически идентичен.\n",
    "6. Выручка растет на протяжении 3-х месяцев.\n",
    "7. Среднее время, проведенное на сайте клиентами практически не изменилось.\n",
    "8. Количество клиентов с прибылью равной 0: 9. Количество клиентов с выручкой больше 0: 3900"
   ]
  },
  {
   "cell_type": "markdown",
   "id": "32c35d07",
   "metadata": {},
   "source": [
    "# Объединение таблиц\n",
    "\n",
    "Объедините таблицы market_file.csv, market_money.csv, market_time.csv. Данные о прибыли из файла money.csv при моделировании вам не понадобятся. \n",
    "\n",
    "Учитывайте, что данные о выручке и времени на сайте находятся в одном столбце для всех периодов. \n",
    "В итоговой таблице сделайте отдельный столбец для каждого периода."
   ]
  },
  {
   "cell_type": "code",
   "execution_count": 30,
   "id": "c1545cb5",
   "metadata": {},
   "outputs": [],
   "source": [
    "# Развертывание df_money\n",
    "df_money_pivot = market_money.pivot_table(index='id', columns='Период', values='Выручка', aggfunc='sum').reset_index()\n",
    "\n",
    "# Развертывание df_time\n",
    "df_time_pivot = market_time.pivot_table(index='id', columns='Период', values='минут', aggfunc='sum').reset_index()"
   ]
  },
  {
   "cell_type": "code",
   "execution_count": 31,
   "id": "51e5ae83",
   "metadata": {},
   "outputs": [
    {
     "name": "stdout",
     "output_type": "stream",
     "text": [
      "<class 'pandas.core.frame.DataFrame'>\n",
      "Int64Index: 1297 entries, 215349 to 216647\n",
      "Data columns (total 17 columns):\n",
      " #   Column                               Non-Null Count  Dtype  \n",
      "---  ------                               --------------  -----  \n",
      " 0   Покупательская_активность            1297 non-null   object \n",
      " 1   Тип_сервиса                          1297 non-null   object \n",
      " 2   Разрешить_сообщать                   1297 non-null   object \n",
      " 3   Маркет_актив_6_мес                   1297 non-null   float64\n",
      " 4   Маркет_актив_тек_мес                 1297 non-null   int64  \n",
      " 5   Длительность                         1297 non-null   int64  \n",
      " 6   Акционные_покупки                    1297 non-null   float64\n",
      " 7   Популярная_категория                 1297 non-null   object \n",
      " 8   Средний_просмотр_категорий_за_визит  1297 non-null   int64  \n",
      " 9   Неоплаченные_продукты_штук_квартал   1297 non-null   int64  \n",
      " 10  Ошибка_сервиса                       1297 non-null   int64  \n",
      " 11  Страниц_за_визит                     1297 non-null   int64  \n",
      " 12  предыдущий_месяц_x                   1297 non-null   float64\n",
      " 13  препредыдущий_месяц                  1297 non-null   float64\n",
      " 14  текущий_месяц_x                      1297 non-null   float64\n",
      " 15  предыдущий_месяц_y                   1297 non-null   int64  \n",
      " 16  текущий_месяц_y                      1297 non-null   int64  \n",
      "dtypes: float64(5), int64(8), object(4)\n",
      "memory usage: 182.4+ KB\n",
      "None\n"
     ]
    },
    {
     "data": {
      "text/html": [
       "<div>\n",
       "<style scoped>\n",
       "    .dataframe tbody tr th:only-of-type {\n",
       "        vertical-align: middle;\n",
       "    }\n",
       "\n",
       "    .dataframe tbody tr th {\n",
       "        vertical-align: top;\n",
       "    }\n",
       "\n",
       "    .dataframe thead th {\n",
       "        text-align: right;\n",
       "    }\n",
       "</style>\n",
       "<table border=\"1\" class=\"dataframe\">\n",
       "  <thead>\n",
       "    <tr style=\"text-align: right;\">\n",
       "      <th></th>\n",
       "      <th>Покупательская_активность</th>\n",
       "      <th>Тип_сервиса</th>\n",
       "      <th>Разрешить_сообщать</th>\n",
       "      <th>Маркет_актив_6_мес</th>\n",
       "      <th>Маркет_актив_тек_мес</th>\n",
       "      <th>Длительность</th>\n",
       "      <th>Акционные_покупки</th>\n",
       "      <th>Популярная_категория</th>\n",
       "      <th>Средний_просмотр_категорий_за_визит</th>\n",
       "      <th>Неоплаченные_продукты_штук_квартал</th>\n",
       "      <th>Ошибка_сервиса</th>\n",
       "      <th>Страниц_за_визит</th>\n",
       "      <th>предыдущий_месяц_x</th>\n",
       "      <th>препредыдущий_месяц</th>\n",
       "      <th>текущий_месяц_x</th>\n",
       "      <th>предыдущий_месяц_y</th>\n",
       "      <th>текущий_месяц_y</th>\n",
       "    </tr>\n",
       "    <tr>\n",
       "      <th>id</th>\n",
       "      <th></th>\n",
       "      <th></th>\n",
       "      <th></th>\n",
       "      <th></th>\n",
       "      <th></th>\n",
       "      <th></th>\n",
       "      <th></th>\n",
       "      <th></th>\n",
       "      <th></th>\n",
       "      <th></th>\n",
       "      <th></th>\n",
       "      <th></th>\n",
       "      <th></th>\n",
       "      <th></th>\n",
       "      <th></th>\n",
       "      <th></th>\n",
       "      <th></th>\n",
       "    </tr>\n",
       "  </thead>\n",
       "  <tbody>\n",
       "    <tr>\n",
       "      <th>215349</th>\n",
       "      <td>Снизилась</td>\n",
       "      <td>премиум</td>\n",
       "      <td>да</td>\n",
       "      <td>4.4</td>\n",
       "      <td>4</td>\n",
       "      <td>819</td>\n",
       "      <td>0.75</td>\n",
       "      <td>Товары для детей</td>\n",
       "      <td>4</td>\n",
       "      <td>4</td>\n",
       "      <td>2</td>\n",
       "      <td>5</td>\n",
       "      <td>5216.0</td>\n",
       "      <td>4472.0</td>\n",
       "      <td>4971.6</td>\n",
       "      <td>12</td>\n",
       "      <td>10</td>\n",
       "    </tr>\n",
       "    <tr>\n",
       "      <th>215350</th>\n",
       "      <td>Снизилась</td>\n",
       "      <td>стандарт</td>\n",
       "      <td>нет</td>\n",
       "      <td>4.9</td>\n",
       "      <td>3</td>\n",
       "      <td>539</td>\n",
       "      <td>0.14</td>\n",
       "      <td>Домашний текстиль</td>\n",
       "      <td>5</td>\n",
       "      <td>2</td>\n",
       "      <td>1</td>\n",
       "      <td>5</td>\n",
       "      <td>5457.5</td>\n",
       "      <td>4826.0</td>\n",
       "      <td>5058.4</td>\n",
       "      <td>8</td>\n",
       "      <td>13</td>\n",
       "    </tr>\n",
       "    <tr>\n",
       "      <th>215351</th>\n",
       "      <td>Снизилась</td>\n",
       "      <td>стандарт</td>\n",
       "      <td>да</td>\n",
       "      <td>3.2</td>\n",
       "      <td>5</td>\n",
       "      <td>896</td>\n",
       "      <td>0.99</td>\n",
       "      <td>Товары для детей</td>\n",
       "      <td>5</td>\n",
       "      <td>0</td>\n",
       "      <td>6</td>\n",
       "      <td>4</td>\n",
       "      <td>6158.0</td>\n",
       "      <td>4793.0</td>\n",
       "      <td>6610.4</td>\n",
       "      <td>11</td>\n",
       "      <td>13</td>\n",
       "    </tr>\n",
       "    <tr>\n",
       "      <th>215352</th>\n",
       "      <td>Снизилась</td>\n",
       "      <td>стандарт</td>\n",
       "      <td>нет</td>\n",
       "      <td>5.1</td>\n",
       "      <td>3</td>\n",
       "      <td>1064</td>\n",
       "      <td>0.94</td>\n",
       "      <td>Товары для детей</td>\n",
       "      <td>3</td>\n",
       "      <td>2</td>\n",
       "      <td>3</td>\n",
       "      <td>2</td>\n",
       "      <td>5807.5</td>\n",
       "      <td>4594.0</td>\n",
       "      <td>5872.5</td>\n",
       "      <td>8</td>\n",
       "      <td>11</td>\n",
       "    </tr>\n",
       "    <tr>\n",
       "      <th>215353</th>\n",
       "      <td>Снизилась</td>\n",
       "      <td>стандарт</td>\n",
       "      <td>да</td>\n",
       "      <td>3.3</td>\n",
       "      <td>4</td>\n",
       "      <td>762</td>\n",
       "      <td>0.26</td>\n",
       "      <td>Домашний текстиль</td>\n",
       "      <td>4</td>\n",
       "      <td>1</td>\n",
       "      <td>1</td>\n",
       "      <td>4</td>\n",
       "      <td>4738.5</td>\n",
       "      <td>5124.0</td>\n",
       "      <td>5388.5</td>\n",
       "      <td>10</td>\n",
       "      <td>10</td>\n",
       "    </tr>\n",
       "  </tbody>\n",
       "</table>\n",
       "</div>"
      ],
      "text/plain": [
       "       Покупательская_активность Тип_сервиса Разрешить_сообщать  \\\n",
       "id                                                                \n",
       "215349                 Снизилась     премиум                 да   \n",
       "215350                 Снизилась    стандарт                нет   \n",
       "215351                 Снизилась    стандарт                 да   \n",
       "215352                 Снизилась    стандарт                нет   \n",
       "215353                 Снизилась    стандарт                 да   \n",
       "\n",
       "        Маркет_актив_6_мес  Маркет_актив_тек_мес  Длительность  \\\n",
       "id                                                               \n",
       "215349                 4.4                     4           819   \n",
       "215350                 4.9                     3           539   \n",
       "215351                 3.2                     5           896   \n",
       "215352                 5.1                     3          1064   \n",
       "215353                 3.3                     4           762   \n",
       "\n",
       "        Акционные_покупки Популярная_категория  \\\n",
       "id                                               \n",
       "215349               0.75     Товары для детей   \n",
       "215350               0.14    Домашний текстиль   \n",
       "215351               0.99     Товары для детей   \n",
       "215352               0.94     Товары для детей   \n",
       "215353               0.26    Домашний текстиль   \n",
       "\n",
       "        Средний_просмотр_категорий_за_визит  \\\n",
       "id                                            \n",
       "215349                                    4   \n",
       "215350                                    5   \n",
       "215351                                    5   \n",
       "215352                                    3   \n",
       "215353                                    4   \n",
       "\n",
       "        Неоплаченные_продукты_штук_квартал  Ошибка_сервиса  Страниц_за_визит  \\\n",
       "id                                                                             \n",
       "215349                                   4               2                 5   \n",
       "215350                                   2               1                 5   \n",
       "215351                                   0               6                 4   \n",
       "215352                                   2               3                 2   \n",
       "215353                                   1               1                 4   \n",
       "\n",
       "        предыдущий_месяц_x  препредыдущий_месяц  текущий_месяц_x  \\\n",
       "id                                                                 \n",
       "215349              5216.0               4472.0           4971.6   \n",
       "215350              5457.5               4826.0           5058.4   \n",
       "215351              6158.0               4793.0           6610.4   \n",
       "215352              5807.5               4594.0           5872.5   \n",
       "215353              4738.5               5124.0           5388.5   \n",
       "\n",
       "        предыдущий_месяц_y  текущий_месяц_y  \n",
       "id                                           \n",
       "215349                  12               10  \n",
       "215350                   8               13  \n",
       "215351                  11               13  \n",
       "215352                   8               11  \n",
       "215353                  10               10  "
      ]
     },
     "metadata": {},
     "output_type": "display_data"
    }
   ],
   "source": [
    "# Объединим таблицы marke_file, market_money и market_time в единый датасет market_data\n",
    "market_data = pd.merge(market_file, df_money_pivot, on='id')\n",
    "market_data = pd.merge(market_data, df_time_pivot, on='id')\n",
    "\n",
    "# Сбросим индексы\n",
    "market_data.reset_index(drop=True, inplace=True)\n",
    "\n",
    "# Поставим id вместо индексов\n",
    "market_data.set_index('id', inplace=True)\n",
    "\n",
    "# Выведем информацию о получившемся датасете\n",
    "print(market_data.info())\n",
    "\n",
    "# Выведем первые 5 строк датасета\n",
    "display(market_data.head())"
   ]
  },
  {
   "cell_type": "code",
   "execution_count": 32,
   "id": "ecb90307",
   "metadata": {},
   "outputs": [
    {
     "data": {
      "text/html": [
       "<div>\n",
       "<style scoped>\n",
       "    .dataframe tbody tr th:only-of-type {\n",
       "        vertical-align: middle;\n",
       "    }\n",
       "\n",
       "    .dataframe tbody tr th {\n",
       "        vertical-align: top;\n",
       "    }\n",
       "\n",
       "    .dataframe thead th {\n",
       "        text-align: right;\n",
       "    }\n",
       "</style>\n",
       "<table border=\"1\" class=\"dataframe\">\n",
       "  <thead>\n",
       "    <tr style=\"text-align: right;\">\n",
       "      <th></th>\n",
       "      <th>Покупательская_активность</th>\n",
       "      <th>Тип_сервиса</th>\n",
       "      <th>Разрешить_сообщать</th>\n",
       "      <th>Маркет_актив_6_мес</th>\n",
       "      <th>Маркет_актив_тек_мес</th>\n",
       "      <th>Длительность</th>\n",
       "      <th>Акционные_покупки</th>\n",
       "      <th>Популярная_категория</th>\n",
       "      <th>Средний_просмотр_категорий_за_визит</th>\n",
       "      <th>Неоплаченные_продукты_штук_квартал</th>\n",
       "      <th>Ошибка_сервиса</th>\n",
       "      <th>Страниц_за_визит</th>\n",
       "      <th>предыдущий_месяц_выручка</th>\n",
       "      <th>препредыдущий_месяц_выручка</th>\n",
       "      <th>текущий_месяц_выручка</th>\n",
       "      <th>предыдущий_месяц_время</th>\n",
       "      <th>текущий_месяц_время</th>\n",
       "    </tr>\n",
       "    <tr>\n",
       "      <th>id</th>\n",
       "      <th></th>\n",
       "      <th></th>\n",
       "      <th></th>\n",
       "      <th></th>\n",
       "      <th></th>\n",
       "      <th></th>\n",
       "      <th></th>\n",
       "      <th></th>\n",
       "      <th></th>\n",
       "      <th></th>\n",
       "      <th></th>\n",
       "      <th></th>\n",
       "      <th></th>\n",
       "      <th></th>\n",
       "      <th></th>\n",
       "      <th></th>\n",
       "      <th></th>\n",
       "    </tr>\n",
       "  </thead>\n",
       "  <tbody>\n",
       "    <tr>\n",
       "      <th>215349</th>\n",
       "      <td>Снизилась</td>\n",
       "      <td>премиум</td>\n",
       "      <td>да</td>\n",
       "      <td>4.4</td>\n",
       "      <td>4</td>\n",
       "      <td>819</td>\n",
       "      <td>0.75</td>\n",
       "      <td>Товары для детей</td>\n",
       "      <td>4</td>\n",
       "      <td>4</td>\n",
       "      <td>2</td>\n",
       "      <td>5</td>\n",
       "      <td>5216.0</td>\n",
       "      <td>4472.0</td>\n",
       "      <td>4971.6</td>\n",
       "      <td>12</td>\n",
       "      <td>10</td>\n",
       "    </tr>\n",
       "    <tr>\n",
       "      <th>215350</th>\n",
       "      <td>Снизилась</td>\n",
       "      <td>стандарт</td>\n",
       "      <td>нет</td>\n",
       "      <td>4.9</td>\n",
       "      <td>3</td>\n",
       "      <td>539</td>\n",
       "      <td>0.14</td>\n",
       "      <td>Домашний текстиль</td>\n",
       "      <td>5</td>\n",
       "      <td>2</td>\n",
       "      <td>1</td>\n",
       "      <td>5</td>\n",
       "      <td>5457.5</td>\n",
       "      <td>4826.0</td>\n",
       "      <td>5058.4</td>\n",
       "      <td>8</td>\n",
       "      <td>13</td>\n",
       "    </tr>\n",
       "    <tr>\n",
       "      <th>215351</th>\n",
       "      <td>Снизилась</td>\n",
       "      <td>стандарт</td>\n",
       "      <td>да</td>\n",
       "      <td>3.2</td>\n",
       "      <td>5</td>\n",
       "      <td>896</td>\n",
       "      <td>0.99</td>\n",
       "      <td>Товары для детей</td>\n",
       "      <td>5</td>\n",
       "      <td>0</td>\n",
       "      <td>6</td>\n",
       "      <td>4</td>\n",
       "      <td>6158.0</td>\n",
       "      <td>4793.0</td>\n",
       "      <td>6610.4</td>\n",
       "      <td>11</td>\n",
       "      <td>13</td>\n",
       "    </tr>\n",
       "    <tr>\n",
       "      <th>215352</th>\n",
       "      <td>Снизилась</td>\n",
       "      <td>стандарт</td>\n",
       "      <td>нет</td>\n",
       "      <td>5.1</td>\n",
       "      <td>3</td>\n",
       "      <td>1064</td>\n",
       "      <td>0.94</td>\n",
       "      <td>Товары для детей</td>\n",
       "      <td>3</td>\n",
       "      <td>2</td>\n",
       "      <td>3</td>\n",
       "      <td>2</td>\n",
       "      <td>5807.5</td>\n",
       "      <td>4594.0</td>\n",
       "      <td>5872.5</td>\n",
       "      <td>8</td>\n",
       "      <td>11</td>\n",
       "    </tr>\n",
       "    <tr>\n",
       "      <th>215353</th>\n",
       "      <td>Снизилась</td>\n",
       "      <td>стандарт</td>\n",
       "      <td>да</td>\n",
       "      <td>3.3</td>\n",
       "      <td>4</td>\n",
       "      <td>762</td>\n",
       "      <td>0.26</td>\n",
       "      <td>Домашний текстиль</td>\n",
       "      <td>4</td>\n",
       "      <td>1</td>\n",
       "      <td>1</td>\n",
       "      <td>4</td>\n",
       "      <td>4738.5</td>\n",
       "      <td>5124.0</td>\n",
       "      <td>5388.5</td>\n",
       "      <td>10</td>\n",
       "      <td>10</td>\n",
       "    </tr>\n",
       "  </tbody>\n",
       "</table>\n",
       "</div>"
      ],
      "text/plain": [
       "       Покупательская_активность Тип_сервиса Разрешить_сообщать  \\\n",
       "id                                                                \n",
       "215349                 Снизилась     премиум                 да   \n",
       "215350                 Снизилась    стандарт                нет   \n",
       "215351                 Снизилась    стандарт                 да   \n",
       "215352                 Снизилась    стандарт                нет   \n",
       "215353                 Снизилась    стандарт                 да   \n",
       "\n",
       "        Маркет_актив_6_мес  Маркет_актив_тек_мес  Длительность  \\\n",
       "id                                                               \n",
       "215349                 4.4                     4           819   \n",
       "215350                 4.9                     3           539   \n",
       "215351                 3.2                     5           896   \n",
       "215352                 5.1                     3          1064   \n",
       "215353                 3.3                     4           762   \n",
       "\n",
       "        Акционные_покупки Популярная_категория  \\\n",
       "id                                               \n",
       "215349               0.75     Товары для детей   \n",
       "215350               0.14    Домашний текстиль   \n",
       "215351               0.99     Товары для детей   \n",
       "215352               0.94     Товары для детей   \n",
       "215353               0.26    Домашний текстиль   \n",
       "\n",
       "        Средний_просмотр_категорий_за_визит  \\\n",
       "id                                            \n",
       "215349                                    4   \n",
       "215350                                    5   \n",
       "215351                                    5   \n",
       "215352                                    3   \n",
       "215353                                    4   \n",
       "\n",
       "        Неоплаченные_продукты_штук_квартал  Ошибка_сервиса  Страниц_за_визит  \\\n",
       "id                                                                             \n",
       "215349                                   4               2                 5   \n",
       "215350                                   2               1                 5   \n",
       "215351                                   0               6                 4   \n",
       "215352                                   2               3                 2   \n",
       "215353                                   1               1                 4   \n",
       "\n",
       "        предыдущий_месяц_выручка  препредыдущий_месяц_выручка  \\\n",
       "id                                                              \n",
       "215349                    5216.0                       4472.0   \n",
       "215350                    5457.5                       4826.0   \n",
       "215351                    6158.0                       4793.0   \n",
       "215352                    5807.5                       4594.0   \n",
       "215353                    4738.5                       5124.0   \n",
       "\n",
       "        текущий_месяц_выручка  предыдущий_месяц_время  текущий_месяц_время  \n",
       "id                                                                          \n",
       "215349                 4971.6                      12                   10  \n",
       "215350                 5058.4                       8                   13  \n",
       "215351                 6610.4                      11                   13  \n",
       "215352                 5872.5                       8                   11  \n",
       "215353                 5388.5                      10                   10  "
      ]
     },
     "metadata": {},
     "output_type": "display_data"
    }
   ],
   "source": [
    "# Переименуем столбец предыдущий_месяц_x в предыдущий_месяц_выручка\n",
    "market_data = market_data.rename(columns={'предыдущий_месяц_x': 'предыдущий_месяц_выручка'})\n",
    "\n",
    "# Переименуем столбец препредыдущий_месяц в препредыдущий_месяц_выручка\n",
    "market_data = market_data.rename(columns={'препредыдущий_месяц': 'препредыдущий_месяц_выручка'})\n",
    "\n",
    "# Переименуем столбец текущий_месяц_x в текущий_месяц_выручка\n",
    "market_data = market_data.rename(columns={'текущий_месяц_x': 'текущий_месяц_выручка'})\n",
    "\n",
    "# Переименуем столбец предыдущий_месяц_y в предыдущий_месяц_время\n",
    "market_data = market_data.rename(columns={'предыдущий_месяц_y': 'предыдущий_месяц_время'})\n",
    "\n",
    "# Переименуем столбец текущий_месяц_y в текущий_месяц_время\n",
    "market_data = market_data.rename(columns={'текущий_месяц_y': 'текущий_месяц_время'})\n",
    "\n",
    "# Выведем первые 5 строк датасета\n",
    "display(market_data.head())"
   ]
  },
  {
   "cell_type": "code",
   "execution_count": 33,
   "id": "4548ba6a",
   "metadata": {},
   "outputs": [
    {
     "name": "stdout",
     "output_type": "stream",
     "text": [
      "11\n",
      "0\n"
     ]
    }
   ],
   "source": [
    "# Проверим наличие дубликатов\n",
    "print(market_data.duplicated().sum())\n",
    "\n",
    "# Удалим дубликаты\n",
    "market_data.drop_duplicates(inplace=True)\n",
    "\n",
    "# Проверим наличие дубликатов\n",
    "print(market_data.duplicated().sum())"
   ]
  },
  {
   "cell_type": "code",
   "execution_count": 34,
   "id": "80fc388a",
   "metadata": {},
   "outputs": [
    {
     "data": {
      "text/plain": [
       "(1286, 17)"
      ]
     },
     "execution_count": 34,
     "metadata": {},
     "output_type": "execute_result"
    }
   ],
   "source": [
    "market_data.shape"
   ]
  },
  {
   "cell_type": "markdown",
   "id": "ddf601f5",
   "metadata": {},
   "source": [
    "# Корреляционный анализ\n",
    "\n",
    "Проведите корреляционный анализ признаков в количественной шкале в итоговой таблице для моделирования. Сделайте выводы о мультиколлинеарности и при необходимости устраните её."
   ]
  },
  {
   "cell_type": "code",
   "execution_count": 35,
   "id": "6f95920f",
   "metadata": {},
   "outputs": [],
   "source": [
    "# Сделаем список столбцов с количественными и категориальными данными (их используем в дальнейших шагах)\n",
    "numeric = ['Маркет_актив_6_мес', 'Маркет_актив_тек_мес', 'Длительность', 'Акционные_покупки', \n",
    "           'Средний_просмотр_категорий_за_визит', 'Неоплаченные_продукты_штук_квартал', 'Ошибка_сервиса', \n",
    "           'Страниц_за_визит', 'предыдущий_месяц_выручка', 'препредыдущий_месяц_выручка', 'текущий_месяц_выручка', 'предыдущий_месяц_время', 'текущий_месяц_время'\n",
    "          ]\n",
    "\n",
    "categorical = ['Разрешить_сообщать', 'Популярная_категория']"
   ]
  },
  {
   "cell_type": "code",
   "execution_count": 36,
   "id": "6a84949d",
   "metadata": {
    "scrolled": true
   },
   "outputs": [
    {
     "data": {
      "text/html": [
       "<div>\n",
       "<style scoped>\n",
       "    .dataframe tbody tr th:only-of-type {\n",
       "        vertical-align: middle;\n",
       "    }\n",
       "\n",
       "    .dataframe tbody tr th {\n",
       "        vertical-align: top;\n",
       "    }\n",
       "\n",
       "    .dataframe thead th {\n",
       "        text-align: right;\n",
       "    }\n",
       "</style>\n",
       "<table border=\"1\" class=\"dataframe\">\n",
       "  <thead>\n",
       "    <tr style=\"text-align: right;\">\n",
       "      <th></th>\n",
       "      <th>Маркет_актив_6_мес</th>\n",
       "      <th>Маркет_актив_тек_мес</th>\n",
       "      <th>Длительность</th>\n",
       "      <th>Акционные_покупки</th>\n",
       "      <th>Средний_просмотр_категорий_за_визит</th>\n",
       "      <th>Неоплаченные_продукты_штук_квартал</th>\n",
       "      <th>Ошибка_сервиса</th>\n",
       "      <th>Страниц_за_визит</th>\n",
       "      <th>предыдущий_месяц_выручка</th>\n",
       "      <th>препредыдущий_месяц_выручка</th>\n",
       "      <th>текущий_месяц_выручка</th>\n",
       "      <th>предыдущий_месяц_время</th>\n",
       "      <th>текущий_месяц_время</th>\n",
       "    </tr>\n",
       "  </thead>\n",
       "  <tbody>\n",
       "    <tr>\n",
       "      <th>Маркет_актив_6_мес</th>\n",
       "      <td>1.000000</td>\n",
       "      <td>0.058089</td>\n",
       "      <td>-0.044881</td>\n",
       "      <td>-0.282402</td>\n",
       "      <td>0.187371</td>\n",
       "      <td>-0.131283</td>\n",
       "      <td>0.039146</td>\n",
       "      <td>0.322717</td>\n",
       "      <td>-0.000307</td>\n",
       "      <td>0.236113</td>\n",
       "      <td>0.006231</td>\n",
       "      <td>0.275904</td>\n",
       "      <td>0.228046</td>\n",
       "    </tr>\n",
       "    <tr>\n",
       "      <th>Маркет_актив_тек_мес</th>\n",
       "      <td>0.058089</td>\n",
       "      <td>1.000000</td>\n",
       "      <td>-0.132820</td>\n",
       "      <td>0.031461</td>\n",
       "      <td>-0.022429</td>\n",
       "      <td>0.063495</td>\n",
       "      <td>0.085020</td>\n",
       "      <td>0.002296</td>\n",
       "      <td>-0.022918</td>\n",
       "      <td>-0.039017</td>\n",
       "      <td>-0.006519</td>\n",
       "      <td>0.011878</td>\n",
       "      <td>-0.066205</td>\n",
       "    </tr>\n",
       "    <tr>\n",
       "      <th>Длительность</th>\n",
       "      <td>-0.044881</td>\n",
       "      <td>-0.132820</td>\n",
       "      <td>1.000000</td>\n",
       "      <td>0.026598</td>\n",
       "      <td>-0.043844</td>\n",
       "      <td>-0.105848</td>\n",
       "      <td>0.105002</td>\n",
       "      <td>-0.035167</td>\n",
       "      <td>0.012973</td>\n",
       "      <td>-0.039637</td>\n",
       "      <td>0.014797</td>\n",
       "      <td>-0.127521</td>\n",
       "      <td>0.085449</td>\n",
       "    </tr>\n",
       "    <tr>\n",
       "      <th>Акционные_покупки</th>\n",
       "      <td>-0.282402</td>\n",
       "      <td>0.031461</td>\n",
       "      <td>0.026598</td>\n",
       "      <td>1.000000</td>\n",
       "      <td>-0.208956</td>\n",
       "      <td>0.202230</td>\n",
       "      <td>-0.054356</td>\n",
       "      <td>-0.375170</td>\n",
       "      <td>0.003609</td>\n",
       "      <td>-0.272758</td>\n",
       "      <td>0.020602</td>\n",
       "      <td>-0.333432</td>\n",
       "      <td>-0.278451</td>\n",
       "    </tr>\n",
       "    <tr>\n",
       "      <th>Средний_просмотр_категорий_за_визит</th>\n",
       "      <td>0.187371</td>\n",
       "      <td>-0.022429</td>\n",
       "      <td>-0.043844</td>\n",
       "      <td>-0.208956</td>\n",
       "      <td>1.000000</td>\n",
       "      <td>-0.252467</td>\n",
       "      <td>0.007450</td>\n",
       "      <td>0.271035</td>\n",
       "      <td>-0.053626</td>\n",
       "      <td>0.150514</td>\n",
       "      <td>-0.075584</td>\n",
       "      <td>0.152915</td>\n",
       "      <td>0.236218</td>\n",
       "    </tr>\n",
       "    <tr>\n",
       "      <th>Неоплаченные_продукты_штук_квартал</th>\n",
       "      <td>-0.131283</td>\n",
       "      <td>0.063495</td>\n",
       "      <td>-0.105848</td>\n",
       "      <td>0.202230</td>\n",
       "      <td>-0.252467</td>\n",
       "      <td>1.000000</td>\n",
       "      <td>-0.099952</td>\n",
       "      <td>-0.168587</td>\n",
       "      <td>0.031015</td>\n",
       "      <td>-0.254726</td>\n",
       "      <td>0.059603</td>\n",
       "      <td>-0.186458</td>\n",
       "      <td>-0.221160</td>\n",
       "    </tr>\n",
       "    <tr>\n",
       "      <th>Ошибка_сервиса</th>\n",
       "      <td>0.039146</td>\n",
       "      <td>0.085020</td>\n",
       "      <td>0.105002</td>\n",
       "      <td>-0.054356</td>\n",
       "      <td>0.007450</td>\n",
       "      <td>-0.099952</td>\n",
       "      <td>1.000000</td>\n",
       "      <td>0.104916</td>\n",
       "      <td>0.035512</td>\n",
       "      <td>0.091754</td>\n",
       "      <td>0.039762</td>\n",
       "      <td>0.197071</td>\n",
       "      <td>0.074942</td>\n",
       "    </tr>\n",
       "    <tr>\n",
       "      <th>Страниц_за_визит</th>\n",
       "      <td>0.322717</td>\n",
       "      <td>0.002296</td>\n",
       "      <td>-0.035167</td>\n",
       "      <td>-0.375170</td>\n",
       "      <td>0.271035</td>\n",
       "      <td>-0.168587</td>\n",
       "      <td>0.104916</td>\n",
       "      <td>1.000000</td>\n",
       "      <td>-0.067325</td>\n",
       "      <td>0.314533</td>\n",
       "      <td>-0.050842</td>\n",
       "      <td>0.454532</td>\n",
       "      <td>0.301355</td>\n",
       "    </tr>\n",
       "    <tr>\n",
       "      <th>предыдущий_месяц_выручка</th>\n",
       "      <td>-0.000307</td>\n",
       "      <td>-0.022918</td>\n",
       "      <td>0.012973</td>\n",
       "      <td>0.003609</td>\n",
       "      <td>-0.053626</td>\n",
       "      <td>0.031015</td>\n",
       "      <td>0.035512</td>\n",
       "      <td>-0.067325</td>\n",
       "      <td>1.000000</td>\n",
       "      <td>0.305498</td>\n",
       "      <td>0.878978</td>\n",
       "      <td>-0.084575</td>\n",
       "      <td>-0.085675</td>\n",
       "    </tr>\n",
       "    <tr>\n",
       "      <th>препредыдущий_месяц_выручка</th>\n",
       "      <td>0.236113</td>\n",
       "      <td>-0.039017</td>\n",
       "      <td>-0.039637</td>\n",
       "      <td>-0.272758</td>\n",
       "      <td>0.150514</td>\n",
       "      <td>-0.254726</td>\n",
       "      <td>0.091754</td>\n",
       "      <td>0.314533</td>\n",
       "      <td>0.305498</td>\n",
       "      <td>1.000000</td>\n",
       "      <td>0.148597</td>\n",
       "      <td>0.352021</td>\n",
       "      <td>0.295404</td>\n",
       "    </tr>\n",
       "    <tr>\n",
       "      <th>текущий_месяц_выручка</th>\n",
       "      <td>0.006231</td>\n",
       "      <td>-0.006519</td>\n",
       "      <td>0.014797</td>\n",
       "      <td>0.020602</td>\n",
       "      <td>-0.075584</td>\n",
       "      <td>0.059603</td>\n",
       "      <td>0.039762</td>\n",
       "      <td>-0.050842</td>\n",
       "      <td>0.878978</td>\n",
       "      <td>0.148597</td>\n",
       "      <td>1.000000</td>\n",
       "      <td>-0.143352</td>\n",
       "      <td>-0.166364</td>\n",
       "    </tr>\n",
       "    <tr>\n",
       "      <th>предыдущий_месяц_время</th>\n",
       "      <td>0.275904</td>\n",
       "      <td>0.011878</td>\n",
       "      <td>-0.127521</td>\n",
       "      <td>-0.333432</td>\n",
       "      <td>0.152915</td>\n",
       "      <td>-0.186458</td>\n",
       "      <td>0.197071</td>\n",
       "      <td>0.454532</td>\n",
       "      <td>-0.084575</td>\n",
       "      <td>0.352021</td>\n",
       "      <td>-0.143352</td>\n",
       "      <td>1.000000</td>\n",
       "      <td>0.363211</td>\n",
       "    </tr>\n",
       "    <tr>\n",
       "      <th>текущий_месяц_время</th>\n",
       "      <td>0.228046</td>\n",
       "      <td>-0.066205</td>\n",
       "      <td>0.085449</td>\n",
       "      <td>-0.278451</td>\n",
       "      <td>0.236218</td>\n",
       "      <td>-0.221160</td>\n",
       "      <td>0.074942</td>\n",
       "      <td>0.301355</td>\n",
       "      <td>-0.085675</td>\n",
       "      <td>0.295404</td>\n",
       "      <td>-0.166364</td>\n",
       "      <td>0.363211</td>\n",
       "      <td>1.000000</td>\n",
       "    </tr>\n",
       "  </tbody>\n",
       "</table>\n",
       "</div>"
      ],
      "text/plain": [
       "                                     Маркет_актив_6_мес  Маркет_актив_тек_мес  \\\n",
       "Маркет_актив_6_мес                             1.000000              0.058089   \n",
       "Маркет_актив_тек_мес                           0.058089              1.000000   \n",
       "Длительность                                  -0.044881             -0.132820   \n",
       "Акционные_покупки                             -0.282402              0.031461   \n",
       "Средний_просмотр_категорий_за_визит            0.187371             -0.022429   \n",
       "Неоплаченные_продукты_штук_квартал            -0.131283              0.063495   \n",
       "Ошибка_сервиса                                 0.039146              0.085020   \n",
       "Страниц_за_визит                               0.322717              0.002296   \n",
       "предыдущий_месяц_выручка                      -0.000307             -0.022918   \n",
       "препредыдущий_месяц_выручка                    0.236113             -0.039017   \n",
       "текущий_месяц_выручка                          0.006231             -0.006519   \n",
       "предыдущий_месяц_время                         0.275904              0.011878   \n",
       "текущий_месяц_время                            0.228046             -0.066205   \n",
       "\n",
       "                                     Длительность  Акционные_покупки  \\\n",
       "Маркет_актив_6_мес                      -0.044881          -0.282402   \n",
       "Маркет_актив_тек_мес                    -0.132820           0.031461   \n",
       "Длительность                             1.000000           0.026598   \n",
       "Акционные_покупки                        0.026598           1.000000   \n",
       "Средний_просмотр_категорий_за_визит     -0.043844          -0.208956   \n",
       "Неоплаченные_продукты_штук_квартал      -0.105848           0.202230   \n",
       "Ошибка_сервиса                           0.105002          -0.054356   \n",
       "Страниц_за_визит                        -0.035167          -0.375170   \n",
       "предыдущий_месяц_выручка                 0.012973           0.003609   \n",
       "препредыдущий_месяц_выручка             -0.039637          -0.272758   \n",
       "текущий_месяц_выручка                    0.014797           0.020602   \n",
       "предыдущий_месяц_время                  -0.127521          -0.333432   \n",
       "текущий_месяц_время                      0.085449          -0.278451   \n",
       "\n",
       "                                     Средний_просмотр_категорий_за_визит  \\\n",
       "Маркет_актив_6_мес                                              0.187371   \n",
       "Маркет_актив_тек_мес                                           -0.022429   \n",
       "Длительность                                                   -0.043844   \n",
       "Акционные_покупки                                              -0.208956   \n",
       "Средний_просмотр_категорий_за_визит                             1.000000   \n",
       "Неоплаченные_продукты_штук_квартал                             -0.252467   \n",
       "Ошибка_сервиса                                                  0.007450   \n",
       "Страниц_за_визит                                                0.271035   \n",
       "предыдущий_месяц_выручка                                       -0.053626   \n",
       "препредыдущий_месяц_выручка                                     0.150514   \n",
       "текущий_месяц_выручка                                          -0.075584   \n",
       "предыдущий_месяц_время                                          0.152915   \n",
       "текущий_месяц_время                                             0.236218   \n",
       "\n",
       "                                     Неоплаченные_продукты_штук_квартал  \\\n",
       "Маркет_актив_6_мес                                            -0.131283   \n",
       "Маркет_актив_тек_мес                                           0.063495   \n",
       "Длительность                                                  -0.105848   \n",
       "Акционные_покупки                                              0.202230   \n",
       "Средний_просмотр_категорий_за_визит                           -0.252467   \n",
       "Неоплаченные_продукты_штук_квартал                             1.000000   \n",
       "Ошибка_сервиса                                                -0.099952   \n",
       "Страниц_за_визит                                              -0.168587   \n",
       "предыдущий_месяц_выручка                                       0.031015   \n",
       "препредыдущий_месяц_выручка                                   -0.254726   \n",
       "текущий_месяц_выручка                                          0.059603   \n",
       "предыдущий_месяц_время                                        -0.186458   \n",
       "текущий_месяц_время                                           -0.221160   \n",
       "\n",
       "                                     Ошибка_сервиса  Страниц_за_визит  \\\n",
       "Маркет_актив_6_мес                         0.039146          0.322717   \n",
       "Маркет_актив_тек_мес                       0.085020          0.002296   \n",
       "Длительность                               0.105002         -0.035167   \n",
       "Акционные_покупки                         -0.054356         -0.375170   \n",
       "Средний_просмотр_категорий_за_визит        0.007450          0.271035   \n",
       "Неоплаченные_продукты_штук_квартал        -0.099952         -0.168587   \n",
       "Ошибка_сервиса                             1.000000          0.104916   \n",
       "Страниц_за_визит                           0.104916          1.000000   \n",
       "предыдущий_месяц_выручка                   0.035512         -0.067325   \n",
       "препредыдущий_месяц_выручка                0.091754          0.314533   \n",
       "текущий_месяц_выручка                      0.039762         -0.050842   \n",
       "предыдущий_месяц_время                     0.197071          0.454532   \n",
       "текущий_месяц_время                        0.074942          0.301355   \n",
       "\n",
       "                                     предыдущий_месяц_выручка  \\\n",
       "Маркет_актив_6_мес                                  -0.000307   \n",
       "Маркет_актив_тек_мес                                -0.022918   \n",
       "Длительность                                         0.012973   \n",
       "Акционные_покупки                                    0.003609   \n",
       "Средний_просмотр_категорий_за_визит                 -0.053626   \n",
       "Неоплаченные_продукты_штук_квартал                   0.031015   \n",
       "Ошибка_сервиса                                       0.035512   \n",
       "Страниц_за_визит                                    -0.067325   \n",
       "предыдущий_месяц_выручка                             1.000000   \n",
       "препредыдущий_месяц_выручка                          0.305498   \n",
       "текущий_месяц_выручка                                0.878978   \n",
       "предыдущий_месяц_время                              -0.084575   \n",
       "текущий_месяц_время                                 -0.085675   \n",
       "\n",
       "                                     препредыдущий_месяц_выручка  \\\n",
       "Маркет_актив_6_мес                                      0.236113   \n",
       "Маркет_актив_тек_мес                                   -0.039017   \n",
       "Длительность                                           -0.039637   \n",
       "Акционные_покупки                                      -0.272758   \n",
       "Средний_просмотр_категорий_за_визит                     0.150514   \n",
       "Неоплаченные_продукты_штук_квартал                     -0.254726   \n",
       "Ошибка_сервиса                                          0.091754   \n",
       "Страниц_за_визит                                        0.314533   \n",
       "предыдущий_месяц_выручка                                0.305498   \n",
       "препредыдущий_месяц_выручка                             1.000000   \n",
       "текущий_месяц_выручка                                   0.148597   \n",
       "предыдущий_месяц_время                                  0.352021   \n",
       "текущий_месяц_время                                     0.295404   \n",
       "\n",
       "                                     текущий_месяц_выручка  \\\n",
       "Маркет_актив_6_мес                                0.006231   \n",
       "Маркет_актив_тек_мес                             -0.006519   \n",
       "Длительность                                      0.014797   \n",
       "Акционные_покупки                                 0.020602   \n",
       "Средний_просмотр_категорий_за_визит              -0.075584   \n",
       "Неоплаченные_продукты_штук_квартал                0.059603   \n",
       "Ошибка_сервиса                                    0.039762   \n",
       "Страниц_за_визит                                 -0.050842   \n",
       "предыдущий_месяц_выручка                          0.878978   \n",
       "препредыдущий_месяц_выручка                       0.148597   \n",
       "текущий_месяц_выручка                             1.000000   \n",
       "предыдущий_месяц_время                           -0.143352   \n",
       "текущий_месяц_время                              -0.166364   \n",
       "\n",
       "                                     предыдущий_месяц_время  \\\n",
       "Маркет_актив_6_мес                                 0.275904   \n",
       "Маркет_актив_тек_мес                               0.011878   \n",
       "Длительность                                      -0.127521   \n",
       "Акционные_покупки                                 -0.333432   \n",
       "Средний_просмотр_категорий_за_визит                0.152915   \n",
       "Неоплаченные_продукты_штук_квартал                -0.186458   \n",
       "Ошибка_сервиса                                     0.197071   \n",
       "Страниц_за_визит                                   0.454532   \n",
       "предыдущий_месяц_выручка                          -0.084575   \n",
       "препредыдущий_месяц_выручка                        0.352021   \n",
       "текущий_месяц_выручка                             -0.143352   \n",
       "предыдущий_месяц_время                             1.000000   \n",
       "текущий_месяц_время                                0.363211   \n",
       "\n",
       "                                     текущий_месяц_время  \n",
       "Маркет_актив_6_мес                              0.228046  \n",
       "Маркет_актив_тек_мес                           -0.066205  \n",
       "Длительность                                    0.085449  \n",
       "Акционные_покупки                              -0.278451  \n",
       "Средний_просмотр_категорий_за_визит             0.236218  \n",
       "Неоплаченные_продукты_штук_квартал             -0.221160  \n",
       "Ошибка_сервиса                                  0.074942  \n",
       "Страниц_за_визит                                0.301355  \n",
       "предыдущий_месяц_выручка                       -0.085675  \n",
       "препредыдущий_месяц_выручка                     0.295404  \n",
       "текущий_месяц_выручка                          -0.166364  \n",
       "предыдущий_месяц_время                          0.363211  \n",
       "текущий_месяц_время                             1.000000  "
      ]
     },
     "metadata": {},
     "output_type": "display_data"
    },
    {
     "data": {
      "image/png": "[encoded data removed]",
      "text/plain": [
       "<Figure size 576x576 with 2 Axes>"
      ]
     },
     "metadata": {
      "needs_background": "light"
     },
     "output_type": "display_data"
    }
   ],
   "source": [
    "# Расчёт корреляционной матрицы для numeric\n",
    "corr_matrix_spearman = market_data[numeric].corr(method='spearman')\n",
    "\n",
    "# Выведем корреляционную матрицу\n",
    "display(corr_matrix_spearman)\n",
    "# Построение тепловой карты для корреляционной матрицы Спирмана\n",
    "plt.figure(figsize=(8, 8))\n",
    "sns.heatmap(corr_matrix_spearman, annot=True, cmap='coolwarm', cbar=True, square=True)\n",
    "plt.title('Корреляционная матрица Спирмана')\n",
    "plt.show()"
   ]
  },
  {
   "cell_type": "code",
   "execution_count": 37,
   "id": "e75d4821",
   "metadata": {},
   "outputs": [
    {
     "name": "stdout",
     "output_type": "stream",
     "text": [
      "Оценка VIF:\n",
      "                               Variable         VIF\n",
      "0                                 const  353.604342\n",
      "1                    Маркет_актив_6_мес    1.222922\n",
      "2                  Маркет_актив_тек_мес    1.043816\n",
      "3                          Длительность    1.101625\n",
      "4                     Акционные_покупки    1.190825\n",
      "5   Средний_просмотр_категорий_за_визит    1.181348\n",
      "6    Неоплаченные_продукты_штук_квартал    1.202090\n",
      "7                        Ошибка_сервиса    1.079257\n",
      "8                      Страниц_за_визит    1.424514\n",
      "9              предыдущий_месяц_выручка    4.256986\n",
      "10          препредыдущий_месяц_выручка    1.607059\n",
      "11                текущий_месяц_выручка    3.899695\n",
      "12               предыдущий_месяц_время    1.536037\n",
      "13                  текущий_месяц_время    1.324047\n"
     ]
    }
   ],
   "source": [
    "# Оценим наличие мультиколлинеарности для numeric\n",
    "for col in numeric:\n",
    "    for col2 in numeric:\n",
    "        if col != col2:\n",
    "            corr = market_data[col].corr(market_data[col2], method='spearman')\n",
    "            if abs(corr) > 0.9:\n",
    "                print(f'Корреляция между {col} и {col2} составляет {corr:.2f}')\n",
    "                print(f'Мультиколлинеарность между {col} и {col2} выявлена')\n",
    "                print()\n",
    "\n",
    "# Подготовка данных для расчета VIF\n",
    "X = market_data[numeric].copy()\n",
    "X = sm.add_constant(X)  # Добавляем константу для расчета VIF\n",
    "\n",
    "# Расчет VIF\n",
    "vif = pd.DataFrame()\n",
    "vif['Variable'] = X.columns\n",
    "vif['VIF'] = [variance_inflation_factor(X.values, i) for i in range(X.shape[1])]\n",
    "\n",
    "print(\"Оценка VIF:\")\n",
    "print(vif)"
   ]
  },
  {
   "cell_type": "markdown",
   "id": "ececa9a1",
   "metadata": {},
   "source": [
    "Анализ результатов\n",
    "\n",
    "Все переменные имеют значения VIF, значительно меньше 10.\n",
    "Самое высокое значение VIF, кроме константы, составляет 4.2569 (для переменной \"предыдущий_месяц_выручка\").\n",
    "Значение VIF для константы (const) составляет 353.6, но это нормально и ожидаемо, так как константа всегда включается в модель для учета смещения.\n",
    "\n",
    "Заключение\n",
    "\n",
    "На основе значений VIF, представленных в вашем анализе, можно сделать следующие выводы:\n",
    "\n",
    "1. Отсутствие значительной мультиколлинеарности: Значения VIF для всех количественных признаков находятся значительно ниже 10, что указывает на отсутствие значительных проблем с мультиколлинеарностью.\n",
    "\n",
    "2. Нет необходимости в коррекции: Поскольку все значения VIF находятся в пределах допустимого диапазона, нет необходимости в удалении или объединении признаков для устранения мультиколлинеарности."
   ]
  },
  {
   "cell_type": "markdown",
   "id": "65a866e7",
   "metadata": {},
   "source": [
    "# Использование пайплайнов\n",
    "Примените все изученные модели. Для этого используйте пайплайны.\n",
    "\n",
    "7.1. Во время подготовки данных используйте ColumnTransformer. Количественные и категориальные признаки обработайте в пайплайне раздельно. Для кодирования категориальных признаков используйте как минимум два кодировщика, для масштабирования количественных — как минимум два скейлера.\n",
    "Напоминаем, что для каждой модели можно подготовить данные с разным кодированием и масштабированием.\n",
    "\n",
    "7.2 Обучите четыре модели: KNeighborsClassifier(), DecisionTreeClassifier(), LogisticRegression() и  SVC(). Для каждой из них подберите как минимум один гиперпараметр. Выберите подходящую для задачи метрику, аргументируйте свой выбор. Используйте эту метрику при подборе гиперпараметров.\n",
    "\n",
    "7.3 Выберите лучшую модель, используя заданную метрику. Для этого примените одну из стратегий:\n",
    "\n",
    " - использовать пайплайны и инструменты подбора гиперпараметров для каждой модели отдельно, чтобы выбрать лучшую модель самостоятельно;\n",
    "\n",
    " - использовать один общий пайплайн для всех моделей и инструмент подбора гиперпараметров, который вернёт вам лучшую модель."
   ]
  },
  {
   "cell_type": "code",
   "execution_count": 38,
   "id": "c60aeb49",
   "metadata": {
    "scrolled": false
   },
   "outputs": [
    {
     "name": "stdout",
     "output_type": "stream",
     "text": [
      "Лучшая модель и её параметры:\n",
      "\n",
      " Pipeline(steps=[('preprocessor',\n",
      "                 ColumnTransformer(remainder='passthrough',\n",
      "                                   transformers=[('ohe',\n",
      "                                                  OneHotEncoder(drop='first'),\n",
      "                                                  ['Разрешить_сообщать',\n",
      "                                                   'Популярная_категория']),\n",
      "                                                 ('oe', OrdinalEncoder(),\n",
      "                                                  ['Тип_сервиса']),\n",
      "                                                 ('num', StandardScaler(),\n",
      "                                                  ['Маркет_актив_6_мес',\n",
      "                                                   'Маркет_актив_тек_мес',\n",
      "                                                   'Длительность',\n",
      "                                                   'Акционные_покупки',\n",
      "                                                   'Средний_просмотр_категорий_за_визит',\n",
      "                                                   'Неоплаченные_продукты_штук_квартал',\n",
      "                                                   'Ошибка_сервиса',\n",
      "                                                   'Страниц_за_визит',\n",
      "                                                   'предыдущий_месяц_выручка',\n",
      "                                                   'препредыдущий_месяц_выручка',\n",
      "                                                   'текущий_месяц_выручка',\n",
      "                                                   'предыдущий_месяц_время',\n",
      "                                                   'текущий_месяц_время'])])),\n",
      "                ('models', KNeighborsClassifier(n_neighbors=41))])\n",
      "Метрика лучшей модели на тренировочной выборке: 0.9164180645181579\n",
      "Метрика ROC-AUC на тестовой выборке: 0.9092142592821019\n"
     ]
    }
   ],
   "source": [
    "# задаем константы\n",
    "\n",
    "RANDOM_STATE = 42\n",
    "TEST_SIZE = 0.25\n",
    "\n",
    "encoder = LabelEncoder()  # создаем экземпляр LabelEncoder\n",
    "\n",
    "# Определение переменных\n",
    "X = market_data.drop('Покупательская_активность', axis=1)\n",
    "y = market_data['Покупательская_активность']\n",
    "\n",
    "# Разделение данных на обучающую и тестовую выборки\n",
    "X_train, X_test, y_train, y_test = train_test_split(\n",
    "    X,\n",
    "    y,\n",
    "    test_size = TEST_SIZE, \n",
    "    random_state = RANDOM_STATE,\n",
    "    stratify = y)\n",
    "\n",
    "# Применение LabelEncoder на обучающей выборке\n",
    "encoder = LabelEncoder()\n",
    "y_train = encoder.fit_transform(y_train)\n",
    "y_test = encoder.transform(y_test)\n",
    "\n",
    "# Определение количественных и категориальных признаков\n",
    "ohe_columns = categorical\n",
    "ord_columns = ['Тип_сервиса']\n",
    "num_columns = numeric\n",
    "\n",
    "# создаём общий пайплайн для подготовки данных\n",
    "data_preprocessor = ColumnTransformer([\n",
    "    ('ohe', OneHotEncoder(drop='first', handle_unknown='error'), ohe_columns),\n",
    "    ('oe', OrdinalEncoder(), ord_columns),\n",
    "    ('num', StandardScaler(), num_columns)\n",
    "], remainder='passthrough')\n",
    "\n",
    "# создаём итоговый пайплайн: подготовка данных и модель\n",
    "pipe_final = Pipeline([\n",
    "    ('preprocessor', data_preprocessor),\n",
    "    ('models', DecisionTreeClassifier(random_state=RANDOM_STATE))\n",
    "])\n",
    "\n",
    "param_grid = [\n",
    "    # словарь для модели DecisionTreeClassifier()\n",
    "    {\n",
    "        'models': [DecisionTreeClassifier(random_state=RANDOM_STATE)],\n",
    "        'models__max_depth': range(2, 5),\n",
    "        'models__max_features': range(2, 5)\n",
    "    },\n",
    "    # словарь для модели KNeighborsClassifier() \n",
    "    {\n",
    "        'models': [KNeighborsClassifier()],\n",
    "        'models__n_neighbors': range(5, 100)\n",
    "    },\n",
    "\n",
    "    # словарь для модели LogisticRegression()\n",
    "    {\n",
    "        'models': [LogisticRegression(random_state=RANDOM_STATE)],\n",
    "        'models__C': [0.1, 1.0, 10.0, 100.0]\n",
    "    },\n",
    "    # словарь для модели SVC()\n",
    "    {\n",
    "        'models': [SVC(probability=True, random_state=RANDOM_STATE)],\n",
    "        'models__kernel': ['linear', 'rbf']\n",
    "    }\n",
    "]\n",
    "\n",
    "randomized_search = RandomizedSearchCV(\n",
    "    pipe_final, \n",
    "    param_grid, \n",
    "    cv=5,\n",
    "    scoring='roc_auc',\n",
    "    random_state=RANDOM_STATE,\n",
    "    n_jobs=-1\n",
    ")\n",
    "randomized_search.fit(X_train, y_train)\n",
    "\n",
    "# Выбираем лучшую модель\n",
    "print('Лучшая модель и её параметры:\\n\\n', randomized_search.best_estimator_)\n",
    "print ('Метрика лучшей модели на тренировочной выборке:', randomized_search.best_score_)\n",
    "\n",
    "# Считаем метрики на тестовой выборке\n",
    "y_test_pred = randomized_search.predict_proba(X_test)\n",
    "print(f'Метрика ROC-AUC на тестовой выборке: {roc_auc_score(y_test, y_test_pred[:, 1])}')"
   ]
  },
  {
   "cell_type": "markdown",
   "id": "eb558259",
   "metadata": {},
   "source": [
    "# Анализ важности признаков\n",
    "\n",
    "8.1. Оцените важность признаков для лучшей модели и постройте график важности с помощью метода SHAP. \n",
    "\n",
    "8.2. Сделайте выводы о значимости признаков:\n",
    "\n",
    "какие признаки мало значимы для модели;\n",
    "\n",
    "какие признаки сильнее всего влияют на целевой признак;\n",
    "\n",
    "как можно использовать эти наблюдения при моделировании и принятии бизнес-решений."
   ]
  },
  {
   "cell_type": "code",
   "execution_count": 39,
   "id": "a55c6d40",
   "metadata": {
    "scrolled": true
   },
   "outputs": [
    {
     "data": {
      "application/vnd.jupyter.widget-view+json": {
       "model_id": "c1e9b159b4784766844f710f6c90d24d",
       "version_major": 2,
       "version_minor": 0
      },
      "text/plain": [
       "  0%|          | 0/322 [00:00<?, ?it/s]"
      ]
     },
     "metadata": {},
     "output_type": "display_data"
    },
    {
     "data": {
      "image/png": "[encoded data removed]",
      "text/plain": [
       "<Figure size 576x720 with 1 Axes>"
      ]
     },
     "metadata": {},
     "output_type": "display_data"
    },
    {
     "data": {
      "image/png": "[encoded data removed]",
      "text/plain": [
       "<Figure size 576x597.6 with 2 Axes>"
      ]
     },
     "metadata": {
      "needs_background": "light"
     },
     "output_type": "display_data"
    }
   ],
   "source": [
    "# Извлечение лучшей модели и предварительной обработки\n",
    "best_model = randomized_search.best_estimator_.named_steps['models']\n",
    "preprocessor = randomized_search.best_estimator_.named_steps['preprocessor']\n",
    "\n",
    "\n",
    "X_train_preprocessed = pd.DataFrame(\n",
    "    preprocessor.transform(X_train),\n",
    "    columns=preprocessor.get_feature_names_out()\n",
    ")\n",
    "\n",
    "X_test_preprocessed = pd.DataFrame(\n",
    "    preprocessor.transform(X_test),\n",
    "    columns=preprocessor.get_feature_names_out()\n",
    ")\n",
    "\n",
    "X_train_preprocessed.head().T\n",
    "\n",
    "background = shap.kmeans(X_train_preprocessed, 10)\n",
    "\n",
    "# Создание объекта Explainer для модели SVC\n",
    "explainer = shap.KernelExplainer(best_model.predict, background)\n",
    "\n",
    "# Вычисление значений SHAP для тестовых данных\n",
    "shap_values = explainer(X_test_preprocessed)\n",
    "\n",
    "# Построение графика - общий вклад признаков в прогнозы модели\n",
    "shap.plots.bar(shap_values, max_display=17)\n",
    "\n",
    "shap.plots.beeswarm(shap_values, max_display=17)"
   ]
  },
  {
   "cell_type": "markdown",
   "id": "e41b0732",
   "metadata": {},
   "source": [
    "## Какие признаки мало значимы для модели:\n",
    "\n",
    " - Популярные категории;\n",
    " - Тип сервиса;\n",
    " - Маркетинговая активность в текущем месяце;\n",
    " - Ошибки сервиса;\n",
    " - Выручка в текущем и предыдущем месяцах;\n",
    " - Длительность.\n",
    "\n",
    "## Какие признаки сильнее всего влияют на целевой признак:\n",
    "\n",
    " - Кол-во страниц интернет-магазина, просмотренное пользователем;\n",
    " - Высокая доля покупок по акциям;\n",
    " - Время, проведенное на сайте в текущем и предыдущем месяцах;\n",
    " - Кол-во категорий, просмотренное пользователем;\n",
    "\n",
    "## Как можно использовать эти наблюдения при моделировании и принятии бизнес-решений:\n",
    "\n",
    "    1. Необходимо удерживать покупателей, потративших больше времени и просмотревших больше страниц ресурса, чем в среднем.\n",
    "    2. Необходимо удерживать покупателей, которые совершают больше покупок по акциям.\n",
    "    3. Необходимо удерживать покупателей, которые смотрят больше категорий.\n",
    "    "
   ]
  },
  {
   "cell_type": "markdown",
   "id": "88198666",
   "metadata": {},
   "source": [
    "# Сегментация покупателей\n",
    "\n",
    "9.1. Выполните сегментацию покупателей. Используйте результаты моделирования и данные о прибыльности покупателей.\n",
    "\n",
    "9.2. Выберите группу покупателей и предложите, как увеличить её покупательскую активность: \n",
    "\n",
    "    - Проведите графическое и аналитическое исследование группы покупателей.\n",
    "    - Сделайте предложения по работе с сегментом для увеличения покупательской активности.\n",
    "    \n",
    "9.3. Сделайте выводы о сегментах:\n",
    "\n",
    "    - какой сегмент вы взяли для дополнительного исследования,\n",
    "    - какие предложения вы сделали и почему."
   ]
  },
  {
   "cell_type": "raw",
   "id": "f67b54ce",
   "metadata": {},
   "source": [
    "<font color='blue'><b>Комментарий ревьюера : </b></font> ❌\n",
    "\n",
    "```text\n",
    "8.1 Выполните сегментацию покупателей. Используйте результаты моделирования и данные о прибыльности покупателей.\n",
    "```\n",
    "<font color='red'> Попробую описать, что мы должны сделать:\n",
    "\n",
    "Самое важное − мы должны по заданию выбрать некоторый сегмент пользователей, обосновать выбор сегмента, обосновать то, как мы этот сегмент определяем (почему выбираем такие значения признаков для отбора пользователей в сегмент), а дальше исследовать только этот сегмент.\n",
    "\n",
    "При выделении сегмента нужно опираться на две шкалы:\n",
    "- вероятность снижения, предикты лучшей модели полученые методом `predict_proba`() по интересующему нас классу (\"Снизилось\"), и\n",
    "- Прибыль от клиентов из таблицы money.csv\n",
    "    \n",
    "Границы сегмента по этим двум шкалам можно определить самостоятельно, например по диаграмме рассеяния, где по одной оси будет результат моделирования (вероятность снижения), а по другой прибыль.\n",
    "    \n",
    "Далее проводим Анализ данных по выбраному сегменту и какой нибудь группы клиентов, например, которые посещают мало страниц.\\\n",
    "Формулируем предложение по работе с сегментом для увеличения покупательской активности.</font>"
   ]
  },
  {
   "cell_type": "raw",
   "id": "a866d9be",
   "metadata": {},
   "source": [
    "<font color='blue'><b>Комментарий ревьюера 2: </b></font> ❌\n",
    "```text\n",
    "8.1 Выполните сегментацию покупателей. Используйте результаты моделирования и данные о прибыльности покупателей.\n",
    "```\n",
    "<font color='red'> Нужно выделить сегмент по двум переменным (вероятность снижения и прибыль), для этого определяем и аргументируем два порога по этим осям, проще всего это посмотреть на рассеивание.\n",
    "![](https://i.postimg.cc/DZ3GSqwK/102458.png)\n",
    "\n",
    "Это, условно, те с кем имеет смысл работать.\\\n",
    "Затем определяем группу клиентов из сегмента (например по акционным покупкам) и сравниваем этих клиентов со всеми остальньнымим по другим факторам, для выявления различий (можно строить парные графики или накладывать гистограммы). На основании сравнения формируем рекомендации.</font>"
   ]
  },
  {
   "cell_type": "code",
   "execution_count": 40,
   "id": "025eed3e",
   "metadata": {},
   "outputs": [],
   "source": [
    "threshold = 0.9\n",
    "\n",
    "# Применим модель для всех данных\n",
    "best_model = randomized_search.best_estimator_\n",
    "predictions = best_model.predict_proba(X)[:, 1]\n",
    "prediction_flags = np.where(predictions > threshold, True, False)"
   ]
  },
  {
   "cell_type": "code",
   "execution_count": 41,
   "id": "e81419d8",
   "metadata": {},
   "outputs": [
    {
     "name": "stdout",
     "output_type": "stream",
     "text": [
      "<class 'pandas.core.frame.DataFrame'>\n",
      "Int64Index: 210 entries, 215349 to 215910\n",
      "Data columns (total 18 columns):\n",
      " #   Column                               Non-Null Count  Dtype  \n",
      "---  ------                               --------------  -----  \n",
      " 0   Покупательская_активность            210 non-null    object \n",
      " 1   Тип_сервиса                          210 non-null    object \n",
      " 2   Разрешить_сообщать                   210 non-null    object \n",
      " 3   Маркет_актив_6_мес                   210 non-null    float64\n",
      " 4   Маркет_актив_тек_мес                 210 non-null    int64  \n",
      " 5   Длительность                         210 non-null    int64  \n",
      " 6   Акционные_покупки                    210 non-null    float64\n",
      " 7   Популярная_категория                 210 non-null    object \n",
      " 8   Средний_просмотр_категорий_за_визит  210 non-null    int64  \n",
      " 9   Неоплаченные_продукты_штук_квартал   210 non-null    int64  \n",
      " 10  Ошибка_сервиса                       210 non-null    int64  \n",
      " 11  Страниц_за_визит                     210 non-null    int64  \n",
      " 12  предыдущий_месяц_выручка             210 non-null    float64\n",
      " 13  препредыдущий_месяц_выручка          210 non-null    float64\n",
      " 14  текущий_месяц_выручка                210 non-null    float64\n",
      " 15  предыдущий_месяц_время               210 non-null    int64  \n",
      " 16  текущий_месяц_время                  210 non-null    int64  \n",
      " 17  Прибыль                              210 non-null    float64\n",
      "dtypes: float64(6), int64(8), object(4)\n",
      "memory usage: 31.2+ KB\n"
     ]
    }
   ],
   "source": [
    "# Выберем только те данные для которых модель предсказала снижение\n",
    "df_decline = market_data.loc[prediction_flags]\n",
    "\n",
    "# Добавим в эти данные прибыльность из таблицы money\n",
    "df_decline = df_decline.join(money.set_index('id'), on='id', how='left')\n",
    "\n",
    "# Проверим что появился столбец\n",
    "df_decline.info()"
   ]
  },
  {
   "cell_type": "code",
   "execution_count": 42,
   "id": "d0ada20d",
   "metadata": {},
   "outputs": [
    {
     "data": {
      "image/png": "[encoded data removed]",
      "text/plain": [
       "<Figure size 1512x504 with 3 Axes>"
      ]
     },
     "metadata": {
      "needs_background": "light"
     },
     "output_type": "display_data"
    },
    {
     "data": {
      "image/png": "[encoded data removed]",
      "text/plain": [
       "<Figure size 1440x720 with 2 Axes>"
      ]
     },
     "metadata": {
      "needs_background": "light"
     },
     "output_type": "display_data"
    }
   ],
   "source": [
    "# У нас есть список параметров которые влияют на снижение покупательской активности. \n",
    "# Возьмем первые 5 и выделим группу на основе них\n",
    "# Страниц_за_визит, предыдущий_месяц_время, текущий_месяц_время, Акционные_покупки, Средний_просмотр_категорий_за_визит\n",
    "\n",
    "plt.figure(figsize=(21, 7))\n",
    "\n",
    "plt.subplot(1, 3, 1)\n",
    "sns.histplot(df_decline['Страниц_за_визит'], bins=10)\n",
    "plt.title('Страниц_за_визит')\n",
    "\n",
    "plt.subplot(1, 3, 2)\n",
    "sns.histplot(df_decline['предыдущий_месяц_время'], bins=10)\n",
    "plt.title('предыдущий_месяц_время')\n",
    "\n",
    "plt.subplot(1, 3, 3)\n",
    "sns.histplot(df_decline['текущий_месяц_время'], bins=20)\n",
    "plt.title('текущий_месяц_время')\n",
    "\n",
    "plt.tight_layout()\n",
    "plt.show()\n",
    "\n",
    "plt.figure(figsize=(20, 10))\n",
    "\n",
    "plt.subplot(1, 2, 1)\n",
    "sns.histplot(df_decline['Акционные_покупки'], bins=10)\n",
    "plt.title('Акционные_покупки')\n",
    "\n",
    "plt.subplot(1, 2, 2)\n",
    "sns.histplot(df_decline['Средний_просмотр_категорий_за_визит'], bins=10)\n",
    "plt.title('Популярная Средний_просмотр_категорий_за_визит')\n",
    "plt.xticks(rotation=45)\n",
    "\n",
    "plt.tight_layout()\n",
    "plt.show()"
   ]
  },
  {
   "cell_type": "markdown",
   "id": "ba99a729",
   "metadata": {},
   "source": [
    "## Промежуточные Выводы\n",
    "\n",
    "Для сегментации мы взяли группу клиентов, для которых модель предсказала снижение покупательской активности. \n",
    "\n",
    "Для того, чтобы увеличить покупательскую активность данной группы, необходимо:\n",
    "\n",
    " 1. Стимулировать число просмотренных страниц, а также время, проведенное на сайте, т.к. данные параметры ниже, чем их нормальное распределение.\n",
    " 2. Проводить больше акций для данной группы клиентов, т.к. существенное кол-во данных клиентов имеют статистику покупки акционных товаров существенно ниже среднего."
   ]
  },
  {
   "cell_type": "markdown",
   "id": "856b7bbd",
   "metadata": {},
   "source": [
    "# Общие выводы\n",
    "\n",
    "В результате проделанной работы мы:\n",
    "\n",
    " 1. Получили исходные данные в виде 4-х датасетов.\n",
    " \n",
    " \n",
    " 2. Провели предобработку данных. \n",
    " \n",
    "     2.1. Проверили и скорректировали правильность типов данных;\n",
    " \n",
    "     2.2. Проверили наличие пропусков (отсутствуют);\n",
    "     \n",
    "     2.3. Проверили наличие явных дубликатов (отсутствуют);\n",
    "     \n",
    "     2.4. Проверили наличие неявных дубликатов (скорректировали);\n",
    "     \n",
    "     2.5. Переименовали столбцы;\n",
    "     \n",
    "     2.6. Заменили выброс на медианное значение;\n",
    "     \n",
    " 3. Провели исследовательский анализ данных.\n",
    " \n",
    "    3.1. Большинство пользователей имеют стандартную подписку.\n",
    "    \n",
    "    3.2. При этом, только 15% от премиум пользователей согласны получать рекламные сообщения, тогда как для стандартных пользователей этот показатель - около 50%.\n",
    "    \n",
    "    3.3. Пользователи премиум подписки статистически дольше клиенты сервиса, чем клиенты-стандарт.\n",
    "    \n",
    "    3.4. В обоих категория есть пользователи, совершающие покупки исключительно акционных товаров.\n",
    "    \n",
    "    3.5. В зависимости от категорий подписок, топ популярных категорий практически идентичен.\n",
    "    \n",
    "    3.6. Выручка растет на протяжении 3-х месяцев.\n",
    "    \n",
    "    3.7. Среднее время, проведенное на сайте клиентами практически не изменилось.\n",
    "    \n",
    "    3.8. Количество клиентов с прибылью равной 0: 9. Количество клиентов с выручкой больше 0: 3900\n",
    "    \n",
    "    \n",
    " 4. Объединили данные в один датасет.\n",
    " \n",
    " \n",
    " 5. Провели корреляционный анализ.\n",
    " \n",
    "    5.1. Отсутствие значительной мультиколлинеарности: Значения VIF для всех количественных признаков находятся значительно ниже 10, что указывает на отсутствие значительных проблем с мультиколлинеарностью.\n",
    "\n",
    "    5.2. Нет необходимости в коррекции: Поскольку все значения VIF находятся в пределах допустимого диапазона, нет необходимости в удалении или объединении признаков для устранения мультиколлинеарности.\n",
    "    \n",
    "    \n",
    " 6. С помощью пайплайнов и метрик определили наилучшую модель предсказания целевого признака, обучили ее и использовали.\n",
    " \n",
    "    6.1. Во время подготовки данных использовали ColumnTransformer. Количественные и категориальные признаки обработали в пайплайне раздельно. Для кодирования категориальных признаков использовали как минимум два кодировщика, для масштабирования количественных — как минимум два скейлера. \n",
    "\n",
    "    6.2. Обучили четыре модели: KNeighborsClassifier(), DecisionTreeClassifier(), LogisticRegression() и SVC(). Для каждой из них подобрали как минимум один гиперпараметр. Выбрали подходящую для задачи метрику Roc-Auc.\n",
    "\n",
    "    6.3. Выбарите лучшую модель, используя заданную метрику. Это оказалась модель KNN.\n",
    "  \n",
    "  \n",
    " 7. Оценили значимость признаков.\n",
    " \n",
    "     7.1. Какие признаки мало значимы для модели:\n",
    "\n",
    " - Популярные категории;\n",
    " - Тип сервиса;\n",
    " - Маркетинговая активность в текущем месяце;\n",
    " - Ошибки сервиса;\n",
    " - Выручка в текущем и предыдущем месяцах;\n",
    " - Длительность.\n",
    "\n",
    "    7.2. Какие признаки сильнее всего влияют на целевой признак:\n",
    "\n",
    " - Кол-во страниц интернет-магазина, просмотренное пользователем;\n",
    " - Высокая доля покупок по акциям;\n",
    " - Время, проведенное на сайте в текущем и предыдущем месяцах;\n",
    " - Кол-во категорий, просмотренное пользователем;\n",
    "\n",
    "    7.3. Как можно использовать эти наблюдения при моделировании и принятии бизнес-решений:\n",
    "\n",
    "    1. Необходимо удерживать покупателей, потративших больше времени и просмотревших больше страниц ресурса, чем в среднем.\n",
    "    2. Необходимо удерживать покупателей, которые совершают больше покупок по акциям.\n",
    "    3. Необходимо удерживать покупателей, которые смотрят больше категорий.\n",
    "\n",
    "8. Для сегментации мы взяли группу клиентов, для которых модель предсказала снижение покупательской активности. \n",
    "\n",
    "Для того, чтобы увеличить покупательскую активность данной группы, необходимо:\n",
    "\n",
    " 1. Стимулировать число просмотренных страниц, а также время, проведенное на сайте, т.к. данные параметры ниже, чем их нормальное распределение.\n",
    " 2. Проводить больше акций для данной группы клиентов, т.к. существенное кол-во данных клиентов имеют статистику покупки акционных товаров существенно ниже среднего."
   ]
  }
 ],
 "metadata": {
  "ExecuteTimeLog": [
   {
    "duration": 1571,
    "start_time": "2024-08-05T09:11:21.214Z"
   },
   {
    "duration": 0,
    "start_time": "2024-08-05T09:11:22.788Z"
   },
   {
    "duration": 0,
    "start_time": "2024-08-05T09:11:22.789Z"
   },
   {
    "duration": 0,
    "start_time": "2024-08-05T09:11:22.791Z"
   },
   {
    "duration": 0,
    "start_time": "2024-08-05T09:11:22.792Z"
   },
   {
    "duration": 0,
    "start_time": "2024-08-05T09:11:22.794Z"
   },
   {
    "duration": 0,
    "start_time": "2024-08-05T09:11:22.795Z"
   },
   {
    "duration": 0,
    "start_time": "2024-08-05T09:11:22.797Z"
   },
   {
    "duration": 0,
    "start_time": "2024-08-05T09:11:22.798Z"
   },
   {
    "duration": 0,
    "start_time": "2024-08-05T09:11:22.800Z"
   },
   {
    "duration": 0,
    "start_time": "2024-08-05T09:11:22.802Z"
   },
   {
    "duration": 0,
    "start_time": "2024-08-05T09:11:22.803Z"
   },
   {
    "duration": 0,
    "start_time": "2024-08-05T09:11:22.805Z"
   },
   {
    "duration": 0,
    "start_time": "2024-08-05T09:11:22.806Z"
   },
   {
    "duration": 0,
    "start_time": "2024-08-05T09:11:22.808Z"
   },
   {
    "duration": 0,
    "start_time": "2024-08-05T09:11:22.809Z"
   },
   {
    "duration": 0,
    "start_time": "2024-08-05T09:11:22.810Z"
   },
   {
    "duration": 0,
    "start_time": "2024-08-05T09:11:22.812Z"
   },
   {
    "duration": 0,
    "start_time": "2024-08-05T09:11:22.814Z"
   },
   {
    "duration": 0,
    "start_time": "2024-08-05T09:11:22.815Z"
   },
   {
    "duration": 0,
    "start_time": "2024-08-05T09:11:22.856Z"
   },
   {
    "duration": 0,
    "start_time": "2024-08-05T09:11:22.858Z"
   },
   {
    "duration": 0,
    "start_time": "2024-08-05T09:11:22.859Z"
   },
   {
    "duration": 0,
    "start_time": "2024-08-05T09:11:22.861Z"
   },
   {
    "duration": 0,
    "start_time": "2024-08-05T09:11:22.862Z"
   },
   {
    "duration": 0,
    "start_time": "2024-08-05T09:11:22.863Z"
   },
   {
    "duration": 0,
    "start_time": "2024-08-05T09:11:22.865Z"
   },
   {
    "duration": 0,
    "start_time": "2024-08-05T09:11:22.866Z"
   },
   {
    "duration": 0,
    "start_time": "2024-08-05T09:11:22.867Z"
   },
   {
    "duration": 0,
    "start_time": "2024-08-05T09:11:22.868Z"
   },
   {
    "duration": 0,
    "start_time": "2024-08-05T09:11:22.869Z"
   },
   {
    "duration": 0,
    "start_time": "2024-08-05T09:11:22.870Z"
   },
   {
    "duration": 0,
    "start_time": "2024-08-05T09:11:22.871Z"
   },
   {
    "duration": 0,
    "start_time": "2024-08-05T09:11:22.872Z"
   },
   {
    "duration": 1709,
    "start_time": "2024-08-05T09:11:42.861Z"
   },
   {
    "duration": 410,
    "start_time": "2024-08-05T09:11:44.572Z"
   },
   {
    "duration": 8,
    "start_time": "2024-08-05T09:11:44.983Z"
   },
   {
    "duration": 84,
    "start_time": "2024-08-05T09:11:44.994Z"
   },
   {
    "duration": 45,
    "start_time": "2024-08-05T09:11:45.080Z"
   },
   {
    "duration": 70,
    "start_time": "2024-08-05T09:11:45.127Z"
   },
   {
    "duration": 105,
    "start_time": "2024-08-05T09:11:45.199Z"
   },
   {
    "duration": 53,
    "start_time": "2024-08-05T09:11:45.305Z"
   },
   {
    "duration": 91,
    "start_time": "2024-08-05T09:11:45.360Z"
   },
   {
    "duration": 51,
    "start_time": "2024-08-05T09:11:45.454Z"
   },
   {
    "duration": 243,
    "start_time": "2024-08-05T09:11:45.507Z"
   },
   {
    "duration": 4,
    "start_time": "2024-08-05T09:11:45.751Z"
   },
   {
    "duration": 43,
    "start_time": "2024-08-05T09:11:45.756Z"
   },
   {
    "duration": 132,
    "start_time": "2024-08-05T09:11:45.800Z"
   },
   {
    "duration": 4,
    "start_time": "2024-08-05T09:11:45.934Z"
   },
   {
    "duration": 27,
    "start_time": "2024-08-05T09:11:45.939Z"
   },
   {
    "duration": 10,
    "start_time": "2024-08-05T09:11:45.968Z"
   },
   {
    "duration": 98,
    "start_time": "2024-08-05T09:11:45.980Z"
   },
   {
    "duration": 177,
    "start_time": "2024-08-05T09:11:46.080Z"
   },
   {
    "duration": 163,
    "start_time": "2024-08-05T09:11:46.259Z"
   },
   {
    "duration": 176,
    "start_time": "2024-08-05T09:11:46.424Z"
   },
   {
    "duration": 248,
    "start_time": "2024-08-05T09:11:46.601Z"
   },
   {
    "duration": 170,
    "start_time": "2024-08-05T09:11:46.850Z"
   },
   {
    "duration": 176,
    "start_time": "2024-08-05T09:11:47.023Z"
   },
   {
    "duration": 8,
    "start_time": "2024-08-05T09:11:47.201Z"
   },
   {
    "duration": 19,
    "start_time": "2024-08-05T09:11:47.211Z"
   },
   {
    "duration": 64,
    "start_time": "2024-08-05T09:11:47.232Z"
   },
   {
    "duration": 19,
    "start_time": "2024-08-05T09:11:47.299Z"
   },
   {
    "duration": 51,
    "start_time": "2024-08-05T09:11:47.320Z"
   },
   {
    "duration": 3,
    "start_time": "2024-08-05T09:11:47.373Z"
   },
   {
    "duration": 1147,
    "start_time": "2024-08-05T09:11:47.378Z"
   },
   {
    "duration": 429,
    "start_time": "2024-08-05T09:11:48.527Z"
   },
   {
    "duration": 19624,
    "start_time": "2024-08-05T09:11:48.960Z"
   },
   {
    "duration": 161,
    "start_time": "2024-08-05T09:12:08.586Z"
   },
   {
    "duration": 1758,
    "start_time": "2024-08-05T09:19:41.648Z"
   },
   {
    "duration": 153,
    "start_time": "2024-08-05T09:19:43.408Z"
   },
   {
    "duration": 8,
    "start_time": "2024-08-05T09:19:43.563Z"
   },
   {
    "duration": 14,
    "start_time": "2024-08-05T09:19:43.572Z"
   },
   {
    "duration": 14,
    "start_time": "2024-08-05T09:19:43.588Z"
   },
   {
    "duration": 14,
    "start_time": "2024-08-05T09:19:43.603Z"
   },
   {
    "duration": 45,
    "start_time": "2024-08-05T09:19:43.619Z"
   },
   {
    "duration": 6,
    "start_time": "2024-08-05T09:19:43.665Z"
   },
   {
    "duration": 17,
    "start_time": "2024-08-05T09:19:43.672Z"
   },
   {
    "duration": 23,
    "start_time": "2024-08-05T09:19:43.691Z"
   },
   {
    "duration": 230,
    "start_time": "2024-08-05T09:19:43.716Z"
   },
   {
    "duration": 4,
    "start_time": "2024-08-05T09:19:43.954Z"
   },
   {
    "duration": 25,
    "start_time": "2024-08-05T09:19:43.960Z"
   },
   {
    "duration": 152,
    "start_time": "2024-08-05T09:19:43.988Z"
   },
   {
    "duration": 4,
    "start_time": "2024-08-05T09:19:44.142Z"
   },
   {
    "duration": 17,
    "start_time": "2024-08-05T09:19:44.156Z"
   },
   {
    "duration": 9,
    "start_time": "2024-08-05T09:19:44.174Z"
   },
   {
    "duration": 108,
    "start_time": "2024-08-05T09:19:44.185Z"
   },
   {
    "duration": 188,
    "start_time": "2024-08-05T09:19:44.295Z"
   },
   {
    "duration": 153,
    "start_time": "2024-08-05T09:19:44.485Z"
   },
   {
    "duration": 170,
    "start_time": "2024-08-05T09:19:44.639Z"
   },
   {
    "duration": 246,
    "start_time": "2024-08-05T09:19:44.811Z"
   },
   {
    "duration": 171,
    "start_time": "2024-08-05T09:19:45.059Z"
   },
   {
    "duration": 153,
    "start_time": "2024-08-05T09:19:45.232Z"
   },
   {
    "duration": 7,
    "start_time": "2024-08-05T09:19:45.386Z"
   },
   {
    "duration": 45,
    "start_time": "2024-08-05T09:19:45.394Z"
   },
   {
    "duration": 54,
    "start_time": "2024-08-05T09:19:45.440Z"
   },
   {
    "duration": 46,
    "start_time": "2024-08-05T09:19:45.496Z"
   },
   {
    "duration": 41,
    "start_time": "2024-08-05T09:19:45.544Z"
   },
   {
    "duration": 4,
    "start_time": "2024-08-05T09:19:45.587Z"
   },
   {
    "duration": 1119,
    "start_time": "2024-08-05T09:19:45.593Z"
   },
   {
    "duration": 542,
    "start_time": "2024-08-05T09:19:46.714Z"
   },
   {
    "duration": 19954,
    "start_time": "2024-08-05T09:19:47.258Z"
   },
   {
    "duration": 175,
    "start_time": "2024-08-05T09:20:07.214Z"
   },
   {
    "duration": 0,
    "start_time": "2024-08-05T09:20:07.391Z"
   },
   {
    "duration": 1429,
    "start_time": "2024-08-05T09:20:51.638Z"
   },
   {
    "duration": 0,
    "start_time": "2024-08-05T09:20:53.070Z"
   },
   {
    "duration": 0,
    "start_time": "2024-08-05T09:20:53.071Z"
   },
   {
    "duration": 0,
    "start_time": "2024-08-05T09:20:53.072Z"
   },
   {
    "duration": 0,
    "start_time": "2024-08-05T09:20:53.073Z"
   },
   {
    "duration": 0,
    "start_time": "2024-08-05T09:20:53.074Z"
   },
   {
    "duration": 0,
    "start_time": "2024-08-05T09:20:53.075Z"
   },
   {
    "duration": 0,
    "start_time": "2024-08-05T09:20:53.076Z"
   },
   {
    "duration": 0,
    "start_time": "2024-08-05T09:20:53.078Z"
   },
   {
    "duration": 0,
    "start_time": "2024-08-05T09:20:53.078Z"
   },
   {
    "duration": 0,
    "start_time": "2024-08-05T09:20:53.079Z"
   },
   {
    "duration": 0,
    "start_time": "2024-08-05T09:20:53.080Z"
   },
   {
    "duration": 0,
    "start_time": "2024-08-05T09:20:53.082Z"
   },
   {
    "duration": 0,
    "start_time": "2024-08-05T09:20:53.083Z"
   },
   {
    "duration": 0,
    "start_time": "2024-08-05T09:20:53.084Z"
   },
   {
    "duration": 0,
    "start_time": "2024-08-05T09:20:53.085Z"
   },
   {
    "duration": 0,
    "start_time": "2024-08-05T09:20:53.086Z"
   },
   {
    "duration": 0,
    "start_time": "2024-08-05T09:20:53.087Z"
   },
   {
    "duration": 0,
    "start_time": "2024-08-05T09:20:53.088Z"
   },
   {
    "duration": 0,
    "start_time": "2024-08-05T09:20:53.089Z"
   },
   {
    "duration": 0,
    "start_time": "2024-08-05T09:20:53.090Z"
   },
   {
    "duration": 0,
    "start_time": "2024-08-05T09:20:53.091Z"
   },
   {
    "duration": 0,
    "start_time": "2024-08-05T09:20:53.092Z"
   },
   {
    "duration": 1,
    "start_time": "2024-08-05T09:20:53.093Z"
   },
   {
    "duration": 0,
    "start_time": "2024-08-05T09:20:53.094Z"
   },
   {
    "duration": 0,
    "start_time": "2024-08-05T09:20:53.095Z"
   },
   {
    "duration": 0,
    "start_time": "2024-08-05T09:20:53.097Z"
   },
   {
    "duration": 0,
    "start_time": "2024-08-05T09:20:53.098Z"
   },
   {
    "duration": 0,
    "start_time": "2024-08-05T09:20:53.099Z"
   },
   {
    "duration": 0,
    "start_time": "2024-08-05T09:20:53.100Z"
   },
   {
    "duration": 0,
    "start_time": "2024-08-05T09:20:53.101Z"
   },
   {
    "duration": 0,
    "start_time": "2024-08-05T09:20:53.102Z"
   },
   {
    "duration": 0,
    "start_time": "2024-08-05T09:20:53.103Z"
   },
   {
    "duration": 0,
    "start_time": "2024-08-05T09:20:53.166Z"
   },
   {
    "duration": 0,
    "start_time": "2024-08-05T09:20:53.167Z"
   },
   {
    "duration": 6977,
    "start_time": "2024-08-05T09:23:36.433Z"
   },
   {
    "duration": 166,
    "start_time": "2024-08-05T09:23:43.412Z"
   },
   {
    "duration": 8,
    "start_time": "2024-08-05T09:23:43.580Z"
   },
   {
    "duration": 21,
    "start_time": "2024-08-05T09:23:43.590Z"
   },
   {
    "duration": 41,
    "start_time": "2024-08-05T09:23:43.613Z"
   },
   {
    "duration": 17,
    "start_time": "2024-08-05T09:23:43.662Z"
   },
   {
    "duration": 18,
    "start_time": "2024-08-05T09:23:43.681Z"
   },
   {
    "duration": 23,
    "start_time": "2024-08-05T09:23:43.700Z"
   },
   {
    "duration": 49,
    "start_time": "2024-08-05T09:23:43.725Z"
   },
   {
    "duration": 59,
    "start_time": "2024-08-05T09:23:43.775Z"
   },
   {
    "duration": 145,
    "start_time": "2024-08-05T09:23:43.836Z"
   },
   {
    "duration": 4,
    "start_time": "2024-08-05T09:23:43.983Z"
   },
   {
    "duration": 47,
    "start_time": "2024-08-05T09:23:43.989Z"
   },
   {
    "duration": 144,
    "start_time": "2024-08-05T09:23:44.039Z"
   },
   {
    "duration": 4,
    "start_time": "2024-08-05T09:23:44.184Z"
   },
   {
    "duration": 24,
    "start_time": "2024-08-05T09:23:44.190Z"
   },
   {
    "duration": 37,
    "start_time": "2024-08-05T09:23:44.216Z"
   },
   {
    "duration": 113,
    "start_time": "2024-08-05T09:23:44.257Z"
   },
   {
    "duration": 277,
    "start_time": "2024-08-05T09:23:44.372Z"
   },
   {
    "duration": 151,
    "start_time": "2024-08-05T09:23:44.650Z"
   },
   {
    "duration": 180,
    "start_time": "2024-08-05T09:23:44.803Z"
   },
   {
    "duration": 289,
    "start_time": "2024-08-05T09:23:44.985Z"
   },
   {
    "duration": 170,
    "start_time": "2024-08-05T09:23:45.277Z"
   },
   {
    "duration": 145,
    "start_time": "2024-08-05T09:23:45.464Z"
   },
   {
    "duration": 6,
    "start_time": "2024-08-05T09:23:45.611Z"
   },
   {
    "duration": 12,
    "start_time": "2024-08-05T09:23:45.618Z"
   },
   {
    "duration": 58,
    "start_time": "2024-08-05T09:23:45.632Z"
   },
   {
    "duration": 18,
    "start_time": "2024-08-05T09:23:45.691Z"
   },
   {
    "duration": 52,
    "start_time": "2024-08-05T09:23:45.711Z"
   },
   {
    "duration": 15,
    "start_time": "2024-08-05T09:23:45.769Z"
   },
   {
    "duration": 1300,
    "start_time": "2024-08-05T09:23:45.785Z"
   },
   {
    "duration": 592,
    "start_time": "2024-08-05T09:23:47.088Z"
   },
   {
    "duration": 19641,
    "start_time": "2024-08-05T09:23:47.770Z"
   },
   {
    "duration": 220,
    "start_time": "2024-08-05T09:24:07.412Z"
   },
   {
    "duration": 0,
    "start_time": "2024-08-05T09:24:07.634Z"
   },
   {
    "duration": 12669,
    "start_time": "2024-08-05T09:25:00.505Z"
   },
   {
    "duration": 0,
    "start_time": "2024-08-05T09:25:13.177Z"
   },
   {
    "duration": 0,
    "start_time": "2024-08-05T09:25:13.178Z"
   },
   {
    "duration": 0,
    "start_time": "2024-08-05T09:25:13.180Z"
   },
   {
    "duration": 0,
    "start_time": "2024-08-05T09:25:13.181Z"
   },
   {
    "duration": 0,
    "start_time": "2024-08-05T09:25:13.182Z"
   },
   {
    "duration": 0,
    "start_time": "2024-08-05T09:25:13.183Z"
   },
   {
    "duration": 0,
    "start_time": "2024-08-05T09:25:13.184Z"
   },
   {
    "duration": 0,
    "start_time": "2024-08-05T09:25:13.185Z"
   },
   {
    "duration": 0,
    "start_time": "2024-08-05T09:25:13.187Z"
   },
   {
    "duration": 0,
    "start_time": "2024-08-05T09:25:13.188Z"
   },
   {
    "duration": 0,
    "start_time": "2024-08-05T09:25:13.189Z"
   },
   {
    "duration": 0,
    "start_time": "2024-08-05T09:25:13.190Z"
   },
   {
    "duration": 0,
    "start_time": "2024-08-05T09:25:13.192Z"
   },
   {
    "duration": 0,
    "start_time": "2024-08-05T09:25:13.193Z"
   },
   {
    "duration": 0,
    "start_time": "2024-08-05T09:25:13.194Z"
   },
   {
    "duration": 0,
    "start_time": "2024-08-05T09:25:13.195Z"
   },
   {
    "duration": 0,
    "start_time": "2024-08-05T09:25:13.196Z"
   },
   {
    "duration": 0,
    "start_time": "2024-08-05T09:25:13.197Z"
   },
   {
    "duration": 0,
    "start_time": "2024-08-05T09:25:13.198Z"
   },
   {
    "duration": 0,
    "start_time": "2024-08-05T09:25:13.199Z"
   },
   {
    "duration": 0,
    "start_time": "2024-08-05T09:25:13.200Z"
   },
   {
    "duration": 0,
    "start_time": "2024-08-05T09:25:13.201Z"
   },
   {
    "duration": 0,
    "start_time": "2024-08-05T09:25:13.202Z"
   },
   {
    "duration": 0,
    "start_time": "2024-08-05T09:25:13.203Z"
   },
   {
    "duration": 0,
    "start_time": "2024-08-05T09:25:13.204Z"
   },
   {
    "duration": 0,
    "start_time": "2024-08-05T09:25:13.205Z"
   },
   {
    "duration": 0,
    "start_time": "2024-08-05T09:25:13.206Z"
   },
   {
    "duration": 0,
    "start_time": "2024-08-05T09:25:13.263Z"
   },
   {
    "duration": 0,
    "start_time": "2024-08-05T09:25:13.264Z"
   },
   {
    "duration": 0,
    "start_time": "2024-08-05T09:25:13.265Z"
   },
   {
    "duration": 0,
    "start_time": "2024-08-05T09:25:13.266Z"
   },
   {
    "duration": 0,
    "start_time": "2024-08-05T09:25:13.266Z"
   },
   {
    "duration": 0,
    "start_time": "2024-08-05T09:25:13.267Z"
   },
   {
    "duration": 0,
    "start_time": "2024-08-05T09:25:13.268Z"
   },
   {
    "duration": 9848,
    "start_time": "2024-08-05T09:25:27.659Z"
   },
   {
    "duration": 0,
    "start_time": "2024-08-05T09:25:37.510Z"
   },
   {
    "duration": 0,
    "start_time": "2024-08-05T09:25:37.511Z"
   },
   {
    "duration": 0,
    "start_time": "2024-08-05T09:25:37.512Z"
   },
   {
    "duration": 0,
    "start_time": "2024-08-05T09:25:37.513Z"
   },
   {
    "duration": 0,
    "start_time": "2024-08-05T09:25:37.515Z"
   },
   {
    "duration": 0,
    "start_time": "2024-08-05T09:25:37.516Z"
   },
   {
    "duration": 0,
    "start_time": "2024-08-05T09:25:37.517Z"
   },
   {
    "duration": 0,
    "start_time": "2024-08-05T09:25:37.519Z"
   },
   {
    "duration": 0,
    "start_time": "2024-08-05T09:25:37.521Z"
   },
   {
    "duration": 0,
    "start_time": "2024-08-05T09:25:37.522Z"
   },
   {
    "duration": 0,
    "start_time": "2024-08-05T09:25:37.524Z"
   },
   {
    "duration": 0,
    "start_time": "2024-08-05T09:25:37.525Z"
   },
   {
    "duration": 0,
    "start_time": "2024-08-05T09:25:37.555Z"
   },
   {
    "duration": 0,
    "start_time": "2024-08-05T09:25:37.556Z"
   },
   {
    "duration": 0,
    "start_time": "2024-08-05T09:25:37.557Z"
   },
   {
    "duration": 0,
    "start_time": "2024-08-05T09:25:37.558Z"
   },
   {
    "duration": 0,
    "start_time": "2024-08-05T09:25:37.563Z"
   },
   {
    "duration": 0,
    "start_time": "2024-08-05T09:25:37.564Z"
   },
   {
    "duration": 0,
    "start_time": "2024-08-05T09:25:37.568Z"
   },
   {
    "duration": 0,
    "start_time": "2024-08-05T09:25:37.569Z"
   },
   {
    "duration": 0,
    "start_time": "2024-08-05T09:25:37.571Z"
   },
   {
    "duration": 0,
    "start_time": "2024-08-05T09:25:37.572Z"
   },
   {
    "duration": 0,
    "start_time": "2024-08-05T09:25:37.575Z"
   },
   {
    "duration": 0,
    "start_time": "2024-08-05T09:25:37.577Z"
   },
   {
    "duration": 0,
    "start_time": "2024-08-05T09:25:37.578Z"
   },
   {
    "duration": 0,
    "start_time": "2024-08-05T09:25:37.580Z"
   },
   {
    "duration": 0,
    "start_time": "2024-08-05T09:25:37.581Z"
   },
   {
    "duration": 0,
    "start_time": "2024-08-05T09:25:37.587Z"
   },
   {
    "duration": 0,
    "start_time": "2024-08-05T09:25:37.588Z"
   },
   {
    "duration": 0,
    "start_time": "2024-08-05T09:25:37.590Z"
   },
   {
    "duration": 0,
    "start_time": "2024-08-05T09:25:37.591Z"
   },
   {
    "duration": 0,
    "start_time": "2024-08-05T09:25:37.593Z"
   },
   {
    "duration": 0,
    "start_time": "2024-08-05T09:25:37.595Z"
   },
   {
    "duration": 0,
    "start_time": "2024-08-05T09:25:37.596Z"
   },
   {
    "duration": 8456,
    "start_time": "2024-08-05T09:26:22.738Z"
   },
   {
    "duration": 0,
    "start_time": "2024-08-05T09:26:31.197Z"
   },
   {
    "duration": 0,
    "start_time": "2024-08-05T09:26:31.198Z"
   },
   {
    "duration": 0,
    "start_time": "2024-08-05T09:26:31.199Z"
   },
   {
    "duration": 0,
    "start_time": "2024-08-05T09:26:31.200Z"
   },
   {
    "duration": 0,
    "start_time": "2024-08-05T09:26:31.202Z"
   },
   {
    "duration": 0,
    "start_time": "2024-08-05T09:26:31.203Z"
   },
   {
    "duration": 0,
    "start_time": "2024-08-05T09:26:31.204Z"
   },
   {
    "duration": 0,
    "start_time": "2024-08-05T09:26:31.212Z"
   },
   {
    "duration": 0,
    "start_time": "2024-08-05T09:26:31.214Z"
   },
   {
    "duration": 0,
    "start_time": "2024-08-05T09:26:31.224Z"
   },
   {
    "duration": 0,
    "start_time": "2024-08-05T09:26:31.226Z"
   },
   {
    "duration": 0,
    "start_time": "2024-08-05T09:26:31.228Z"
   },
   {
    "duration": 0,
    "start_time": "2024-08-05T09:26:31.256Z"
   },
   {
    "duration": 0,
    "start_time": "2024-08-05T09:26:31.257Z"
   },
   {
    "duration": 0,
    "start_time": "2024-08-05T09:26:31.258Z"
   },
   {
    "duration": 0,
    "start_time": "2024-08-05T09:26:31.259Z"
   },
   {
    "duration": 0,
    "start_time": "2024-08-05T09:26:31.260Z"
   },
   {
    "duration": 0,
    "start_time": "2024-08-05T09:26:31.261Z"
   },
   {
    "duration": 0,
    "start_time": "2024-08-05T09:26:31.262Z"
   },
   {
    "duration": 0,
    "start_time": "2024-08-05T09:26:31.265Z"
   },
   {
    "duration": 0,
    "start_time": "2024-08-05T09:26:31.266Z"
   },
   {
    "duration": 0,
    "start_time": "2024-08-05T09:26:31.268Z"
   },
   {
    "duration": 0,
    "start_time": "2024-08-05T09:26:31.269Z"
   },
   {
    "duration": 0,
    "start_time": "2024-08-05T09:26:31.270Z"
   },
   {
    "duration": 0,
    "start_time": "2024-08-05T09:26:31.271Z"
   },
   {
    "duration": 0,
    "start_time": "2024-08-05T09:26:31.273Z"
   },
   {
    "duration": 0,
    "start_time": "2024-08-05T09:26:31.277Z"
   },
   {
    "duration": 0,
    "start_time": "2024-08-05T09:26:31.279Z"
   },
   {
    "duration": 0,
    "start_time": "2024-08-05T09:26:31.280Z"
   },
   {
    "duration": 0,
    "start_time": "2024-08-05T09:26:31.282Z"
   },
   {
    "duration": 0,
    "start_time": "2024-08-05T09:26:31.283Z"
   },
   {
    "duration": 0,
    "start_time": "2024-08-05T09:26:31.284Z"
   },
   {
    "duration": 0,
    "start_time": "2024-08-05T09:26:31.286Z"
   },
   {
    "duration": 0,
    "start_time": "2024-08-05T09:26:31.288Z"
   },
   {
    "duration": 8178,
    "start_time": "2024-08-05T09:34:12.583Z"
   },
   {
    "duration": 151,
    "start_time": "2024-08-05T09:34:20.764Z"
   },
   {
    "duration": 7,
    "start_time": "2024-08-05T09:34:20.917Z"
   },
   {
    "duration": 16,
    "start_time": "2024-08-05T09:34:20.926Z"
   },
   {
    "duration": 49,
    "start_time": "2024-08-05T09:34:20.944Z"
   },
   {
    "duration": 32,
    "start_time": "2024-08-05T09:34:20.994Z"
   },
   {
    "duration": 69,
    "start_time": "2024-08-05T09:34:21.028Z"
   },
   {
    "duration": 34,
    "start_time": "2024-08-05T09:34:21.099Z"
   },
   {
    "duration": 9,
    "start_time": "2024-08-05T09:34:21.135Z"
   },
   {
    "duration": 39,
    "start_time": "2024-08-05T09:34:21.146Z"
   },
   {
    "duration": 136,
    "start_time": "2024-08-05T09:34:21.186Z"
   },
   {
    "duration": 4,
    "start_time": "2024-08-05T09:34:21.324Z"
   },
   {
    "duration": 38,
    "start_time": "2024-08-05T09:34:21.329Z"
   },
   {
    "duration": 154,
    "start_time": "2024-08-05T09:34:21.371Z"
   },
   {
    "duration": 4,
    "start_time": "2024-08-05T09:34:21.527Z"
   },
   {
    "duration": 10,
    "start_time": "2024-08-05T09:34:21.533Z"
   },
   {
    "duration": 8,
    "start_time": "2024-08-05T09:34:21.555Z"
   },
   {
    "duration": 96,
    "start_time": "2024-08-05T09:34:21.565Z"
   },
   {
    "duration": 174,
    "start_time": "2024-08-05T09:34:21.662Z"
   },
   {
    "duration": 264,
    "start_time": "2024-08-05T09:34:21.837Z"
   },
   {
    "duration": 159,
    "start_time": "2024-08-05T09:34:22.102Z"
   },
   {
    "duration": 244,
    "start_time": "2024-08-05T09:34:22.263Z"
   },
   {
    "duration": 164,
    "start_time": "2024-08-05T09:34:22.508Z"
   },
   {
    "duration": 147,
    "start_time": "2024-08-05T09:34:22.674Z"
   },
   {
    "duration": 6,
    "start_time": "2024-08-05T09:34:22.823Z"
   },
   {
    "duration": 6,
    "start_time": "2024-08-05T09:34:22.831Z"
   },
   {
    "duration": 54,
    "start_time": "2024-08-05T09:34:22.839Z"
   },
   {
    "duration": 19,
    "start_time": "2024-08-05T09:34:22.894Z"
   },
   {
    "duration": 52,
    "start_time": "2024-08-05T09:34:22.914Z"
   },
   {
    "duration": 3,
    "start_time": "2024-08-05T09:34:22.968Z"
   },
   {
    "duration": 1175,
    "start_time": "2024-08-05T09:34:22.973Z"
   },
   {
    "duration": 512,
    "start_time": "2024-08-05T09:34:24.150Z"
   },
   {
    "duration": 4194,
    "start_time": "2024-08-05T09:34:24.665Z"
   },
   {
    "duration": 2099,
    "start_time": "2024-08-05T09:34:28.862Z"
   },
   {
    "duration": 3,
    "start_time": "2024-08-05T09:34:30.963Z"
   },
   {
    "duration": 188,
    "start_time": "2024-08-05T09:37:22.208Z"
   },
   {
    "duration": 5,
    "start_time": "2024-08-05T09:39:08.917Z"
   },
   {
    "duration": 18,
    "start_time": "2024-08-05T09:39:26.892Z"
   },
   {
    "duration": 19,
    "start_time": "2024-08-05T09:43:45.122Z"
   },
   {
    "duration": 18,
    "start_time": "2024-08-05T09:44:12.487Z"
   },
   {
    "duration": 1187,
    "start_time": "2024-08-05T09:45:24.287Z"
   },
   {
    "duration": 13,
    "start_time": "2024-08-05T09:46:20.556Z"
   },
   {
    "duration": 20,
    "start_time": "2024-08-05T09:47:45.920Z"
   },
   {
    "duration": 27,
    "start_time": "2024-08-05T09:48:36.841Z"
   },
   {
    "duration": 8329,
    "start_time": "2024-08-05T09:48:57.712Z"
   },
   {
    "duration": 185,
    "start_time": "2024-08-05T09:49:06.043Z"
   },
   {
    "duration": 7,
    "start_time": "2024-08-05T09:49:06.229Z"
   },
   {
    "duration": 15,
    "start_time": "2024-08-05T09:49:06.238Z"
   },
   {
    "duration": 25,
    "start_time": "2024-08-05T09:49:06.255Z"
   },
   {
    "duration": 20,
    "start_time": "2024-08-05T09:49:06.282Z"
   },
   {
    "duration": 17,
    "start_time": "2024-08-05T09:49:06.304Z"
   },
   {
    "duration": 11,
    "start_time": "2024-08-05T09:49:06.323Z"
   },
   {
    "duration": 27,
    "start_time": "2024-08-05T09:49:06.336Z"
   },
   {
    "duration": 46,
    "start_time": "2024-08-05T09:49:06.366Z"
   },
   {
    "duration": 136,
    "start_time": "2024-08-05T09:49:06.414Z"
   },
   {
    "duration": 6,
    "start_time": "2024-08-05T09:49:06.551Z"
   },
   {
    "duration": 25,
    "start_time": "2024-08-05T09:49:06.558Z"
   },
   {
    "duration": 157,
    "start_time": "2024-08-05T09:49:06.586Z"
   },
   {
    "duration": 10,
    "start_time": "2024-08-05T09:49:06.745Z"
   },
   {
    "duration": 29,
    "start_time": "2024-08-05T09:49:06.758Z"
   },
   {
    "duration": 41,
    "start_time": "2024-08-05T09:49:06.789Z"
   },
   {
    "duration": 116,
    "start_time": "2024-08-05T09:49:06.832Z"
   },
   {
    "duration": 154,
    "start_time": "2024-08-05T09:49:06.950Z"
   },
   {
    "duration": 277,
    "start_time": "2024-08-05T09:49:07.106Z"
   },
   {
    "duration": 161,
    "start_time": "2024-08-05T09:49:07.385Z"
   },
   {
    "duration": 272,
    "start_time": "2024-08-05T09:49:07.548Z"
   },
   {
    "duration": 185,
    "start_time": "2024-08-05T09:49:07.822Z"
   },
   {
    "duration": 174,
    "start_time": "2024-08-05T09:49:08.009Z"
   },
   {
    "duration": 6,
    "start_time": "2024-08-05T09:49:08.186Z"
   },
   {
    "duration": 21,
    "start_time": "2024-08-05T09:49:08.194Z"
   },
   {
    "duration": 52,
    "start_time": "2024-08-05T09:49:08.217Z"
   },
   {
    "duration": 24,
    "start_time": "2024-08-05T09:49:08.271Z"
   },
   {
    "duration": 31,
    "start_time": "2024-08-05T09:49:08.297Z"
   },
   {
    "duration": 25,
    "start_time": "2024-08-05T09:49:08.330Z"
   },
   {
    "duration": 1106,
    "start_time": "2024-08-05T09:49:08.358Z"
   },
   {
    "duration": 495,
    "start_time": "2024-08-05T09:49:09.467Z"
   },
   {
    "duration": 4137,
    "start_time": "2024-08-05T09:49:10.055Z"
   },
   {
    "duration": 2373,
    "start_time": "2024-08-05T09:49:14.194Z"
   },
   {
    "duration": 12,
    "start_time": "2024-08-05T09:49:16.569Z"
   },
   {
    "duration": 30,
    "start_time": "2024-08-05T09:49:16.583Z"
   },
   {
    "duration": 30,
    "start_time": "2024-08-05T09:49:53.066Z"
   },
   {
    "duration": 21,
    "start_time": "2024-08-05T09:56:55.357Z"
   },
   {
    "duration": 7954,
    "start_time": "2024-08-05T09:58:06.126Z"
   },
   {
    "duration": 197,
    "start_time": "2024-08-05T09:58:14.082Z"
   },
   {
    "duration": 7,
    "start_time": "2024-08-05T09:58:14.280Z"
   },
   {
    "duration": 17,
    "start_time": "2024-08-05T09:58:14.289Z"
   },
   {
    "duration": 25,
    "start_time": "2024-08-05T09:58:14.309Z"
   },
   {
    "duration": 18,
    "start_time": "2024-08-05T09:58:14.336Z"
   },
   {
    "duration": 15,
    "start_time": "2024-08-05T09:58:14.356Z"
   },
   {
    "duration": 13,
    "start_time": "2024-08-05T09:58:14.372Z"
   },
   {
    "duration": 10,
    "start_time": "2024-08-05T09:58:14.391Z"
   },
   {
    "duration": 45,
    "start_time": "2024-08-05T09:58:14.403Z"
   },
   {
    "duration": 144,
    "start_time": "2024-08-05T09:58:14.450Z"
   },
   {
    "duration": 5,
    "start_time": "2024-08-05T09:58:14.596Z"
   },
   {
    "duration": 50,
    "start_time": "2024-08-05T09:58:14.603Z"
   },
   {
    "duration": 131,
    "start_time": "2024-08-05T09:58:14.656Z"
   },
   {
    "duration": 4,
    "start_time": "2024-08-05T09:58:14.789Z"
   },
   {
    "duration": 16,
    "start_time": "2024-08-05T09:58:14.794Z"
   },
   {
    "duration": 17,
    "start_time": "2024-08-05T09:58:14.811Z"
   },
   {
    "duration": 108,
    "start_time": "2024-08-05T09:58:14.830Z"
   },
   {
    "duration": 281,
    "start_time": "2024-08-05T09:58:14.939Z"
   },
   {
    "duration": 145,
    "start_time": "2024-08-05T09:58:15.222Z"
   },
   {
    "duration": 167,
    "start_time": "2024-08-05T09:58:15.368Z"
   },
   {
    "duration": 244,
    "start_time": "2024-08-05T09:58:15.537Z"
   },
   {
    "duration": 153,
    "start_time": "2024-08-05T09:58:15.783Z"
   },
   {
    "duration": 151,
    "start_time": "2024-08-05T09:58:15.938Z"
   },
   {
    "duration": 5,
    "start_time": "2024-08-05T09:58:16.091Z"
   },
   {
    "duration": 7,
    "start_time": "2024-08-05T09:58:16.098Z"
   },
   {
    "duration": 61,
    "start_time": "2024-08-05T09:58:16.107Z"
   },
   {
    "duration": 16,
    "start_time": "2024-08-05T09:58:16.170Z"
   },
   {
    "duration": 31,
    "start_time": "2024-08-05T09:58:16.188Z"
   },
   {
    "duration": 3,
    "start_time": "2024-08-05T09:58:16.220Z"
   },
   {
    "duration": 1108,
    "start_time": "2024-08-05T09:58:16.225Z"
   },
   {
    "duration": 622,
    "start_time": "2024-08-05T09:58:17.334Z"
   },
   {
    "duration": 4072,
    "start_time": "2024-08-05T09:58:17.959Z"
   },
   {
    "duration": 2024,
    "start_time": "2024-08-05T09:58:22.033Z"
   },
   {
    "duration": 13,
    "start_time": "2024-08-05T09:58:24.058Z"
   },
   {
    "duration": 48,
    "start_time": "2024-08-05T09:58:24.073Z"
   },
   {
    "duration": 29,
    "start_time": "2024-08-05T09:58:24.123Z"
   },
   {
    "duration": 22,
    "start_time": "2024-08-05T09:58:32.980Z"
   },
   {
    "duration": 11,
    "start_time": "2024-08-05T09:59:20.746Z"
   },
   {
    "duration": 135,
    "start_time": "2024-08-05T10:02:49.215Z"
   },
   {
    "duration": 262,
    "start_time": "2024-08-05T10:03:20.345Z"
   },
   {
    "duration": 161,
    "start_time": "2024-08-05T10:04:43.150Z"
   },
   {
    "duration": 163,
    "start_time": "2024-08-05T10:06:01.750Z"
   },
   {
    "duration": 292,
    "start_time": "2024-08-05T10:07:30.207Z"
   },
   {
    "duration": 1206,
    "start_time": "2024-08-05T10:08:36.654Z"
   },
   {
    "duration": 273,
    "start_time": "2024-08-05T10:08:53.423Z"
   },
   {
    "duration": 280,
    "start_time": "2024-08-05T10:09:53.799Z"
   },
   {
    "duration": 275,
    "start_time": "2024-08-05T10:10:06.326Z"
   },
   {
    "duration": 311,
    "start_time": "2024-08-05T10:10:27.447Z"
   },
   {
    "duration": 64,
    "start_time": "2024-08-05T10:10:57.503Z"
   },
   {
    "duration": 301,
    "start_time": "2024-08-05T10:11:57.963Z"
   },
   {
    "duration": 272,
    "start_time": "2024-08-05T10:21:35.620Z"
   },
   {
    "duration": 270,
    "start_time": "2024-08-05T10:24:01.029Z"
   },
   {
    "duration": 17,
    "start_time": "2024-08-05T10:25:53.957Z"
   },
   {
    "duration": 7,
    "start_time": "2024-08-05T10:26:08.437Z"
   },
   {
    "duration": 9,
    "start_time": "2024-08-05T10:26:18.389Z"
   },
   {
    "duration": 9,
    "start_time": "2024-08-05T10:26:28.896Z"
   },
   {
    "duration": 10,
    "start_time": "2024-08-05T10:26:37.525Z"
   },
   {
    "duration": 8,
    "start_time": "2024-08-05T10:26:45.141Z"
   },
   {
    "duration": 9,
    "start_time": "2024-08-05T10:27:48.159Z"
   },
   {
    "duration": 10,
    "start_time": "2024-08-05T10:27:58.862Z"
   },
   {
    "duration": 442,
    "start_time": "2024-08-05T10:31:29.824Z"
   },
   {
    "duration": 278,
    "start_time": "2024-08-05T10:32:36.368Z"
   },
   {
    "duration": 8041,
    "start_time": "2024-08-05T10:53:49.060Z"
   },
   {
    "duration": 158,
    "start_time": "2024-08-05T10:53:57.103Z"
   },
   {
    "duration": 7,
    "start_time": "2024-08-05T10:53:57.262Z"
   },
   {
    "duration": 30,
    "start_time": "2024-08-05T10:53:57.270Z"
   },
   {
    "duration": 31,
    "start_time": "2024-08-05T10:53:57.302Z"
   },
   {
    "duration": 17,
    "start_time": "2024-08-05T10:53:57.334Z"
   },
   {
    "duration": 19,
    "start_time": "2024-08-05T10:53:57.353Z"
   },
   {
    "duration": 39,
    "start_time": "2024-08-05T10:53:57.374Z"
   },
   {
    "duration": 41,
    "start_time": "2024-08-05T10:53:57.415Z"
   },
   {
    "duration": 54,
    "start_time": "2024-08-05T10:53:57.458Z"
   },
   {
    "duration": 167,
    "start_time": "2024-08-05T10:53:57.514Z"
   },
   {
    "duration": 5,
    "start_time": "2024-08-05T10:53:57.682Z"
   },
   {
    "duration": 25,
    "start_time": "2024-08-05T10:53:57.688Z"
   },
   {
    "duration": 153,
    "start_time": "2024-08-05T10:53:57.716Z"
   },
   {
    "duration": 4,
    "start_time": "2024-08-05T10:53:57.870Z"
   },
   {
    "duration": 12,
    "start_time": "2024-08-05T10:53:57.876Z"
   },
   {
    "duration": 16,
    "start_time": "2024-08-05T10:53:57.890Z"
   },
   {
    "duration": 94,
    "start_time": "2024-08-05T10:53:57.908Z"
   },
   {
    "duration": 279,
    "start_time": "2024-08-05T10:53:58.004Z"
   },
   {
    "duration": 161,
    "start_time": "2024-08-05T10:53:58.285Z"
   },
   {
    "duration": 164,
    "start_time": "2024-08-05T10:53:58.448Z"
   },
   {
    "duration": 242,
    "start_time": "2024-08-05T10:53:58.614Z"
   },
   {
    "duration": 162,
    "start_time": "2024-08-05T10:53:58.857Z"
   },
   {
    "duration": 150,
    "start_time": "2024-08-05T10:53:59.021Z"
   },
   {
    "duration": 6,
    "start_time": "2024-08-05T10:53:59.173Z"
   },
   {
    "duration": 13,
    "start_time": "2024-08-05T10:53:59.181Z"
   },
   {
    "duration": 74,
    "start_time": "2024-08-05T10:53:59.196Z"
   },
   {
    "duration": 22,
    "start_time": "2024-08-05T10:53:59.271Z"
   },
   {
    "duration": 43,
    "start_time": "2024-08-05T10:53:59.295Z"
   },
   {
    "duration": 3,
    "start_time": "2024-08-05T10:53:59.340Z"
   },
   {
    "duration": 1155,
    "start_time": "2024-08-05T10:53:59.345Z"
   },
   {
    "duration": 462,
    "start_time": "2024-08-05T10:54:00.502Z"
   },
   {
    "duration": 4259,
    "start_time": "2024-08-05T10:54:00.967Z"
   },
   {
    "duration": 2134,
    "start_time": "2024-08-05T10:54:05.229Z"
   },
   {
    "duration": 12,
    "start_time": "2024-08-05T10:54:07.365Z"
   },
   {
    "duration": 25,
    "start_time": "2024-08-05T10:54:07.379Z"
   },
   {
    "duration": 198,
    "start_time": "2024-08-05T10:54:07.406Z"
   },
   {
    "duration": 166,
    "start_time": "2024-08-05T10:54:07.606Z"
   },
   {
    "duration": 152,
    "start_time": "2024-08-05T10:54:07.774Z"
   },
   {
    "duration": 303,
    "start_time": "2024-08-05T10:54:07.928Z"
   },
   {
    "duration": 466,
    "start_time": "2024-08-05T10:54:08.236Z"
   },
   {
    "duration": 286,
    "start_time": "2024-08-05T10:54:08.704Z"
   },
   {
    "duration": 283,
    "start_time": "2024-08-05T10:54:08.992Z"
   },
   {
    "duration": 12,
    "start_time": "2024-08-05T10:54:09.278Z"
   },
   {
    "duration": 332,
    "start_time": "2024-08-05T10:54:09.292Z"
   },
   {
    "duration": 306,
    "start_time": "2024-08-05T10:54:09.626Z"
   },
   {
    "duration": 11933,
    "start_time": "2024-08-05T11:14:22.900Z"
   },
   {
    "duration": 0,
    "start_time": "2024-08-05T11:14:34.836Z"
   },
   {
    "duration": 0,
    "start_time": "2024-08-05T11:14:34.838Z"
   },
   {
    "duration": 0,
    "start_time": "2024-08-05T11:14:34.838Z"
   },
   {
    "duration": 0,
    "start_time": "2024-08-05T11:14:34.840Z"
   },
   {
    "duration": 0,
    "start_time": "2024-08-05T11:14:34.841Z"
   },
   {
    "duration": 0,
    "start_time": "2024-08-05T11:14:34.842Z"
   },
   {
    "duration": 0,
    "start_time": "2024-08-05T11:14:34.844Z"
   },
   {
    "duration": 0,
    "start_time": "2024-08-05T11:14:34.845Z"
   },
   {
    "duration": 0,
    "start_time": "2024-08-05T11:14:34.846Z"
   },
   {
    "duration": 0,
    "start_time": "2024-08-05T11:14:34.847Z"
   },
   {
    "duration": 0,
    "start_time": "2024-08-05T11:14:34.849Z"
   },
   {
    "duration": 0,
    "start_time": "2024-08-05T11:14:34.850Z"
   },
   {
    "duration": 0,
    "start_time": "2024-08-05T11:14:34.851Z"
   },
   {
    "duration": 0,
    "start_time": "2024-08-05T11:14:34.852Z"
   },
   {
    "duration": 0,
    "start_time": "2024-08-05T11:14:34.854Z"
   },
   {
    "duration": 0,
    "start_time": "2024-08-05T11:14:34.881Z"
   },
   {
    "duration": 0,
    "start_time": "2024-08-05T11:14:34.883Z"
   },
   {
    "duration": 0,
    "start_time": "2024-08-05T11:14:34.884Z"
   },
   {
    "duration": 0,
    "start_time": "2024-08-05T11:14:34.886Z"
   },
   {
    "duration": 0,
    "start_time": "2024-08-05T11:14:34.887Z"
   },
   {
    "duration": 0,
    "start_time": "2024-08-05T11:14:34.889Z"
   },
   {
    "duration": 0,
    "start_time": "2024-08-05T11:14:34.890Z"
   },
   {
    "duration": 0,
    "start_time": "2024-08-05T11:14:34.891Z"
   },
   {
    "duration": 0,
    "start_time": "2024-08-05T11:14:34.893Z"
   },
   {
    "duration": 0,
    "start_time": "2024-08-05T11:14:34.894Z"
   },
   {
    "duration": 0,
    "start_time": "2024-08-05T11:14:34.896Z"
   },
   {
    "duration": 0,
    "start_time": "2024-08-05T11:14:34.897Z"
   },
   {
    "duration": 0,
    "start_time": "2024-08-05T11:14:34.899Z"
   },
   {
    "duration": 0,
    "start_time": "2024-08-05T11:14:34.901Z"
   },
   {
    "duration": 8579,
    "start_time": "2024-08-05T11:26:25.124Z"
   },
   {
    "duration": 376,
    "start_time": "2024-08-05T11:26:33.705Z"
   },
   {
    "duration": 8,
    "start_time": "2024-08-05T11:26:34.083Z"
   },
   {
    "duration": 5,
    "start_time": "2024-08-05T11:26:34.093Z"
   },
   {
    "duration": 34,
    "start_time": "2024-08-05T11:26:34.101Z"
   },
   {
    "duration": 16,
    "start_time": "2024-08-05T11:26:34.137Z"
   },
   {
    "duration": 15,
    "start_time": "2024-08-05T11:26:34.154Z"
   },
   {
    "duration": 7,
    "start_time": "2024-08-05T11:26:34.185Z"
   },
   {
    "duration": 9,
    "start_time": "2024-08-05T11:26:34.195Z"
   },
   {
    "duration": 47,
    "start_time": "2024-08-05T11:26:34.208Z"
   },
   {
    "duration": 329,
    "start_time": "2024-08-05T11:26:34.257Z"
   },
   {
    "duration": 4,
    "start_time": "2024-08-05T11:26:34.588Z"
   },
   {
    "duration": 43,
    "start_time": "2024-08-05T11:26:34.593Z"
   },
   {
    "duration": 380,
    "start_time": "2024-08-05T11:26:34.638Z"
   },
   {
    "duration": 4,
    "start_time": "2024-08-05T11:26:35.019Z"
   },
   {
    "duration": 20,
    "start_time": "2024-08-05T11:26:35.024Z"
   },
   {
    "duration": 12,
    "start_time": "2024-08-05T11:26:35.045Z"
   },
   {
    "duration": 126,
    "start_time": "2024-08-05T11:26:35.058Z"
   },
   {
    "duration": 397,
    "start_time": "2024-08-05T11:26:35.185Z"
   },
   {
    "duration": 271,
    "start_time": "2024-08-05T11:26:35.584Z"
   },
   {
    "duration": 316,
    "start_time": "2024-08-05T11:26:35.856Z"
   },
   {
    "duration": 375,
    "start_time": "2024-08-05T11:26:36.182Z"
   },
   {
    "duration": 324,
    "start_time": "2024-08-05T11:26:36.559Z"
   },
   {
    "duration": 301,
    "start_time": "2024-08-05T11:26:36.885Z"
   },
   {
    "duration": 5,
    "start_time": "2024-08-05T11:26:37.188Z"
   },
   {
    "duration": 63,
    "start_time": "2024-08-05T11:26:37.195Z"
   },
   {
    "duration": 36,
    "start_time": "2024-08-05T11:26:37.259Z"
   },
   {
    "duration": 17,
    "start_time": "2024-08-05T11:26:37.298Z"
   },
   {
    "duration": 26,
    "start_time": "2024-08-05T11:26:37.317Z"
   },
   {
    "duration": 4,
    "start_time": "2024-08-05T11:26:37.344Z"
   },
   {
    "duration": 10,
    "start_time": "2024-08-05T11:26:37.350Z"
   },
   {
    "duration": 887,
    "start_time": "2024-08-05T11:26:37.362Z"
   },
   {
    "duration": 441,
    "start_time": "2024-08-05T11:26:38.250Z"
   },
   {
    "duration": 4010,
    "start_time": "2024-08-05T11:26:38.784Z"
   },
   {
    "duration": 1957159,
    "start_time": "2024-08-05T11:26:42.796Z"
   },
   {
    "duration": 15,
    "start_time": "2024-08-05T11:59:19.956Z"
   },
   {
    "duration": 22,
    "start_time": "2024-08-05T11:59:19.983Z"
   },
   {
    "duration": 325,
    "start_time": "2024-08-05T11:59:20.006Z"
   },
   {
    "duration": 338,
    "start_time": "2024-08-05T11:59:20.381Z"
   },
   {
    "duration": 414,
    "start_time": "2024-08-05T11:59:20.721Z"
   },
   {
    "duration": 822,
    "start_time": "2024-08-05T11:59:21.183Z"
   },
   {
    "duration": 581,
    "start_time": "2024-08-05T11:59:22.006Z"
   },
   {
    "duration": 611,
    "start_time": "2024-08-05T11:59:22.588Z"
   },
   {
    "duration": 632,
    "start_time": "2024-08-05T11:59:23.200Z"
   },
   {
    "duration": 12,
    "start_time": "2024-08-05T11:59:23.834Z"
   },
   {
    "duration": 572,
    "start_time": "2024-08-05T11:59:23.882Z"
   },
   {
    "duration": 602,
    "start_time": "2024-08-05T11:59:24.456Z"
   },
   {
    "duration": 10784,
    "start_time": "2024-08-05T13:08:57.479Z"
   },
   {
    "duration": 2150,
    "start_time": "2024-08-05T13:09:08.265Z"
   },
   {
    "duration": 510,
    "start_time": "2024-08-05T13:09:10.417Z"
   },
   {
    "duration": 7,
    "start_time": "2024-08-05T13:09:10.929Z"
   },
   {
    "duration": 5,
    "start_time": "2024-08-05T13:09:10.937Z"
   },
   {
    "duration": 13,
    "start_time": "2024-08-05T13:09:10.944Z"
   },
   {
    "duration": 128,
    "start_time": "2024-08-05T13:09:10.958Z"
   },
   {
    "duration": 20,
    "start_time": "2024-08-05T13:09:11.087Z"
   },
   {
    "duration": 18,
    "start_time": "2024-08-05T13:09:11.108Z"
   },
   {
    "duration": 7,
    "start_time": "2024-08-05T13:09:11.129Z"
   },
   {
    "duration": 27,
    "start_time": "2024-08-05T13:09:11.138Z"
   },
   {
    "duration": 148,
    "start_time": "2024-08-05T13:09:11.166Z"
   },
   {
    "duration": 5,
    "start_time": "2024-08-05T13:09:11.323Z"
   },
   {
    "duration": 27,
    "start_time": "2024-08-05T13:09:11.330Z"
   },
   {
    "duration": 144,
    "start_time": "2024-08-05T13:09:11.358Z"
   },
   {
    "duration": 3,
    "start_time": "2024-08-05T13:09:11.504Z"
   },
   {
    "duration": 19,
    "start_time": "2024-08-05T13:09:11.509Z"
   },
   {
    "duration": 27,
    "start_time": "2024-08-05T13:09:11.529Z"
   },
   {
    "duration": 75,
    "start_time": "2024-08-05T13:09:11.558Z"
   },
   {
    "duration": 165,
    "start_time": "2024-08-05T13:09:11.634Z"
   },
   {
    "duration": 179,
    "start_time": "2024-08-05T13:09:11.802Z"
   },
   {
    "duration": 173,
    "start_time": "2024-08-05T13:09:11.983Z"
   },
   {
    "duration": 245,
    "start_time": "2024-08-05T13:09:12.158Z"
   },
   {
    "duration": 159,
    "start_time": "2024-08-05T13:09:12.404Z"
   },
   {
    "duration": 137,
    "start_time": "2024-08-05T13:09:12.564Z"
   },
   {
    "duration": 5,
    "start_time": "2024-08-05T13:09:12.703Z"
   },
   {
    "duration": 32,
    "start_time": "2024-08-05T13:09:12.710Z"
   },
   {
    "duration": 37,
    "start_time": "2024-08-05T13:09:12.746Z"
   },
   {
    "duration": 17,
    "start_time": "2024-08-05T13:09:12.785Z"
   },
   {
    "duration": 40,
    "start_time": "2024-08-05T13:09:12.804Z"
   },
   {
    "duration": 5,
    "start_time": "2024-08-05T13:09:12.845Z"
   },
   {
    "duration": 4,
    "start_time": "2024-08-05T13:09:12.852Z"
   },
   {
    "duration": 1151,
    "start_time": "2024-08-05T13:09:12.858Z"
   },
   {
    "duration": 421,
    "start_time": "2024-08-05T13:09:14.010Z"
   },
   {
    "duration": 4059,
    "start_time": "2024-08-05T13:09:14.433Z"
   },
   {
    "duration": 5586,
    "start_time": "2024-08-05T13:18:03.915Z"
   },
   {
    "duration": 1908,
    "start_time": "2024-08-05T13:18:09.503Z"
   },
   {
    "duration": 580,
    "start_time": "2024-08-05T13:18:11.413Z"
   },
   {
    "duration": 7,
    "start_time": "2024-08-05T13:18:11.994Z"
   },
   {
    "duration": 6,
    "start_time": "2024-08-05T13:18:12.003Z"
   },
   {
    "duration": 11,
    "start_time": "2024-08-05T13:18:12.011Z"
   },
   {
    "duration": 12,
    "start_time": "2024-08-05T13:18:12.023Z"
   },
   {
    "duration": 15,
    "start_time": "2024-08-05T13:18:12.037Z"
   },
   {
    "duration": 5,
    "start_time": "2024-08-05T13:18:12.053Z"
   },
   {
    "duration": 9,
    "start_time": "2024-08-05T13:18:12.060Z"
   },
   {
    "duration": 25,
    "start_time": "2024-08-05T13:18:12.070Z"
   },
   {
    "duration": 158,
    "start_time": "2024-08-05T13:18:12.096Z"
   },
   {
    "duration": 4,
    "start_time": "2024-08-05T13:18:12.255Z"
   },
   {
    "duration": 22,
    "start_time": "2024-08-05T13:18:12.262Z"
   },
   {
    "duration": 147,
    "start_time": "2024-08-05T13:18:12.286Z"
   },
   {
    "duration": 3,
    "start_time": "2024-08-05T13:18:12.435Z"
   },
   {
    "duration": 11,
    "start_time": "2024-08-05T13:18:12.440Z"
   },
   {
    "duration": 21,
    "start_time": "2024-08-05T13:18:12.452Z"
   },
   {
    "duration": 78,
    "start_time": "2024-08-05T13:18:12.474Z"
   },
   {
    "duration": 247,
    "start_time": "2024-08-05T13:18:12.554Z"
   },
   {
    "duration": 137,
    "start_time": "2024-08-05T13:18:12.802Z"
   },
   {
    "duration": 161,
    "start_time": "2024-08-05T13:18:12.941Z"
   },
   {
    "duration": 239,
    "start_time": "2024-08-05T13:18:13.103Z"
   },
   {
    "duration": 154,
    "start_time": "2024-08-05T13:18:13.343Z"
   },
   {
    "duration": 142,
    "start_time": "2024-08-05T13:18:13.499Z"
   },
   {
    "duration": 6,
    "start_time": "2024-08-05T13:18:13.643Z"
   },
   {
    "duration": 10,
    "start_time": "2024-08-05T13:18:13.651Z"
   },
   {
    "duration": 21,
    "start_time": "2024-08-05T13:18:13.663Z"
   },
   {
    "duration": 40,
    "start_time": "2024-08-05T13:18:13.686Z"
   },
   {
    "duration": 16,
    "start_time": "2024-08-05T13:18:13.728Z"
   },
   {
    "duration": 27,
    "start_time": "2024-08-05T13:18:13.746Z"
   },
   {
    "duration": 4,
    "start_time": "2024-08-05T13:18:13.775Z"
   },
   {
    "duration": 4,
    "start_time": "2024-08-05T13:18:13.780Z"
   },
   {
    "duration": 1056,
    "start_time": "2024-08-05T13:18:13.785Z"
   },
   {
    "duration": 484,
    "start_time": "2024-08-05T13:18:14.842Z"
   },
   {
    "duration": 3851,
    "start_time": "2024-08-05T13:18:15.329Z"
   },
   {
    "duration": 2054,
    "start_time": "2024-08-05T13:18:19.182Z"
   },
   {
    "duration": 13,
    "start_time": "2024-08-05T13:18:21.238Z"
   },
   {
    "duration": 30,
    "start_time": "2024-08-05T13:18:21.253Z"
   },
   {
    "duration": 166,
    "start_time": "2024-08-05T13:18:21.284Z"
   },
   {
    "duration": 142,
    "start_time": "2024-08-05T13:18:21.455Z"
   },
   {
    "duration": 149,
    "start_time": "2024-08-05T13:18:21.599Z"
   },
   {
    "duration": 278,
    "start_time": "2024-08-05T13:18:21.750Z"
   },
   {
    "duration": 437,
    "start_time": "2024-08-05T13:18:22.030Z"
   },
   {
    "duration": 271,
    "start_time": "2024-08-05T13:18:22.469Z"
   },
   {
    "duration": 248,
    "start_time": "2024-08-05T13:18:22.742Z"
   },
   {
    "duration": 10,
    "start_time": "2024-08-05T13:18:22.992Z"
   },
   {
    "duration": 272,
    "start_time": "2024-08-05T13:18:23.003Z"
   },
   {
    "duration": 261,
    "start_time": "2024-08-05T13:18:23.277Z"
   },
   {
    "duration": 170,
    "start_time": "2024-08-05T13:35:37.120Z"
   },
   {
    "duration": 19,
    "start_time": "2024-08-05T13:36:30.628Z"
   },
   {
    "duration": 16,
    "start_time": "2024-08-05T13:36:33.932Z"
   },
   {
    "duration": 5824,
    "start_time": "2024-08-05T13:36:58.558Z"
   },
   {
    "duration": 1820,
    "start_time": "2024-08-05T13:37:04.385Z"
   },
   {
    "duration": 160,
    "start_time": "2024-08-05T13:37:06.206Z"
   },
   {
    "duration": 7,
    "start_time": "2024-08-05T13:37:06.367Z"
   },
   {
    "duration": 10,
    "start_time": "2024-08-05T13:37:06.376Z"
   },
   {
    "duration": 14,
    "start_time": "2024-08-05T13:37:06.388Z"
   },
   {
    "duration": 12,
    "start_time": "2024-08-05T13:37:06.404Z"
   },
   {
    "duration": 15,
    "start_time": "2024-08-05T13:37:06.424Z"
   },
   {
    "duration": 5,
    "start_time": "2024-08-05T13:37:06.440Z"
   },
   {
    "duration": 7,
    "start_time": "2024-08-05T13:37:06.447Z"
   },
   {
    "duration": 25,
    "start_time": "2024-08-05T13:37:06.455Z"
   },
   {
    "duration": 150,
    "start_time": "2024-08-05T13:37:06.482Z"
   },
   {
    "duration": 4,
    "start_time": "2024-08-05T13:37:06.634Z"
   },
   {
    "duration": 55,
    "start_time": "2024-08-05T13:37:06.640Z"
   },
   {
    "duration": 126,
    "start_time": "2024-08-05T13:37:06.696Z"
   },
   {
    "duration": 5,
    "start_time": "2024-08-05T13:37:06.824Z"
   },
   {
    "duration": 12,
    "start_time": "2024-08-05T13:37:06.831Z"
   },
   {
    "duration": 19,
    "start_time": "2024-08-05T13:37:06.845Z"
   },
   {
    "duration": 93,
    "start_time": "2024-08-05T13:37:06.865Z"
   },
   {
    "duration": 281,
    "start_time": "2024-08-05T13:37:06.960Z"
   },
   {
    "duration": 210,
    "start_time": "2024-08-05T13:37:07.243Z"
   },
   {
    "duration": 205,
    "start_time": "2024-08-05T13:37:07.455Z"
   },
   {
    "duration": 241,
    "start_time": "2024-08-05T13:37:07.662Z"
   },
   {
    "duration": 158,
    "start_time": "2024-08-05T13:37:07.904Z"
   },
   {
    "duration": 138,
    "start_time": "2024-08-05T13:37:08.064Z"
   },
   {
    "duration": 5,
    "start_time": "2024-08-05T13:37:08.204Z"
   },
   {
    "duration": 14,
    "start_time": "2024-08-05T13:37:08.211Z"
   },
   {
    "duration": 12,
    "start_time": "2024-08-05T13:37:08.227Z"
   },
   {
    "duration": 15,
    "start_time": "2024-08-05T13:37:08.240Z"
   },
   {
    "duration": 31,
    "start_time": "2024-08-05T13:37:08.256Z"
   },
   {
    "duration": 40,
    "start_time": "2024-08-05T13:37:08.289Z"
   },
   {
    "duration": 15,
    "start_time": "2024-08-05T13:37:08.331Z"
   },
   {
    "duration": 4,
    "start_time": "2024-08-05T13:37:08.348Z"
   },
   {
    "duration": 4,
    "start_time": "2024-08-05T13:37:08.353Z"
   },
   {
    "duration": 1047,
    "start_time": "2024-08-05T13:37:08.358Z"
   },
   {
    "duration": 219,
    "start_time": "2024-08-05T13:37:09.406Z"
   },
   {
    "duration": 4801,
    "start_time": "2024-08-05T13:37:09.628Z"
   },
   {
    "duration": 0,
    "start_time": "2024-08-05T13:37:14.431Z"
   },
   {
    "duration": 0,
    "start_time": "2024-08-05T13:37:14.432Z"
   },
   {
    "duration": 0,
    "start_time": "2024-08-05T13:37:14.434Z"
   },
   {
    "duration": 0,
    "start_time": "2024-08-05T13:37:14.435Z"
   },
   {
    "duration": 0,
    "start_time": "2024-08-05T13:37:14.437Z"
   },
   {
    "duration": 0,
    "start_time": "2024-08-05T13:37:14.438Z"
   },
   {
    "duration": 0,
    "start_time": "2024-08-05T13:37:14.440Z"
   },
   {
    "duration": 0,
    "start_time": "2024-08-05T13:37:14.441Z"
   },
   {
    "duration": 0,
    "start_time": "2024-08-05T13:37:14.443Z"
   },
   {
    "duration": 0,
    "start_time": "2024-08-05T13:37:14.444Z"
   },
   {
    "duration": 0,
    "start_time": "2024-08-05T13:37:14.445Z"
   },
   {
    "duration": 0,
    "start_time": "2024-08-05T13:37:14.447Z"
   },
   {
    "duration": 0,
    "start_time": "2024-08-05T13:37:14.448Z"
   },
   {
    "duration": 5481,
    "start_time": "2024-08-05T13:40:15.350Z"
   },
   {
    "duration": 1845,
    "start_time": "2024-08-05T13:40:20.833Z"
   },
   {
    "duration": 158,
    "start_time": "2024-08-05T13:40:22.680Z"
   },
   {
    "duration": 7,
    "start_time": "2024-08-05T13:40:22.840Z"
   },
   {
    "duration": 16,
    "start_time": "2024-08-05T13:40:22.849Z"
   },
   {
    "duration": 16,
    "start_time": "2024-08-05T13:40:22.867Z"
   },
   {
    "duration": 12,
    "start_time": "2024-08-05T13:40:22.885Z"
   },
   {
    "duration": 35,
    "start_time": "2024-08-05T13:40:22.899Z"
   },
   {
    "duration": 4,
    "start_time": "2024-08-05T13:40:22.936Z"
   },
   {
    "duration": 6,
    "start_time": "2024-08-05T13:40:22.942Z"
   },
   {
    "duration": 26,
    "start_time": "2024-08-05T13:40:22.950Z"
   },
   {
    "duration": 148,
    "start_time": "2024-08-05T13:40:22.978Z"
   },
   {
    "duration": 3,
    "start_time": "2024-08-05T13:40:23.128Z"
   },
   {
    "duration": 25,
    "start_time": "2024-08-05T13:40:23.134Z"
   },
   {
    "duration": 137,
    "start_time": "2024-08-05T13:40:23.160Z"
   },
   {
    "duration": 3,
    "start_time": "2024-08-05T13:40:23.298Z"
   },
   {
    "duration": 21,
    "start_time": "2024-08-05T13:40:23.303Z"
   },
   {
    "duration": 7,
    "start_time": "2024-08-05T13:40:23.326Z"
   },
   {
    "duration": 110,
    "start_time": "2024-08-05T13:40:23.334Z"
   },
   {
    "duration": 247,
    "start_time": "2024-08-05T13:40:23.446Z"
   },
   {
    "duration": 143,
    "start_time": "2024-08-05T13:40:23.694Z"
   },
   {
    "duration": 152,
    "start_time": "2024-08-05T13:40:23.838Z"
   },
   {
    "duration": 235,
    "start_time": "2024-08-05T13:40:23.991Z"
   },
   {
    "duration": 152,
    "start_time": "2024-08-05T13:40:24.228Z"
   },
   {
    "duration": 134,
    "start_time": "2024-08-05T13:40:24.382Z"
   },
   {
    "duration": 10,
    "start_time": "2024-08-05T13:40:24.517Z"
   },
   {
    "duration": 8,
    "start_time": "2024-08-05T13:40:24.529Z"
   },
   {
    "duration": 7,
    "start_time": "2024-08-05T13:40:24.539Z"
   },
   {
    "duration": 53,
    "start_time": "2024-08-05T13:40:24.547Z"
   },
   {
    "duration": 105,
    "start_time": "2024-08-05T13:40:24.601Z"
   },
   {
    "duration": 16,
    "start_time": "2024-08-05T13:40:24.708Z"
   },
   {
    "duration": 15,
    "start_time": "2024-08-05T13:40:24.726Z"
   },
   {
    "duration": 4,
    "start_time": "2024-08-05T13:40:24.743Z"
   },
   {
    "duration": 5,
    "start_time": "2024-08-05T13:40:24.749Z"
   },
   {
    "duration": 1021,
    "start_time": "2024-08-05T13:40:24.756Z"
   },
   {
    "duration": 245,
    "start_time": "2024-08-05T13:40:25.779Z"
   },
   {
    "duration": 6943,
    "start_time": "2024-08-05T13:40:26.028Z"
   },
   {
    "duration": 0,
    "start_time": "2024-08-05T13:40:32.973Z"
   },
   {
    "duration": 0,
    "start_time": "2024-08-05T13:40:32.974Z"
   },
   {
    "duration": 0,
    "start_time": "2024-08-05T13:40:32.975Z"
   },
   {
    "duration": 0,
    "start_time": "2024-08-05T13:40:32.975Z"
   },
   {
    "duration": 0,
    "start_time": "2024-08-05T13:40:32.977Z"
   },
   {
    "duration": 0,
    "start_time": "2024-08-05T13:40:32.978Z"
   },
   {
    "duration": 0,
    "start_time": "2024-08-05T13:40:32.979Z"
   },
   {
    "duration": 0,
    "start_time": "2024-08-05T13:40:32.980Z"
   },
   {
    "duration": 0,
    "start_time": "2024-08-05T13:40:32.981Z"
   },
   {
    "duration": 0,
    "start_time": "2024-08-05T13:40:32.982Z"
   },
   {
    "duration": 0,
    "start_time": "2024-08-05T13:40:32.983Z"
   },
   {
    "duration": 0,
    "start_time": "2024-08-05T13:40:32.984Z"
   },
   {
    "duration": 0,
    "start_time": "2024-08-05T13:40:32.985Z"
   },
   {
    "duration": 5507,
    "start_time": "2024-08-05T13:43:33.863Z"
   },
   {
    "duration": 1846,
    "start_time": "2024-08-05T13:43:39.372Z"
   },
   {
    "duration": 154,
    "start_time": "2024-08-05T13:43:41.219Z"
   },
   {
    "duration": 7,
    "start_time": "2024-08-05T13:43:41.375Z"
   },
   {
    "duration": 14,
    "start_time": "2024-08-05T13:43:41.384Z"
   },
   {
    "duration": 14,
    "start_time": "2024-08-05T13:43:41.399Z"
   },
   {
    "duration": 13,
    "start_time": "2024-08-05T13:43:41.414Z"
   },
   {
    "duration": 14,
    "start_time": "2024-08-05T13:43:41.429Z"
   },
   {
    "duration": 5,
    "start_time": "2024-08-05T13:43:41.445Z"
   },
   {
    "duration": 11,
    "start_time": "2024-08-05T13:43:41.451Z"
   },
   {
    "duration": 28,
    "start_time": "2024-08-05T13:43:41.463Z"
   },
   {
    "duration": 141,
    "start_time": "2024-08-05T13:43:41.493Z"
   },
   {
    "duration": 5,
    "start_time": "2024-08-05T13:43:41.636Z"
   },
   {
    "duration": 26,
    "start_time": "2024-08-05T13:43:41.645Z"
   },
   {
    "duration": 170,
    "start_time": "2024-08-05T13:43:41.674Z"
   },
   {
    "duration": 4,
    "start_time": "2024-08-05T13:43:41.846Z"
   },
   {
    "duration": 10,
    "start_time": "2024-08-05T13:43:41.851Z"
   },
   {
    "duration": 9,
    "start_time": "2024-08-05T13:43:41.862Z"
   },
   {
    "duration": 95,
    "start_time": "2024-08-05T13:43:41.872Z"
   },
   {
    "duration": 247,
    "start_time": "2024-08-05T13:43:41.970Z"
   },
   {
    "duration": 134,
    "start_time": "2024-08-05T13:43:42.219Z"
   },
   {
    "duration": 161,
    "start_time": "2024-08-05T13:43:42.355Z"
   },
   {
    "duration": 230,
    "start_time": "2024-08-05T13:43:42.518Z"
   },
   {
    "duration": 162,
    "start_time": "2024-08-05T13:43:42.749Z"
   },
   {
    "duration": 136,
    "start_time": "2024-08-05T13:43:42.912Z"
   },
   {
    "duration": 6,
    "start_time": "2024-08-05T13:43:43.050Z"
   },
   {
    "duration": 6,
    "start_time": "2024-08-05T13:43:43.057Z"
   },
   {
    "duration": 11,
    "start_time": "2024-08-05T13:43:43.064Z"
   },
   {
    "duration": 18,
    "start_time": "2024-08-05T13:43:43.077Z"
   },
   {
    "duration": 55,
    "start_time": "2024-08-05T13:43:43.097Z"
   },
   {
    "duration": 49,
    "start_time": "2024-08-05T13:43:43.154Z"
   },
   {
    "duration": 30,
    "start_time": "2024-08-05T13:43:43.205Z"
   },
   {
    "duration": 4,
    "start_time": "2024-08-05T13:43:43.237Z"
   },
   {
    "duration": 4,
    "start_time": "2024-08-05T13:43:43.243Z"
   },
   {
    "duration": 1001,
    "start_time": "2024-08-05T13:43:43.248Z"
   },
   {
    "duration": 83,
    "start_time": "2024-08-05T13:43:44.250Z"
   },
   {
    "duration": 4833,
    "start_time": "2024-08-05T13:43:44.335Z"
   },
   {
    "duration": 0,
    "start_time": "2024-08-05T13:43:49.171Z"
   },
   {
    "duration": 0,
    "start_time": "2024-08-05T13:43:49.172Z"
   },
   {
    "duration": 0,
    "start_time": "2024-08-05T13:43:49.174Z"
   },
   {
    "duration": 0,
    "start_time": "2024-08-05T13:43:49.175Z"
   },
   {
    "duration": 0,
    "start_time": "2024-08-05T13:43:49.177Z"
   },
   {
    "duration": 0,
    "start_time": "2024-08-05T13:43:49.178Z"
   },
   {
    "duration": 0,
    "start_time": "2024-08-05T13:43:49.180Z"
   },
   {
    "duration": 0,
    "start_time": "2024-08-05T13:43:49.181Z"
   },
   {
    "duration": 0,
    "start_time": "2024-08-05T13:43:49.183Z"
   },
   {
    "duration": 0,
    "start_time": "2024-08-05T13:43:49.184Z"
   },
   {
    "duration": 0,
    "start_time": "2024-08-05T13:43:49.186Z"
   },
   {
    "duration": 0,
    "start_time": "2024-08-05T13:43:49.187Z"
   },
   {
    "duration": 0,
    "start_time": "2024-08-05T13:43:49.189Z"
   },
   {
    "duration": 5449,
    "start_time": "2024-08-05T13:44:38.102Z"
   },
   {
    "duration": 1832,
    "start_time": "2024-08-05T13:44:43.553Z"
   },
   {
    "duration": 156,
    "start_time": "2024-08-05T13:44:45.387Z"
   },
   {
    "duration": 7,
    "start_time": "2024-08-05T13:44:45.545Z"
   },
   {
    "duration": 8,
    "start_time": "2024-08-05T13:44:45.554Z"
   },
   {
    "duration": 22,
    "start_time": "2024-08-05T13:44:45.564Z"
   },
   {
    "duration": 18,
    "start_time": "2024-08-05T13:44:45.587Z"
   },
   {
    "duration": 29,
    "start_time": "2024-08-05T13:44:45.606Z"
   },
   {
    "duration": 4,
    "start_time": "2024-08-05T13:44:45.637Z"
   },
   {
    "duration": 8,
    "start_time": "2024-08-05T13:44:45.643Z"
   },
   {
    "duration": 37,
    "start_time": "2024-08-05T13:44:45.652Z"
   },
   {
    "duration": 135,
    "start_time": "2024-08-05T13:44:45.691Z"
   },
   {
    "duration": 3,
    "start_time": "2024-08-05T13:44:45.828Z"
   },
   {
    "duration": 22,
    "start_time": "2024-08-05T13:44:45.832Z"
   },
   {
    "duration": 140,
    "start_time": "2024-08-05T13:44:45.855Z"
   },
   {
    "duration": 3,
    "start_time": "2024-08-05T13:44:45.997Z"
   },
   {
    "duration": 7,
    "start_time": "2024-08-05T13:44:46.001Z"
   },
   {
    "duration": 21,
    "start_time": "2024-08-05T13:44:46.009Z"
   },
   {
    "duration": 73,
    "start_time": "2024-08-05T13:44:46.032Z"
   },
   {
    "duration": 160,
    "start_time": "2024-08-05T13:44:46.106Z"
   },
   {
    "duration": 233,
    "start_time": "2024-08-05T13:44:46.267Z"
   },
   {
    "duration": 153,
    "start_time": "2024-08-05T13:44:46.502Z"
   },
   {
    "duration": 233,
    "start_time": "2024-08-05T13:44:46.657Z"
   },
   {
    "duration": 159,
    "start_time": "2024-08-05T13:44:46.892Z"
   },
   {
    "duration": 137,
    "start_time": "2024-08-05T13:44:47.053Z"
   },
   {
    "duration": 6,
    "start_time": "2024-08-05T13:44:47.192Z"
   },
   {
    "duration": 12,
    "start_time": "2024-08-05T13:44:47.200Z"
   },
   {
    "duration": 6,
    "start_time": "2024-08-05T13:44:47.226Z"
   },
   {
    "duration": 14,
    "start_time": "2024-08-05T13:44:47.234Z"
   },
   {
    "duration": 30,
    "start_time": "2024-08-05T13:44:47.249Z"
   },
   {
    "duration": 15,
    "start_time": "2024-08-05T13:44:47.280Z"
   },
   {
    "duration": 14,
    "start_time": "2024-08-05T13:44:47.325Z"
   },
   {
    "duration": 4,
    "start_time": "2024-08-05T13:44:47.340Z"
   },
   {
    "duration": 24,
    "start_time": "2024-08-05T13:44:47.346Z"
   },
   {
    "duration": 1029,
    "start_time": "2024-08-05T13:44:47.372Z"
   },
   {
    "duration": 223,
    "start_time": "2024-08-05T13:44:48.402Z"
   },
   {
    "duration": 1385,
    "start_time": "2024-08-05T13:44:48.628Z"
   },
   {
    "duration": 711,
    "start_time": "2024-08-05T13:44:50.014Z"
   },
   {
    "duration": 106,
    "start_time": "2024-08-05T13:44:50.728Z"
   },
   {
    "duration": 64,
    "start_time": "2024-08-05T13:44:50.835Z"
   },
   {
    "duration": 145,
    "start_time": "2024-08-05T13:44:50.901Z"
   },
   {
    "duration": 142,
    "start_time": "2024-08-05T13:44:51.048Z"
   },
   {
    "duration": 139,
    "start_time": "2024-08-05T13:44:51.191Z"
   },
   {
    "duration": 261,
    "start_time": "2024-08-05T13:44:51.332Z"
   },
   {
    "duration": 424,
    "start_time": "2024-08-05T13:44:51.594Z"
   },
   {
    "duration": 264,
    "start_time": "2024-08-05T13:44:52.023Z"
   },
   {
    "duration": 254,
    "start_time": "2024-08-05T13:44:52.288Z"
   },
   {
    "duration": 9,
    "start_time": "2024-08-05T13:44:52.544Z"
   },
   {
    "duration": 274,
    "start_time": "2024-08-05T13:44:52.555Z"
   },
   {
    "duration": 261,
    "start_time": "2024-08-05T13:44:52.830Z"
   },
   {
    "duration": 5553,
    "start_time": "2024-08-05T13:52:51.534Z"
   },
   {
    "duration": 1916,
    "start_time": "2024-08-05T13:52:57.089Z"
   },
   {
    "duration": 155,
    "start_time": "2024-08-05T13:52:59.007Z"
   },
   {
    "duration": 6,
    "start_time": "2024-08-05T13:52:59.164Z"
   },
   {
    "duration": 7,
    "start_time": "2024-08-05T13:52:59.172Z"
   },
   {
    "duration": 9,
    "start_time": "2024-08-05T13:52:59.181Z"
   },
   {
    "duration": 12,
    "start_time": "2024-08-05T13:52:59.192Z"
   },
   {
    "duration": 33,
    "start_time": "2024-08-05T13:52:59.205Z"
   },
   {
    "duration": 6,
    "start_time": "2024-08-05T13:52:59.239Z"
   },
   {
    "duration": 12,
    "start_time": "2024-08-05T13:52:59.247Z"
   },
   {
    "duration": 32,
    "start_time": "2024-08-05T13:52:59.260Z"
   },
   {
    "duration": 141,
    "start_time": "2024-08-05T13:52:59.293Z"
   },
   {
    "duration": 5,
    "start_time": "2024-08-05T13:52:59.436Z"
   },
   {
    "duration": 25,
    "start_time": "2024-08-05T13:52:59.442Z"
   },
   {
    "duration": 176,
    "start_time": "2024-08-05T13:52:59.468Z"
   },
   {
    "duration": 5,
    "start_time": "2024-08-05T13:52:59.646Z"
   },
   {
    "duration": 14,
    "start_time": "2024-08-05T13:52:59.653Z"
   },
   {
    "duration": 22,
    "start_time": "2024-08-05T13:52:59.668Z"
   },
   {
    "duration": 83,
    "start_time": "2024-08-05T13:52:59.692Z"
   },
   {
    "duration": 158,
    "start_time": "2024-08-05T13:52:59.776Z"
   },
   {
    "duration": 251,
    "start_time": "2024-08-05T13:52:59.935Z"
   },
   {
    "duration": 159,
    "start_time": "2024-08-05T13:53:00.188Z"
   },
   {
    "duration": 240,
    "start_time": "2024-08-05T13:53:00.349Z"
   },
   {
    "duration": 155,
    "start_time": "2024-08-05T13:53:00.591Z"
   },
   {
    "duration": 139,
    "start_time": "2024-08-05T13:53:00.748Z"
   },
   {
    "duration": 8,
    "start_time": "2024-08-05T13:53:00.888Z"
   },
   {
    "duration": 36,
    "start_time": "2024-08-05T13:53:00.898Z"
   },
   {
    "duration": 48,
    "start_time": "2024-08-05T13:53:00.937Z"
   },
   {
    "duration": 31,
    "start_time": "2024-08-05T13:53:00.987Z"
   },
   {
    "duration": 53,
    "start_time": "2024-08-05T13:53:01.020Z"
   },
   {
    "duration": 17,
    "start_time": "2024-08-05T13:53:01.074Z"
   },
   {
    "duration": 91,
    "start_time": "2024-08-05T13:53:01.092Z"
   },
   {
    "duration": 16,
    "start_time": "2024-08-05T13:53:01.184Z"
   },
   {
    "duration": 21,
    "start_time": "2024-08-05T13:53:01.202Z"
   },
   {
    "duration": 1052,
    "start_time": "2024-08-05T13:53:01.225Z"
   },
   {
    "duration": 147,
    "start_time": "2024-08-05T13:53:02.279Z"
   },
   {
    "duration": 1561,
    "start_time": "2024-08-05T13:53:02.428Z"
   },
   {
    "duration": 833,
    "start_time": "2024-08-05T13:53:03.991Z"
   },
   {
    "duration": 103,
    "start_time": "2024-08-05T13:53:04.827Z"
   },
   {
    "duration": 19,
    "start_time": "2024-08-05T13:53:04.931Z"
   },
   {
    "duration": 174,
    "start_time": "2024-08-05T13:53:04.952Z"
   },
   {
    "duration": 148,
    "start_time": "2024-08-05T13:53:05.127Z"
   },
   {
    "duration": 137,
    "start_time": "2024-08-05T13:53:05.276Z"
   },
   {
    "duration": 271,
    "start_time": "2024-08-05T13:53:05.414Z"
   },
   {
    "duration": 428,
    "start_time": "2024-08-05T13:53:05.687Z"
   },
   {
    "duration": 274,
    "start_time": "2024-08-05T13:53:06.117Z"
   },
   {
    "duration": 262,
    "start_time": "2024-08-05T13:53:06.392Z"
   },
   {
    "duration": 10,
    "start_time": "2024-08-05T13:53:06.656Z"
   },
   {
    "duration": 311,
    "start_time": "2024-08-05T13:53:06.668Z"
   },
   {
    "duration": 273,
    "start_time": "2024-08-05T13:53:06.981Z"
   },
   {
    "duration": 5723,
    "start_time": "2024-08-05T13:55:20.927Z"
   },
   {
    "duration": 1861,
    "start_time": "2024-08-05T13:55:26.653Z"
   },
   {
    "duration": 160,
    "start_time": "2024-08-05T13:55:28.516Z"
   },
   {
    "duration": 6,
    "start_time": "2024-08-05T13:55:28.678Z"
   },
   {
    "duration": 10,
    "start_time": "2024-08-05T13:55:28.686Z"
   },
   {
    "duration": 12,
    "start_time": "2024-08-05T13:55:28.697Z"
   },
   {
    "duration": 12,
    "start_time": "2024-08-05T13:55:28.710Z"
   },
   {
    "duration": 14,
    "start_time": "2024-08-05T13:55:28.724Z"
   },
   {
    "duration": 5,
    "start_time": "2024-08-05T13:55:28.739Z"
   },
   {
    "duration": 8,
    "start_time": "2024-08-05T13:55:28.745Z"
   },
   {
    "duration": 24,
    "start_time": "2024-08-05T13:55:28.755Z"
   },
   {
    "duration": 155,
    "start_time": "2024-08-05T13:55:28.780Z"
   },
   {
    "duration": 3,
    "start_time": "2024-08-05T13:55:28.937Z"
   },
   {
    "duration": 23,
    "start_time": "2024-08-05T13:55:28.943Z"
   },
   {
    "duration": 156,
    "start_time": "2024-08-05T13:55:28.968Z"
   },
   {
    "duration": 3,
    "start_time": "2024-08-05T13:55:29.126Z"
   },
   {
    "duration": 13,
    "start_time": "2024-08-05T13:55:29.130Z"
   },
   {
    "duration": 10,
    "start_time": "2024-08-05T13:55:29.145Z"
   },
   {
    "duration": 90,
    "start_time": "2024-08-05T13:55:29.156Z"
   },
   {
    "duration": 254,
    "start_time": "2024-08-05T13:55:29.247Z"
   },
   {
    "duration": 162,
    "start_time": "2024-08-05T13:55:29.503Z"
   },
   {
    "duration": 167,
    "start_time": "2024-08-05T13:55:29.667Z"
   },
   {
    "duration": 243,
    "start_time": "2024-08-05T13:55:29.836Z"
   },
   {
    "duration": 175,
    "start_time": "2024-08-05T13:55:30.080Z"
   },
   {
    "duration": 146,
    "start_time": "2024-08-05T13:55:30.256Z"
   },
   {
    "duration": 5,
    "start_time": "2024-08-05T13:55:30.404Z"
   },
   {
    "duration": 28,
    "start_time": "2024-08-05T13:55:30.410Z"
   },
   {
    "duration": 29,
    "start_time": "2024-08-05T13:55:30.440Z"
   },
   {
    "duration": 26,
    "start_time": "2024-08-05T13:55:30.470Z"
   },
   {
    "duration": 52,
    "start_time": "2024-08-05T13:55:30.497Z"
   },
   {
    "duration": 14,
    "start_time": "2024-08-05T13:55:30.551Z"
   },
   {
    "duration": 134,
    "start_time": "2024-08-05T13:55:30.567Z"
   },
   {
    "duration": 53,
    "start_time": "2024-08-05T13:55:30.703Z"
   },
   {
    "duration": 21,
    "start_time": "2024-08-05T13:55:30.757Z"
   },
   {
    "duration": 1057,
    "start_time": "2024-08-05T13:55:30.780Z"
   },
   {
    "duration": 188,
    "start_time": "2024-08-05T13:55:31.839Z"
   },
   {
    "duration": 1401,
    "start_time": "2024-08-05T13:55:32.029Z"
   },
   {
    "duration": 992,
    "start_time": "2024-08-05T13:55:33.432Z"
   },
   {
    "duration": 13,
    "start_time": "2024-08-05T13:55:34.426Z"
   },
   {
    "duration": 98,
    "start_time": "2024-08-05T13:55:34.440Z"
   },
   {
    "duration": 160,
    "start_time": "2024-08-05T13:55:34.543Z"
   },
   {
    "duration": 153,
    "start_time": "2024-08-05T13:55:34.705Z"
   },
   {
    "duration": 139,
    "start_time": "2024-08-05T13:55:34.860Z"
   },
   {
    "duration": 272,
    "start_time": "2024-08-05T13:55:35.001Z"
   },
   {
    "duration": 426,
    "start_time": "2024-08-05T13:55:35.275Z"
   },
   {
    "duration": 273,
    "start_time": "2024-08-05T13:55:35.703Z"
   },
   {
    "duration": 263,
    "start_time": "2024-08-05T13:55:35.977Z"
   },
   {
    "duration": 9,
    "start_time": "2024-08-05T13:55:36.242Z"
   },
   {
    "duration": 273,
    "start_time": "2024-08-05T13:55:36.252Z"
   },
   {
    "duration": 273,
    "start_time": "2024-08-05T13:55:36.527Z"
   },
   {
    "duration": 554,
    "start_time": "2024-08-05T13:59:15.486Z"
   },
   {
    "duration": 15,
    "start_time": "2024-08-05T13:59:22.070Z"
   },
   {
    "duration": 11,
    "start_time": "2024-08-05T13:59:25.950Z"
   },
   {
    "duration": 11,
    "start_time": "2024-08-05T14:02:41.360Z"
   },
   {
    "duration": 5795,
    "start_time": "2024-08-05T14:03:00.218Z"
   },
   {
    "duration": 1960,
    "start_time": "2024-08-05T14:03:06.015Z"
   },
   {
    "duration": 160,
    "start_time": "2024-08-05T14:03:07.977Z"
   },
   {
    "duration": 7,
    "start_time": "2024-08-05T14:03:08.139Z"
   },
   {
    "duration": 19,
    "start_time": "2024-08-05T14:03:08.148Z"
   },
   {
    "duration": 10,
    "start_time": "2024-08-05T14:03:08.169Z"
   },
   {
    "duration": 13,
    "start_time": "2024-08-05T14:03:08.181Z"
   },
   {
    "duration": 37,
    "start_time": "2024-08-05T14:03:08.196Z"
   },
   {
    "duration": 5,
    "start_time": "2024-08-05T14:03:08.234Z"
   },
   {
    "duration": 8,
    "start_time": "2024-08-05T14:03:08.241Z"
   },
   {
    "duration": 24,
    "start_time": "2024-08-05T14:03:08.251Z"
   },
   {
    "duration": 156,
    "start_time": "2024-08-05T14:03:08.277Z"
   },
   {
    "duration": 4,
    "start_time": "2024-08-05T14:03:08.435Z"
   },
   {
    "duration": 24,
    "start_time": "2024-08-05T14:03:08.441Z"
   },
   {
    "duration": 152,
    "start_time": "2024-08-05T14:03:08.466Z"
   },
   {
    "duration": 3,
    "start_time": "2024-08-05T14:03:08.624Z"
   },
   {
    "duration": 86,
    "start_time": "2024-08-05T14:03:08.629Z"
   },
   {
    "duration": 8,
    "start_time": "2024-08-05T14:03:08.717Z"
   },
   {
    "duration": 79,
    "start_time": "2024-08-05T14:03:08.726Z"
   },
   {
    "duration": 270,
    "start_time": "2024-08-05T14:03:08.807Z"
   },
   {
    "duration": 145,
    "start_time": "2024-08-05T14:03:09.079Z"
   },
   {
    "duration": 166,
    "start_time": "2024-08-05T14:03:09.225Z"
   },
   {
    "duration": 274,
    "start_time": "2024-08-05T14:03:09.393Z"
   },
   {
    "duration": 160,
    "start_time": "2024-08-05T14:03:09.668Z"
   },
   {
    "duration": 146,
    "start_time": "2024-08-05T14:03:09.830Z"
   },
   {
    "duration": 5,
    "start_time": "2024-08-05T14:03:09.978Z"
   },
   {
    "duration": 6,
    "start_time": "2024-08-05T14:03:09.985Z"
   },
   {
    "duration": 9,
    "start_time": "2024-08-05T14:03:09.992Z"
   },
   {
    "duration": 32,
    "start_time": "2024-08-05T14:03:10.003Z"
   },
   {
    "duration": 31,
    "start_time": "2024-08-05T14:03:10.037Z"
   },
   {
    "duration": 16,
    "start_time": "2024-08-05T14:03:10.070Z"
   },
   {
    "duration": 43,
    "start_time": "2024-08-05T14:03:10.088Z"
   },
   {
    "duration": 5,
    "start_time": "2024-08-05T14:03:10.133Z"
   },
   {
    "duration": 3,
    "start_time": "2024-08-05T14:03:10.140Z"
   },
   {
    "duration": 1112,
    "start_time": "2024-08-05T14:03:10.145Z"
   },
   {
    "duration": 174,
    "start_time": "2024-08-05T14:03:11.258Z"
   },
   {
    "duration": 1528,
    "start_time": "2024-08-05T14:03:11.434Z"
   },
   {
    "duration": 667,
    "start_time": "2024-08-05T14:03:12.964Z"
   },
   {
    "duration": 102,
    "start_time": "2024-08-05T14:03:13.635Z"
   },
   {
    "duration": 29,
    "start_time": "2024-08-05T14:03:13.739Z"
   },
   {
    "duration": 178,
    "start_time": "2024-08-05T14:03:13.773Z"
   },
   {
    "duration": 152,
    "start_time": "2024-08-05T14:03:13.953Z"
   },
   {
    "duration": 159,
    "start_time": "2024-08-05T14:03:14.107Z"
   },
   {
    "duration": 282,
    "start_time": "2024-08-05T14:03:14.267Z"
   },
   {
    "duration": 432,
    "start_time": "2024-08-05T14:03:14.551Z"
   },
   {
    "duration": 287,
    "start_time": "2024-08-05T14:03:14.984Z"
   },
   {
    "duration": 263,
    "start_time": "2024-08-05T14:03:15.272Z"
   },
   {
    "duration": 9,
    "start_time": "2024-08-05T14:03:15.536Z"
   },
   {
    "duration": 266,
    "start_time": "2024-08-05T14:03:15.547Z"
   },
   {
    "duration": 282,
    "start_time": "2024-08-05T14:03:15.814Z"
   },
   {
    "duration": 11365,
    "start_time": "2024-08-05T15:41:23.495Z"
   },
   {
    "duration": 1849,
    "start_time": "2024-08-05T15:41:34.862Z"
   },
   {
    "duration": 484,
    "start_time": "2024-08-05T15:41:36.713Z"
   },
   {
    "duration": 6,
    "start_time": "2024-08-05T15:41:37.199Z"
   },
   {
    "duration": 6,
    "start_time": "2024-08-05T15:41:37.207Z"
   },
   {
    "duration": 14,
    "start_time": "2024-08-05T15:41:37.215Z"
   },
   {
    "duration": 12,
    "start_time": "2024-08-05T15:41:37.230Z"
   },
   {
    "duration": 20,
    "start_time": "2024-08-05T15:41:37.243Z"
   },
   {
    "duration": 6,
    "start_time": "2024-08-05T15:41:37.264Z"
   },
   {
    "duration": 13,
    "start_time": "2024-08-05T15:41:37.272Z"
   },
   {
    "duration": 44,
    "start_time": "2024-08-05T15:41:37.286Z"
   },
   {
    "duration": 131,
    "start_time": "2024-08-05T15:41:37.332Z"
   },
   {
    "duration": 4,
    "start_time": "2024-08-05T15:41:37.465Z"
   },
   {
    "duration": 23,
    "start_time": "2024-08-05T15:41:37.471Z"
   },
   {
    "duration": 148,
    "start_time": "2024-08-05T15:41:37.496Z"
   },
   {
    "duration": 7,
    "start_time": "2024-08-05T15:41:37.646Z"
   },
   {
    "duration": 9,
    "start_time": "2024-08-05T15:41:37.655Z"
   },
   {
    "duration": 8,
    "start_time": "2024-08-05T15:41:37.665Z"
   },
   {
    "duration": 94,
    "start_time": "2024-08-05T15:41:37.675Z"
   },
   {
    "duration": 152,
    "start_time": "2024-08-05T15:41:37.771Z"
   },
   {
    "duration": 231,
    "start_time": "2024-08-05T15:41:37.925Z"
   },
   {
    "duration": 146,
    "start_time": "2024-08-05T15:41:38.158Z"
   },
   {
    "duration": 229,
    "start_time": "2024-08-05T15:41:38.305Z"
   },
   {
    "duration": 150,
    "start_time": "2024-08-05T15:41:38.536Z"
   },
   {
    "duration": 135,
    "start_time": "2024-08-05T15:41:38.687Z"
   },
   {
    "duration": 5,
    "start_time": "2024-08-05T15:41:38.823Z"
   },
   {
    "duration": 5,
    "start_time": "2024-08-05T15:41:38.830Z"
   },
   {
    "duration": 6,
    "start_time": "2024-08-05T15:41:38.852Z"
   },
   {
    "duration": 14,
    "start_time": "2024-08-05T15:41:38.859Z"
   },
   {
    "duration": 30,
    "start_time": "2024-08-05T15:41:38.875Z"
   },
   {
    "duration": 15,
    "start_time": "2024-08-05T15:41:38.906Z"
   },
   {
    "duration": 39,
    "start_time": "2024-08-05T15:41:38.923Z"
   },
   {
    "duration": 3,
    "start_time": "2024-08-05T15:41:38.964Z"
   },
   {
    "duration": 3,
    "start_time": "2024-08-05T15:41:38.969Z"
   },
   {
    "duration": 939,
    "start_time": "2024-08-05T15:41:38.973Z"
   },
   {
    "duration": 239,
    "start_time": "2024-08-05T15:41:39.914Z"
   },
   {
    "duration": 1333,
    "start_time": "2024-08-05T15:41:40.155Z"
   },
   {
    "duration": 154766,
    "start_time": "2024-08-05T15:41:41.490Z"
   },
   {
    "duration": 0,
    "start_time": "2024-08-05T15:44:16.257Z"
   },
   {
    "duration": 0,
    "start_time": "2024-08-05T15:44:16.258Z"
   },
   {
    "duration": 0,
    "start_time": "2024-08-05T15:44:16.259Z"
   },
   {
    "duration": 0,
    "start_time": "2024-08-05T15:44:16.261Z"
   },
   {
    "duration": 0,
    "start_time": "2024-08-05T15:44:16.262Z"
   },
   {
    "duration": 0,
    "start_time": "2024-08-05T15:44:16.263Z"
   },
   {
    "duration": 0,
    "start_time": "2024-08-05T15:44:16.264Z"
   },
   {
    "duration": 0,
    "start_time": "2024-08-05T15:44:16.265Z"
   },
   {
    "duration": 0,
    "start_time": "2024-08-05T15:44:16.266Z"
   },
   {
    "duration": 0,
    "start_time": "2024-08-05T15:44:16.267Z"
   },
   {
    "duration": 0,
    "start_time": "2024-08-05T15:44:16.268Z"
   },
   {
    "duration": 0,
    "start_time": "2024-08-05T15:44:16.269Z"
   },
   {
    "duration": 11,
    "start_time": "2024-08-05T15:45:41.048Z"
   },
   {
    "duration": 17,
    "start_time": "2024-08-05T15:45:41.061Z"
   },
   {
    "duration": 150,
    "start_time": "2024-08-05T15:45:41.080Z"
   },
   {
    "duration": 138,
    "start_time": "2024-08-05T15:45:41.233Z"
   },
   {
    "duration": 134,
    "start_time": "2024-08-05T15:45:41.372Z"
   },
   {
    "duration": 271,
    "start_time": "2024-08-05T15:45:41.507Z"
   },
   {
    "duration": 403,
    "start_time": "2024-08-05T15:45:41.779Z"
   },
   {
    "duration": 252,
    "start_time": "2024-08-05T15:45:42.184Z"
   },
   {
    "duration": 237,
    "start_time": "2024-08-05T15:45:42.437Z"
   },
   {
    "duration": 8,
    "start_time": "2024-08-05T15:45:42.676Z"
   },
   {
    "duration": 237,
    "start_time": "2024-08-05T15:45:42.685Z"
   },
   {
    "duration": 251,
    "start_time": "2024-08-05T15:45:42.923Z"
   },
   {
    "duration": 50,
    "start_time": "2024-08-06T07:39:08.203Z"
   },
   {
    "duration": 11382,
    "start_time": "2024-08-06T07:39:41.927Z"
   },
   {
    "duration": 2143,
    "start_time": "2024-08-06T07:39:53.312Z"
   },
   {
    "duration": 367,
    "start_time": "2024-08-06T07:39:55.456Z"
   },
   {
    "duration": 8,
    "start_time": "2024-08-06T07:39:55.825Z"
   },
   {
    "duration": 30,
    "start_time": "2024-08-06T07:39:55.835Z"
   },
   {
    "duration": 33,
    "start_time": "2024-08-06T07:39:55.866Z"
   },
   {
    "duration": 28,
    "start_time": "2024-08-06T07:39:55.900Z"
   },
   {
    "duration": 23,
    "start_time": "2024-08-06T07:39:55.929Z"
   },
   {
    "duration": 6,
    "start_time": "2024-08-06T07:39:55.954Z"
   },
   {
    "duration": 22,
    "start_time": "2024-08-06T07:39:55.963Z"
   },
   {
    "duration": 53,
    "start_time": "2024-08-06T07:39:55.986Z"
   },
   {
    "duration": 141,
    "start_time": "2024-08-06T07:39:56.040Z"
   },
   {
    "duration": 4,
    "start_time": "2024-08-06T07:39:56.182Z"
   },
   {
    "duration": 46,
    "start_time": "2024-08-06T07:39:56.187Z"
   },
   {
    "duration": 188,
    "start_time": "2024-08-06T07:39:56.234Z"
   },
   {
    "duration": 4,
    "start_time": "2024-08-06T07:39:56.424Z"
   },
   {
    "duration": 55,
    "start_time": "2024-08-06T07:39:56.430Z"
   },
   {
    "duration": 33,
    "start_time": "2024-08-06T07:39:56.487Z"
   },
   {
    "duration": 97,
    "start_time": "2024-08-06T07:39:56.522Z"
   },
   {
    "duration": 163,
    "start_time": "2024-08-06T07:39:56.620Z"
   },
   {
    "duration": 262,
    "start_time": "2024-08-06T07:39:56.785Z"
   },
   {
    "duration": 157,
    "start_time": "2024-08-06T07:39:57.048Z"
   },
   {
    "duration": 240,
    "start_time": "2024-08-06T07:39:57.207Z"
   },
   {
    "duration": 153,
    "start_time": "2024-08-06T07:39:57.448Z"
   },
   {
    "duration": 142,
    "start_time": "2024-08-06T07:39:57.605Z"
   },
   {
    "duration": 5,
    "start_time": "2024-08-06T07:39:57.749Z"
   },
   {
    "duration": 68,
    "start_time": "2024-08-06T07:39:57.755Z"
   },
   {
    "duration": 69,
    "start_time": "2024-08-06T07:39:57.827Z"
   },
   {
    "duration": 30,
    "start_time": "2024-08-06T07:39:57.898Z"
   },
   {
    "duration": 55,
    "start_time": "2024-08-06T07:39:57.930Z"
   },
   {
    "duration": 45,
    "start_time": "2024-08-06T07:39:57.987Z"
   },
   {
    "duration": 18,
    "start_time": "2024-08-06T07:39:58.034Z"
   },
   {
    "duration": 16,
    "start_time": "2024-08-06T07:39:58.053Z"
   },
   {
    "duration": 35,
    "start_time": "2024-08-06T07:39:58.071Z"
   },
   {
    "duration": 18,
    "start_time": "2024-08-06T07:39:58.108Z"
   },
   {
    "duration": 1097,
    "start_time": "2024-08-06T07:39:58.127Z"
   },
   {
    "duration": 282,
    "start_time": "2024-08-06T07:39:59.226Z"
   },
   {
    "duration": 1471,
    "start_time": "2024-08-06T07:39:59.514Z"
   },
   {
    "duration": 917,
    "start_time": "2024-08-06T07:40:00.988Z"
   },
   {
    "duration": 13,
    "start_time": "2024-08-06T07:40:01.908Z"
   },
   {
    "duration": 71,
    "start_time": "2024-08-06T07:40:01.924Z"
   },
   {
    "duration": 308,
    "start_time": "2024-08-06T07:40:01.998Z"
   },
   {
    "duration": 143,
    "start_time": "2024-08-06T07:40:02.308Z"
   },
   {
    "duration": 159,
    "start_time": "2024-08-06T07:40:02.453Z"
   },
   {
    "duration": 284,
    "start_time": "2024-08-06T07:40:02.614Z"
   },
   {
    "duration": 625,
    "start_time": "2024-08-06T07:40:02.904Z"
   },
   {
    "duration": 378,
    "start_time": "2024-08-06T07:40:03.530Z"
   },
   {
    "duration": 263,
    "start_time": "2024-08-06T07:40:03.910Z"
   },
   {
    "duration": 11,
    "start_time": "2024-08-06T07:40:04.175Z"
   },
   {
    "duration": 354,
    "start_time": "2024-08-06T07:40:04.204Z"
   },
   {
    "duration": 294,
    "start_time": "2024-08-06T07:40:04.569Z"
   },
   {
    "duration": 28,
    "start_time": "2024-08-06T07:50:28.510Z"
   },
   {
    "duration": 5841,
    "start_time": "2024-08-06T07:50:35.955Z"
   },
   {
    "duration": 2048,
    "start_time": "2024-08-06T07:50:41.799Z"
   },
   {
    "duration": 149,
    "start_time": "2024-08-06T07:50:43.849Z"
   },
   {
    "duration": 7,
    "start_time": "2024-08-06T07:50:44.000Z"
   },
   {
    "duration": 18,
    "start_time": "2024-08-06T07:50:44.009Z"
   },
   {
    "duration": 45,
    "start_time": "2024-08-06T07:50:44.029Z"
   },
   {
    "duration": 33,
    "start_time": "2024-08-06T07:50:44.075Z"
   },
   {
    "duration": 20,
    "start_time": "2024-08-06T07:50:44.109Z"
   },
   {
    "duration": 18,
    "start_time": "2024-08-06T07:50:44.131Z"
   },
   {
    "duration": 24,
    "start_time": "2024-08-06T07:50:44.152Z"
   },
   {
    "duration": 62,
    "start_time": "2024-08-06T07:50:44.178Z"
   },
   {
    "duration": 187,
    "start_time": "2024-08-06T07:50:44.242Z"
   },
   {
    "duration": 3,
    "start_time": "2024-08-06T07:50:44.431Z"
   },
   {
    "duration": 45,
    "start_time": "2024-08-06T07:50:44.436Z"
   },
   {
    "duration": 138,
    "start_time": "2024-08-06T07:50:44.483Z"
   },
   {
    "duration": 4,
    "start_time": "2024-08-06T07:50:44.623Z"
   },
   {
    "duration": 66,
    "start_time": "2024-08-06T07:50:44.629Z"
   },
   {
    "duration": 46,
    "start_time": "2024-08-06T07:50:44.697Z"
   },
   {
    "duration": 126,
    "start_time": "2024-08-06T07:50:44.744Z"
   },
   {
    "duration": 178,
    "start_time": "2024-08-06T07:50:44.871Z"
   },
   {
    "duration": 272,
    "start_time": "2024-08-06T07:50:45.051Z"
   },
   {
    "duration": 168,
    "start_time": "2024-08-06T07:50:45.325Z"
   },
   {
    "duration": 250,
    "start_time": "2024-08-06T07:50:45.494Z"
   },
   {
    "duration": 168,
    "start_time": "2024-08-06T07:50:45.745Z"
   },
   {
    "duration": 169,
    "start_time": "2024-08-06T07:50:45.915Z"
   },
   {
    "duration": 6,
    "start_time": "2024-08-06T07:50:46.086Z"
   },
   {
    "duration": 18,
    "start_time": "2024-08-06T07:50:46.105Z"
   },
   {
    "duration": 26,
    "start_time": "2024-08-06T07:50:46.127Z"
   },
   {
    "duration": 38,
    "start_time": "2024-08-06T07:50:46.155Z"
   },
   {
    "duration": 42,
    "start_time": "2024-08-06T07:50:46.195Z"
   },
   {
    "duration": 92,
    "start_time": "2024-08-06T07:50:46.239Z"
   },
   {
    "duration": 20,
    "start_time": "2024-08-06T07:50:46.333Z"
   },
   {
    "duration": 18,
    "start_time": "2024-08-06T07:50:46.356Z"
   },
   {
    "duration": 31,
    "start_time": "2024-08-06T07:50:46.376Z"
   },
   {
    "duration": 6,
    "start_time": "2024-08-06T07:50:46.410Z"
   },
   {
    "duration": 196,
    "start_time": "2024-08-06T07:50:46.418Z"
   },
   {
    "duration": 0,
    "start_time": "2024-08-06T07:50:46.617Z"
   },
   {
    "duration": 0,
    "start_time": "2024-08-06T07:50:46.618Z"
   },
   {
    "duration": 0,
    "start_time": "2024-08-06T07:50:46.620Z"
   },
   {
    "duration": 0,
    "start_time": "2024-08-06T07:50:46.622Z"
   },
   {
    "duration": 0,
    "start_time": "2024-08-06T07:50:46.623Z"
   },
   {
    "duration": 0,
    "start_time": "2024-08-06T07:50:46.625Z"
   },
   {
    "duration": 1,
    "start_time": "2024-08-06T07:50:46.626Z"
   },
   {
    "duration": 0,
    "start_time": "2024-08-06T07:50:46.628Z"
   },
   {
    "duration": 0,
    "start_time": "2024-08-06T07:50:46.630Z"
   },
   {
    "duration": 1,
    "start_time": "2024-08-06T07:50:46.631Z"
   },
   {
    "duration": 0,
    "start_time": "2024-08-06T07:50:46.633Z"
   },
   {
    "duration": 0,
    "start_time": "2024-08-06T07:50:46.634Z"
   },
   {
    "duration": 0,
    "start_time": "2024-08-06T07:50:46.636Z"
   },
   {
    "duration": 0,
    "start_time": "2024-08-06T07:50:46.638Z"
   },
   {
    "duration": 0,
    "start_time": "2024-08-06T07:50:46.639Z"
   },
   {
    "duration": 5763,
    "start_time": "2024-08-06T07:54:59.999Z"
   },
   {
    "duration": 1968,
    "start_time": "2024-08-06T07:55:05.764Z"
   },
   {
    "duration": 139,
    "start_time": "2024-08-06T07:55:07.733Z"
   },
   {
    "duration": 6,
    "start_time": "2024-08-06T07:55:07.874Z"
   },
   {
    "duration": 8,
    "start_time": "2024-08-06T07:55:07.882Z"
   },
   {
    "duration": 29,
    "start_time": "2024-08-06T07:55:07.891Z"
   },
   {
    "duration": 23,
    "start_time": "2024-08-06T07:55:07.922Z"
   },
   {
    "duration": 19,
    "start_time": "2024-08-06T07:55:07.947Z"
   },
   {
    "duration": 7,
    "start_time": "2024-08-06T07:55:07.968Z"
   },
   {
    "duration": 32,
    "start_time": "2024-08-06T07:55:07.978Z"
   },
   {
    "duration": 46,
    "start_time": "2024-08-06T07:55:08.012Z"
   },
   {
    "duration": 135,
    "start_time": "2024-08-06T07:55:08.060Z"
   },
   {
    "duration": 4,
    "start_time": "2024-08-06T07:55:08.205Z"
   },
   {
    "duration": 31,
    "start_time": "2024-08-06T07:55:08.211Z"
   },
   {
    "duration": 145,
    "start_time": "2024-08-06T07:55:08.244Z"
   },
   {
    "duration": 15,
    "start_time": "2024-08-06T07:55:08.391Z"
   },
   {
    "duration": 38,
    "start_time": "2024-08-06T07:55:08.408Z"
   },
   {
    "duration": 28,
    "start_time": "2024-08-06T07:55:08.448Z"
   },
   {
    "duration": 80,
    "start_time": "2024-08-06T07:55:08.478Z"
   },
   {
    "duration": 162,
    "start_time": "2024-08-06T07:55:08.560Z"
   },
   {
    "duration": 253,
    "start_time": "2024-08-06T07:55:08.724Z"
   },
   {
    "duration": 167,
    "start_time": "2024-08-06T07:55:08.979Z"
   },
   {
    "duration": 285,
    "start_time": "2024-08-06T07:55:09.148Z"
   },
   {
    "duration": 182,
    "start_time": "2024-08-06T07:55:09.435Z"
   },
   {
    "duration": 146,
    "start_time": "2024-08-06T07:55:09.619Z"
   },
   {
    "duration": 6,
    "start_time": "2024-08-06T07:55:09.767Z"
   },
   {
    "duration": 75,
    "start_time": "2024-08-06T07:55:09.774Z"
   },
   {
    "duration": 14,
    "start_time": "2024-08-06T07:55:09.853Z"
   },
   {
    "duration": 22,
    "start_time": "2024-08-06T07:55:09.869Z"
   },
   {
    "duration": 46,
    "start_time": "2024-08-06T07:55:09.892Z"
   },
   {
    "duration": 34,
    "start_time": "2024-08-06T07:55:09.940Z"
   },
   {
    "duration": 30,
    "start_time": "2024-08-06T07:55:09.975Z"
   },
   {
    "duration": 15,
    "start_time": "2024-08-06T07:55:10.007Z"
   },
   {
    "duration": 24,
    "start_time": "2024-08-06T07:55:10.024Z"
   },
   {
    "duration": 35,
    "start_time": "2024-08-06T07:55:10.050Z"
   },
   {
    "duration": 172,
    "start_time": "2024-08-06T07:55:10.087Z"
   },
   {
    "duration": 0,
    "start_time": "2024-08-06T07:55:10.260Z"
   },
   {
    "duration": 0,
    "start_time": "2024-08-06T07:55:10.262Z"
   },
   {
    "duration": 0,
    "start_time": "2024-08-06T07:55:10.263Z"
   },
   {
    "duration": 0,
    "start_time": "2024-08-06T07:55:10.265Z"
   },
   {
    "duration": 0,
    "start_time": "2024-08-06T07:55:10.266Z"
   },
   {
    "duration": 0,
    "start_time": "2024-08-06T07:55:10.267Z"
   },
   {
    "duration": 0,
    "start_time": "2024-08-06T07:55:10.268Z"
   },
   {
    "duration": 0,
    "start_time": "2024-08-06T07:55:10.269Z"
   },
   {
    "duration": 0,
    "start_time": "2024-08-06T07:55:10.269Z"
   },
   {
    "duration": 0,
    "start_time": "2024-08-06T07:55:10.271Z"
   },
   {
    "duration": 0,
    "start_time": "2024-08-06T07:55:10.272Z"
   },
   {
    "duration": 0,
    "start_time": "2024-08-06T07:55:10.272Z"
   },
   {
    "duration": 0,
    "start_time": "2024-08-06T07:55:10.274Z"
   },
   {
    "duration": 0,
    "start_time": "2024-08-06T07:55:10.275Z"
   },
   {
    "duration": 0,
    "start_time": "2024-08-06T07:55:10.276Z"
   },
   {
    "duration": 3,
    "start_time": "2024-08-06T07:59:19.122Z"
   },
   {
    "duration": 1438,
    "start_time": "2024-08-06T07:59:21.290Z"
   },
   {
    "duration": 1457,
    "start_time": "2024-08-06T08:11:50.237Z"
   },
   {
    "duration": 482,
    "start_time": "2024-08-06T08:12:50.023Z"
   },
   {
    "duration": 437,
    "start_time": "2024-08-06T08:15:01.975Z"
   },
   {
    "duration": 415,
    "start_time": "2024-08-06T08:19:17.691Z"
   },
   {
    "duration": 1393,
    "start_time": "2024-08-06T08:19:31.706Z"
   },
   {
    "duration": 1072,
    "start_time": "2024-08-06T08:23:33.121Z"
   },
   {
    "duration": 3,
    "start_time": "2024-08-06T08:26:05.423Z"
   },
   {
    "duration": 1591,
    "start_time": "2024-08-06T08:26:08.542Z"
   },
   {
    "duration": 514,
    "start_time": "2024-08-06T08:26:13.300Z"
   },
   {
    "duration": 7280,
    "start_time": "2024-08-06T08:27:34.870Z"
   },
   {
    "duration": 1236,
    "start_time": "2024-08-06T08:30:01.046Z"
   },
   {
    "duration": 892,
    "start_time": "2024-08-06T08:30:54.015Z"
   },
   {
    "duration": 270880,
    "start_time": "2024-08-06T08:31:21.318Z"
   },
   {
    "duration": 30341,
    "start_time": "2024-08-06T08:36:34.190Z"
   },
   {
    "duration": 8552,
    "start_time": "2024-08-06T08:37:11.400Z"
   },
   {
    "duration": 2327,
    "start_time": "2024-08-06T08:37:19.955Z"
   },
   {
    "duration": 147,
    "start_time": "2024-08-06T08:37:22.284Z"
   },
   {
    "duration": 7,
    "start_time": "2024-08-06T08:37:22.433Z"
   },
   {
    "duration": 52,
    "start_time": "2024-08-06T08:37:22.442Z"
   },
   {
    "duration": 33,
    "start_time": "2024-08-06T08:37:22.496Z"
   },
   {
    "duration": 30,
    "start_time": "2024-08-06T08:37:22.532Z"
   },
   {
    "duration": 20,
    "start_time": "2024-08-06T08:37:22.564Z"
   },
   {
    "duration": 6,
    "start_time": "2024-08-06T08:37:22.587Z"
   },
   {
    "duration": 15,
    "start_time": "2024-08-06T08:37:22.604Z"
   },
   {
    "duration": 76,
    "start_time": "2024-08-06T08:37:22.621Z"
   },
   {
    "duration": 251,
    "start_time": "2024-08-06T08:37:22.698Z"
   },
   {
    "duration": 5,
    "start_time": "2024-08-06T08:37:22.951Z"
   },
   {
    "duration": 48,
    "start_time": "2024-08-06T08:37:22.958Z"
   },
   {
    "duration": 251,
    "start_time": "2024-08-06T08:37:23.008Z"
   },
   {
    "duration": 4,
    "start_time": "2024-08-06T08:37:23.261Z"
   },
   {
    "duration": 18,
    "start_time": "2024-08-06T08:37:23.266Z"
   },
   {
    "duration": 23,
    "start_time": "2024-08-06T08:37:23.286Z"
   },
   {
    "duration": 76,
    "start_time": "2024-08-06T08:37:23.311Z"
   },
   {
    "duration": 247,
    "start_time": "2024-08-06T08:37:23.404Z"
   },
   {
    "duration": 372,
    "start_time": "2024-08-06T08:37:23.653Z"
   },
   {
    "duration": 239,
    "start_time": "2024-08-06T08:37:24.027Z"
   },
   {
    "duration": 346,
    "start_time": "2024-08-06T08:37:24.269Z"
   },
   {
    "duration": 259,
    "start_time": "2024-08-06T08:37:24.616Z"
   },
   {
    "duration": 259,
    "start_time": "2024-08-06T08:37:24.877Z"
   },
   {
    "duration": 6,
    "start_time": "2024-08-06T08:37:25.137Z"
   },
   {
    "duration": 15,
    "start_time": "2024-08-06T08:37:25.145Z"
   },
   {
    "duration": 18,
    "start_time": "2024-08-06T08:37:25.163Z"
   },
   {
    "duration": 17,
    "start_time": "2024-08-06T08:37:25.183Z"
   },
   {
    "duration": 35,
    "start_time": "2024-08-06T08:37:25.206Z"
   },
   {
    "duration": 45,
    "start_time": "2024-08-06T08:37:25.243Z"
   },
   {
    "duration": 28,
    "start_time": "2024-08-06T08:37:25.290Z"
   },
   {
    "duration": 18,
    "start_time": "2024-08-06T08:37:25.320Z"
   },
   {
    "duration": 9,
    "start_time": "2024-08-06T08:37:25.340Z"
   },
   {
    "duration": 27,
    "start_time": "2024-08-06T08:37:25.351Z"
   },
   {
    "duration": 1094,
    "start_time": "2024-08-06T08:37:25.380Z"
   },
   {
    "duration": 538,
    "start_time": "2024-08-06T08:37:26.476Z"
   },
   {
    "duration": 1444,
    "start_time": "2024-08-06T08:37:27.205Z"
   },
   {
    "duration": 280433,
    "start_time": "2024-08-06T08:37:28.652Z"
   },
   {
    "duration": 26,
    "start_time": "2024-08-06T08:42:09.087Z"
   },
   {
    "duration": 114,
    "start_time": "2024-08-06T08:42:09.115Z"
   },
   {
    "duration": 327,
    "start_time": "2024-08-06T08:42:09.231Z"
   },
   {
    "duration": 147,
    "start_time": "2024-08-06T08:42:09.560Z"
   },
   {
    "duration": 135,
    "start_time": "2024-08-06T08:42:09.709Z"
   },
   {
    "duration": 420,
    "start_time": "2024-08-06T08:42:09.846Z"
   },
   {
    "duration": 511,
    "start_time": "2024-08-06T08:42:10.268Z"
   },
   {
    "duration": 474,
    "start_time": "2024-08-06T08:42:10.781Z"
   },
   {
    "duration": 474,
    "start_time": "2024-08-06T08:42:11.257Z"
   },
   {
    "duration": 10,
    "start_time": "2024-08-06T08:42:11.732Z"
   },
   {
    "duration": 514,
    "start_time": "2024-08-06T08:42:11.744Z"
   },
   {
    "duration": 686,
    "start_time": "2024-08-06T08:42:12.261Z"
   },
   {
    "duration": 10,
    "start_time": "2024-08-06T08:46:09.676Z"
   },
   {
    "duration": 14,
    "start_time": "2024-08-06T08:46:20.563Z"
   },
   {
    "duration": 211,
    "start_time": "2024-08-06T08:54:56.019Z"
   },
   {
    "duration": 5,
    "start_time": "2024-08-06T08:55:28.238Z"
   },
   {
    "duration": 47,
    "start_time": "2024-08-06T08:55:34.911Z"
   },
   {
    "duration": 13,
    "start_time": "2024-08-06T08:56:04.711Z"
   },
   {
    "duration": 17,
    "start_time": "2024-08-06T08:57:05.304Z"
   },
   {
    "duration": 19,
    "start_time": "2024-08-06T08:58:15.960Z"
   },
   {
    "duration": 1295,
    "start_time": "2024-08-06T09:02:31.032Z"
   },
   {
    "duration": 19609,
    "start_time": "2024-08-06T13:36:27.273Z"
   },
   {
    "duration": 2353,
    "start_time": "2024-08-06T13:36:46.885Z"
   },
   {
    "duration": 367,
    "start_time": "2024-08-06T13:36:49.240Z"
   },
   {
    "duration": 6,
    "start_time": "2024-08-06T13:36:49.609Z"
   },
   {
    "duration": 41,
    "start_time": "2024-08-06T13:36:49.617Z"
   },
   {
    "duration": 25,
    "start_time": "2024-08-06T13:36:49.660Z"
   },
   {
    "duration": 13,
    "start_time": "2024-08-06T13:36:49.687Z"
   },
   {
    "duration": 65,
    "start_time": "2024-08-06T13:36:49.701Z"
   },
   {
    "duration": 81,
    "start_time": "2024-08-06T13:36:49.767Z"
   },
   {
    "duration": 26,
    "start_time": "2024-08-06T13:36:49.851Z"
   },
   {
    "duration": 47,
    "start_time": "2024-08-06T13:36:49.879Z"
   },
   {
    "duration": 376,
    "start_time": "2024-08-06T13:36:49.928Z"
   },
   {
    "duration": 3,
    "start_time": "2024-08-06T13:36:50.305Z"
   },
   {
    "duration": 37,
    "start_time": "2024-08-06T13:36:50.310Z"
   },
   {
    "duration": 223,
    "start_time": "2024-08-06T13:36:50.348Z"
   },
   {
    "duration": 6,
    "start_time": "2024-08-06T13:36:50.573Z"
   },
   {
    "duration": 16,
    "start_time": "2024-08-06T13:36:50.580Z"
   },
   {
    "duration": 30,
    "start_time": "2024-08-06T13:36:50.597Z"
   },
   {
    "duration": 84,
    "start_time": "2024-08-06T13:36:50.629Z"
   },
   {
    "duration": 280,
    "start_time": "2024-08-06T13:36:50.715Z"
   },
   {
    "duration": 261,
    "start_time": "2024-08-06T13:36:50.996Z"
   },
   {
    "duration": 234,
    "start_time": "2024-08-06T13:36:51.258Z"
   },
   {
    "duration": 332,
    "start_time": "2024-08-06T13:36:51.494Z"
   },
   {
    "duration": 251,
    "start_time": "2024-08-06T13:36:51.828Z"
   },
   {
    "duration": 204,
    "start_time": "2024-08-06T13:36:52.081Z"
   },
   {
    "duration": 6,
    "start_time": "2024-08-06T13:36:52.288Z"
   },
   {
    "duration": 25,
    "start_time": "2024-08-06T13:36:52.295Z"
   },
   {
    "duration": 28,
    "start_time": "2024-08-06T13:36:52.323Z"
   },
   {
    "duration": 20,
    "start_time": "2024-08-06T13:36:52.352Z"
   },
   {
    "duration": 50,
    "start_time": "2024-08-06T13:36:52.374Z"
   },
   {
    "duration": 34,
    "start_time": "2024-08-06T13:36:52.426Z"
   },
   {
    "duration": 29,
    "start_time": "2024-08-06T13:36:52.462Z"
   },
   {
    "duration": 78,
    "start_time": "2024-08-06T13:36:52.494Z"
   },
   {
    "duration": 11,
    "start_time": "2024-08-06T13:36:52.573Z"
   },
   {
    "duration": 26,
    "start_time": "2024-08-06T13:36:52.586Z"
   },
   {
    "duration": 997,
    "start_time": "2024-08-06T13:36:52.614Z"
   },
   {
    "duration": 334,
    "start_time": "2024-08-06T13:36:53.612Z"
   },
   {
    "duration": 1445,
    "start_time": "2024-08-06T13:36:54.038Z"
   },
   {
    "duration": 247487,
    "start_time": "2024-08-06T13:36:55.485Z"
   },
   {
    "duration": 33,
    "start_time": "2024-08-06T13:41:02.974Z"
   },
   {
    "duration": 38,
    "start_time": "2024-08-06T13:41:03.009Z"
   },
   {
    "duration": 1302,
    "start_time": "2024-08-06T13:41:03.049Z"
   }
  ],
  "kernelspec": {
   "display_name": "Python 3 (ipykernel)",
   "language": "python",
   "name": "python3"
  },
  "language_info": {
   "codemirror_mode": {
    "name": "ipython",
    "version": 3
   },
   "file_extension": ".py",
   "mimetype": "text/x-python",
   "name": "python",
   "nbconvert_exporter": "python",
   "pygments_lexer": "ipython3",
   "version": "3.9.5"
  },
  "toc": {
   "base_numbering": 1,
   "nav_menu": {},
   "number_sections": true,
   "sideBar": true,
   "skip_h1_title": false,
   "title_cell": "Table of Contents",
   "title_sidebar": "Contents",
   "toc_cell": false,
   "toc_position": {
    "height": "calc(100% - 180px)",
    "left": "10px",
    "top": "150px",
    "width": "180px"
   },
   "toc_section_display": true,
   "toc_window_display": true
  }
 },
 "nbformat": 4,
 "nbformat_minor": 5
}
